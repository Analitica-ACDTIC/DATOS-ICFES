{
 "cells": [
  {
   "cell_type": "code",
   "execution_count": 2,
   "id": "regulated-multimedia",
   "metadata": {},
   "outputs": [],
   "source": [
    "import pandas as pd"
   ]
  },
  {
   "cell_type": "code",
   "execution_count": 48,
   "id": "official-maintenance",
   "metadata": {},
   "outputs": [
    {
     "name": "stdout",
     "output_type": "stream",
     "text": [
      "Collecting plotly\n",
      "  Using cached plotly-4.14.3-py2.py3-none-any.whl (13.2 MB)\n",
      "Collecting retrying>=1.3.3\n",
      "  Using cached retrying-1.3.3-py3-none-any.whl\n",
      "Requirement already satisfied: six in ./icfes/lib/python3.9/site-packages (from plotly) (1.15.0)\n",
      "Installing collected packages: retrying, plotly\n",
      "Successfully installed plotly-4.14.3 retrying-1.3.3\n"
     ]
    }
   ],
   "source": [
    "!pip install plotly"
   ]
  },
  {
   "cell_type": "code",
   "execution_count": 3,
   "id": "essential-stick",
   "metadata": {},
   "outputs": [],
   "source": [
    "from datetime import datetime"
   ]
  },
  {
   "cell_type": "code",
   "execution_count": 4,
   "id": "leading-struggle",
   "metadata": {},
   "outputs": [],
   "source": [
    "df_icfes = {}"
   ]
  },
  {
   "cell_type": "code",
   "execution_count": 5,
   "id": "honey-diagnosis",
   "metadata": {},
   "outputs": [],
   "source": [
    "df_icfes['2020-2'] = pd.read_csv('./data/Saber_11__2020-2.csv')"
   ]
  },
  {
   "cell_type": "code",
   "execution_count": 6,
   "id": "brown-disclosure",
   "metadata": {},
   "outputs": [],
   "source": [
    "df_icfes['2020-1'] = pd.read_csv('./data/Saber_11__2020-1.csv')"
   ]
  },
  {
   "cell_type": "code",
   "execution_count": 7,
   "id": "intermediate-tournament",
   "metadata": {},
   "outputs": [
    {
     "name": "stderr",
     "output_type": "stream",
     "text": [
      "/Users/jfmolano/DATOS-ICFES/icfes/lib/python3.9/site-packages/IPython/core/interactiveshell.py:3165: DtypeWarning: Columns (76,78) have mixed types.Specify dtype option on import or set low_memory=False.\n",
      "  has_raised = await self.run_ast_nodes(code_ast.body, cell_name,\n"
     ]
    }
   ],
   "source": [
    "df_icfes['2019-2'] = pd.read_csv('./data/Saber_11__2019-2.csv')"
   ]
  },
  {
   "cell_type": "code",
   "execution_count": 8,
   "id": "protective-ecuador",
   "metadata": {},
   "outputs": [
    {
     "name": "stderr",
     "output_type": "stream",
     "text": [
      "/Users/jfmolano/DATOS-ICFES/icfes/lib/python3.9/site-packages/IPython/core/interactiveshell.py:3165: DtypeWarning: Columns (18,19,20,21,22,24,34,37,38,65,66,67,68,69,70,71,72,73,75,76,77,78,80,82) have mixed types.Specify dtype option on import or set low_memory=False.\n",
      "  has_raised = await self.run_ast_nodes(code_ast.body, cell_name,\n"
     ]
    }
   ],
   "source": [
    "df_icfes['2019-1'] = pd.read_csv('./data/Saber11_2019_1.csv', encoding='latin-1')"
   ]
  },
  {
   "cell_type": "code",
   "execution_count": 9,
   "id": "fancy-handbook",
   "metadata": {},
   "outputs": [
    {
     "name": "stderr",
     "output_type": "stream",
     "text": [
      "/Users/jfmolano/DATOS-ICFES/icfes/lib/python3.9/site-packages/IPython/core/interactiveshell.py:3165: DtypeWarning: Columns (5,19,21,22,25,27,28,29,30,31,38) have mixed types.Specify dtype option on import or set low_memory=False.\n",
      "  has_raised = await self.run_ast_nodes(code_ast.body, cell_name,\n"
     ]
    }
   ],
   "source": [
    "df_icfes['2018-2'] = pd.read_csv('./data/Saber11_2018_2.csv', encoding='latin-1')"
   ]
  },
  {
   "cell_type": "code",
   "execution_count": 10,
   "id": "forward-above",
   "metadata": {},
   "outputs": [
    {
     "name": "stderr",
     "output_type": "stream",
     "text": [
      "/Users/jfmolano/DATOS-ICFES/icfes/lib/python3.9/site-packages/IPython/core/interactiveshell.py:3165: DtypeWarning: Columns (11,13,14) have mixed types.Specify dtype option on import or set low_memory=False.\n",
      "  has_raised = await self.run_ast_nodes(code_ast.body, cell_name,\n"
     ]
    }
   ],
   "source": [
    "df_icfes['2018-1'] = pd.read_csv('./data/Resultados_Saber_11_2018-1_Refinado.csv')"
   ]
  },
  {
   "cell_type": "code",
   "execution_count": 11,
   "id": "functional-blanket",
   "metadata": {},
   "outputs": [],
   "source": [
    "df_icfes['2018-1'].columns = list(map(lambda x:x.upper(),list(df_icfes['2018-1'].columns)))"
   ]
  },
  {
   "cell_type": "code",
   "execution_count": 12,
   "id": "material-figure",
   "metadata": {},
   "outputs": [
    {
     "name": "stderr",
     "output_type": "stream",
     "text": [
      "/Users/jfmolano/DATOS-ICFES/icfes/lib/python3.9/site-packages/IPython/core/interactiveshell.py:3165: DtypeWarning: Columns (5,19,21,22,23,25,26,27,28) have mixed types.Specify dtype option on import or set low_memory=False.\n",
      "  has_raised = await self.run_ast_nodes(code_ast.body, cell_name,\n"
     ]
    }
   ],
   "source": [
    "df_icfes['2017-2'] = pd.read_csv('./data/Saber11_2017_2.csv', encoding='latin-1')"
   ]
  },
  {
   "cell_type": "code",
   "execution_count": 13,
   "id": "stunning-lightning",
   "metadata": {},
   "outputs": [],
   "source": [
    "# df_saber_2020_2.columns"
   ]
  },
  {
   "cell_type": "code",
   "execution_count": 14,
   "id": "isolated-reward",
   "metadata": {},
   "outputs": [],
   "source": [
    "selected_columns = ['ESTU_GENERO',\n",
    "       'PERIODO', 'ESTU_CONSECUTIVO',\n",
    "       'ESTU_DEPTO_RESIDE', 'ESTU_COD_RESIDE_DEPTO', 'ESTU_MCPIO_RESIDE',\n",
    "       'ESTU_COD_RESIDE_MCPIO', 'FAMI_ESTRATOVIVIENDA',\n",
    "       # 'FAMI_TIENEINTERNET',\n",
    "       'FAMI_TIENECOMPUTADOR',\n",
    "       'ESTU_DEDICACIONINTERNET',\n",
    "       'PUNT_LECTURA_CRITICA',\n",
    "       'PUNT_MATEMATICAS',\n",
    "       'PUNT_C_NATURALES',\n",
    "       'PUNT_SOCIALES_CIUDADANAS',\n",
    "       'PUNT_INGLES',\n",
    "       'PUNT_GLOBAL']"
   ]
  },
  {
   "cell_type": "code",
   "execution_count": 15,
   "id": "after-sympathy",
   "metadata": {},
   "outputs": [],
   "source": [
    "df_icfes['2020-2'] = df_icfes['2020-2'][\n",
    "    selected_columns\n",
    "]"
   ]
  },
  {
   "cell_type": "code",
   "execution_count": 16,
   "id": "broadband-effort",
   "metadata": {},
   "outputs": [],
   "source": [
    "df_icfes['2020-1'] = df_icfes['2020-1'][\n",
    "    selected_columns\n",
    "]"
   ]
  },
  {
   "cell_type": "code",
   "execution_count": 17,
   "id": "secret-entry",
   "metadata": {},
   "outputs": [],
   "source": [
    "df_icfes['2019-2'] = df_icfes['2019-2'][\n",
    "    selected_columns\n",
    "]"
   ]
  },
  {
   "cell_type": "code",
   "execution_count": 18,
   "id": "specific-capitol",
   "metadata": {},
   "outputs": [],
   "source": [
    "df_icfes['2019-1'] = df_icfes['2019-1'][\n",
    "    selected_columns\n",
    "]"
   ]
  },
  {
   "cell_type": "code",
   "execution_count": 19,
   "id": "entertaining-tuesday",
   "metadata": {},
   "outputs": [],
   "source": [
    "df_icfes['2018-2'] = df_icfes['2018-2'][\n",
    "    selected_columns\n",
    "]"
   ]
  },
  {
   "cell_type": "code",
   "execution_count": 20,
   "id": "becoming-cache",
   "metadata": {},
   "outputs": [],
   "source": [
    "df_icfes['2018-1'] = df_icfes['2018-1'][\n",
    "    selected_columns\n",
    "]"
   ]
  },
  {
   "cell_type": "code",
   "execution_count": 21,
   "id": "overhead-machinery",
   "metadata": {},
   "outputs": [],
   "source": [
    "df_icfes['2017-2'] = df_icfes['2017-2'][\n",
    "    selected_columns\n",
    "]"
   ]
  },
  {
   "cell_type": "code",
   "execution_count": 22,
   "id": "ordinary-consciousness",
   "metadata": {},
   "outputs": [
    {
     "data": {
      "text/html": [
       "<div>\n",
       "<style scoped>\n",
       "    .dataframe tbody tr th:only-of-type {\n",
       "        vertical-align: middle;\n",
       "    }\n",
       "\n",
       "    .dataframe tbody tr th {\n",
       "        vertical-align: top;\n",
       "    }\n",
       "\n",
       "    .dataframe thead th {\n",
       "        text-align: right;\n",
       "    }\n",
       "</style>\n",
       "<table border=\"1\" class=\"dataframe\">\n",
       "  <thead>\n",
       "    <tr style=\"text-align: right;\">\n",
       "      <th></th>\n",
       "      <th>ESTU_GENERO</th>\n",
       "      <th>PERIODO</th>\n",
       "      <th>ESTU_CONSECUTIVO</th>\n",
       "      <th>ESTU_DEPTO_RESIDE</th>\n",
       "      <th>ESTU_COD_RESIDE_DEPTO</th>\n",
       "      <th>ESTU_MCPIO_RESIDE</th>\n",
       "      <th>ESTU_COD_RESIDE_MCPIO</th>\n",
       "      <th>FAMI_ESTRATOVIVIENDA</th>\n",
       "      <th>FAMI_TIENECOMPUTADOR</th>\n",
       "      <th>ESTU_DEDICACIONINTERNET</th>\n",
       "      <th>PUNT_LECTURA_CRITICA</th>\n",
       "      <th>PUNT_MATEMATICAS</th>\n",
       "      <th>PUNT_C_NATURALES</th>\n",
       "      <th>PUNT_SOCIALES_CIUDADANAS</th>\n",
       "      <th>PUNT_INGLES</th>\n",
       "      <th>PUNT_GLOBAL</th>\n",
       "    </tr>\n",
       "  </thead>\n",
       "  <tbody>\n",
       "    <tr>\n",
       "      <th>0</th>\n",
       "      <td>F</td>\n",
       "      <td>20204</td>\n",
       "      <td>SB11202040211436</td>\n",
       "      <td>CUNDINAMARCA</td>\n",
       "      <td>25.0</td>\n",
       "      <td>CAJICÁ</td>\n",
       "      <td>25126.0</td>\n",
       "      <td>Estrato 2</td>\n",
       "      <td>Si</td>\n",
       "      <td>Más de 3 horas</td>\n",
       "      <td>54</td>\n",
       "      <td>65</td>\n",
       "      <td>41</td>\n",
       "      <td>33</td>\n",
       "      <td>55.0</td>\n",
       "      <td>244</td>\n",
       "    </tr>\n",
       "    <tr>\n",
       "      <th>1</th>\n",
       "      <td>M</td>\n",
       "      <td>20204</td>\n",
       "      <td>SB11202040433216</td>\n",
       "      <td>CUNDINAMARCA</td>\n",
       "      <td>25.0</td>\n",
       "      <td>CAJICÁ</td>\n",
       "      <td>25126.0</td>\n",
       "      <td>Estrato 3</td>\n",
       "      <td>No</td>\n",
       "      <td>Más de 3 horas</td>\n",
       "      <td>57</td>\n",
       "      <td>43</td>\n",
       "      <td>46</td>\n",
       "      <td>49</td>\n",
       "      <td>33.0</td>\n",
       "      <td>238</td>\n",
       "    </tr>\n",
       "    <tr>\n",
       "      <th>2</th>\n",
       "      <td>F</td>\n",
       "      <td>20204</td>\n",
       "      <td>SB11202040244180</td>\n",
       "      <td>CUNDINAMARCA</td>\n",
       "      <td>25.0</td>\n",
       "      <td>CAJICÁ</td>\n",
       "      <td>25126.0</td>\n",
       "      <td>Estrato 1</td>\n",
       "      <td>No</td>\n",
       "      <td>30 minutos o menos</td>\n",
       "      <td>59</td>\n",
       "      <td>72</td>\n",
       "      <td>63</td>\n",
       "      <td>68</td>\n",
       "      <td>59.0</td>\n",
       "      <td>325</td>\n",
       "    </tr>\n",
       "    <tr>\n",
       "      <th>3</th>\n",
       "      <td>M</td>\n",
       "      <td>20204</td>\n",
       "      <td>SB11202040210971</td>\n",
       "      <td>CUNDINAMARCA</td>\n",
       "      <td>25.0</td>\n",
       "      <td>CAJICÁ</td>\n",
       "      <td>25126.0</td>\n",
       "      <td>Sin Estrato</td>\n",
       "      <td>No</td>\n",
       "      <td>Entre 1 y 3 horas</td>\n",
       "      <td>47</td>\n",
       "      <td>55</td>\n",
       "      <td>46</td>\n",
       "      <td>43</td>\n",
       "      <td>47.0</td>\n",
       "      <td>238</td>\n",
       "    </tr>\n",
       "    <tr>\n",
       "      <th>4</th>\n",
       "      <td>F</td>\n",
       "      <td>20204</td>\n",
       "      <td>SB11202040235382</td>\n",
       "      <td>CUNDINAMARCA</td>\n",
       "      <td>25.0</td>\n",
       "      <td>CAJICÁ</td>\n",
       "      <td>25126.0</td>\n",
       "      <td>Estrato 5</td>\n",
       "      <td>Si</td>\n",
       "      <td>Entre 1 y 3 horas</td>\n",
       "      <td>37</td>\n",
       "      <td>48</td>\n",
       "      <td>44</td>\n",
       "      <td>32</td>\n",
       "      <td>43.0</td>\n",
       "      <td>202</td>\n",
       "    </tr>\n",
       "  </tbody>\n",
       "</table>\n",
       "</div>"
      ],
      "text/plain": [
       "  ESTU_GENERO  PERIODO  ESTU_CONSECUTIVO ESTU_DEPTO_RESIDE  \\\n",
       "0           F    20204  SB11202040211436      CUNDINAMARCA   \n",
       "1           M    20204  SB11202040433216      CUNDINAMARCA   \n",
       "2           F    20204  SB11202040244180      CUNDINAMARCA   \n",
       "3           M    20204  SB11202040210971      CUNDINAMARCA   \n",
       "4           F    20204  SB11202040235382      CUNDINAMARCA   \n",
       "\n",
       "   ESTU_COD_RESIDE_DEPTO ESTU_MCPIO_RESIDE  ESTU_COD_RESIDE_MCPIO  \\\n",
       "0                   25.0            CAJICÁ                25126.0   \n",
       "1                   25.0            CAJICÁ                25126.0   \n",
       "2                   25.0            CAJICÁ                25126.0   \n",
       "3                   25.0            CAJICÁ                25126.0   \n",
       "4                   25.0            CAJICÁ                25126.0   \n",
       "\n",
       "  FAMI_ESTRATOVIVIENDA FAMI_TIENECOMPUTADOR ESTU_DEDICACIONINTERNET  \\\n",
       "0            Estrato 2                   Si          Más de 3 horas   \n",
       "1            Estrato 3                   No          Más de 3 horas   \n",
       "2            Estrato 1                   No      30 minutos o menos   \n",
       "3          Sin Estrato                   No       Entre 1 y 3 horas   \n",
       "4            Estrato 5                   Si       Entre 1 y 3 horas   \n",
       "\n",
       "   PUNT_LECTURA_CRITICA  PUNT_MATEMATICAS  PUNT_C_NATURALES  \\\n",
       "0                    54                65                41   \n",
       "1                    57                43                46   \n",
       "2                    59                72                63   \n",
       "3                    47                55                46   \n",
       "4                    37                48                44   \n",
       "\n",
       "   PUNT_SOCIALES_CIUDADANAS  PUNT_INGLES  PUNT_GLOBAL  \n",
       "0                        33         55.0          244  \n",
       "1                        49         33.0          238  \n",
       "2                        68         59.0          325  \n",
       "3                        43         47.0          238  \n",
       "4                        32         43.0          202  "
      ]
     },
     "execution_count": 22,
     "metadata": {},
     "output_type": "execute_result"
    }
   ],
   "source": [
    "df_icfes['2020-2'].head()"
   ]
  },
  {
   "cell_type": "code",
   "execution_count": 23,
   "id": "precious-focus",
   "metadata": {},
   "outputs": [
    {
     "data": {
      "text/html": [
       "<div>\n",
       "<style scoped>\n",
       "    .dataframe tbody tr th:only-of-type {\n",
       "        vertical-align: middle;\n",
       "    }\n",
       "\n",
       "    .dataframe tbody tr th {\n",
       "        vertical-align: top;\n",
       "    }\n",
       "\n",
       "    .dataframe thead th {\n",
       "        text-align: right;\n",
       "    }\n",
       "</style>\n",
       "<table border=\"1\" class=\"dataframe\">\n",
       "  <thead>\n",
       "    <tr style=\"text-align: right;\">\n",
       "      <th></th>\n",
       "      <th>ESTU_GENERO</th>\n",
       "      <th>PERIODO</th>\n",
       "      <th>ESTU_CONSECUTIVO</th>\n",
       "      <th>ESTU_DEPTO_RESIDE</th>\n",
       "      <th>ESTU_COD_RESIDE_DEPTO</th>\n",
       "      <th>ESTU_MCPIO_RESIDE</th>\n",
       "      <th>ESTU_COD_RESIDE_MCPIO</th>\n",
       "      <th>FAMI_ESTRATOVIVIENDA</th>\n",
       "      <th>FAMI_TIENECOMPUTADOR</th>\n",
       "      <th>ESTU_DEDICACIONINTERNET</th>\n",
       "      <th>PUNT_LECTURA_CRITICA</th>\n",
       "      <th>PUNT_MATEMATICAS</th>\n",
       "      <th>PUNT_C_NATURALES</th>\n",
       "      <th>PUNT_SOCIALES_CIUDADANAS</th>\n",
       "      <th>PUNT_INGLES</th>\n",
       "      <th>PUNT_GLOBAL</th>\n",
       "    </tr>\n",
       "  </thead>\n",
       "  <tbody>\n",
       "    <tr>\n",
       "      <th>0</th>\n",
       "      <td>F</td>\n",
       "      <td>20201</td>\n",
       "      <td>SB11202010045555</td>\n",
       "      <td>CESAR</td>\n",
       "      <td>20.0</td>\n",
       "      <td>SAN DIEGO</td>\n",
       "      <td>20750.0</td>\n",
       "      <td>Estrato 1</td>\n",
       "      <td>No</td>\n",
       "      <td>No Navega Internet</td>\n",
       "      <td>39</td>\n",
       "      <td>32</td>\n",
       "      <td>35</td>\n",
       "      <td>24</td>\n",
       "      <td>36.0</td>\n",
       "      <td>164</td>\n",
       "    </tr>\n",
       "    <tr>\n",
       "      <th>1</th>\n",
       "      <td>F</td>\n",
       "      <td>20201</td>\n",
       "      <td>SB11202010045719</td>\n",
       "      <td>NARIÑO</td>\n",
       "      <td>52.0</td>\n",
       "      <td>IPIALES</td>\n",
       "      <td>52356.0</td>\n",
       "      <td>NaN</td>\n",
       "      <td>NaN</td>\n",
       "      <td>NaN</td>\n",
       "      <td>41</td>\n",
       "      <td>41</td>\n",
       "      <td>39</td>\n",
       "      <td>44</td>\n",
       "      <td>30.0</td>\n",
       "      <td>202</td>\n",
       "    </tr>\n",
       "    <tr>\n",
       "      <th>2</th>\n",
       "      <td>F</td>\n",
       "      <td>20201</td>\n",
       "      <td>SB11202010070662</td>\n",
       "      <td>CAUCA</td>\n",
       "      <td>19.0</td>\n",
       "      <td>TOTORÓ</td>\n",
       "      <td>19824.0</td>\n",
       "      <td>Estrato 1</td>\n",
       "      <td>No</td>\n",
       "      <td>No Navega Internet</td>\n",
       "      <td>37</td>\n",
       "      <td>36</td>\n",
       "      <td>33</td>\n",
       "      <td>24</td>\n",
       "      <td>30.0</td>\n",
       "      <td>162</td>\n",
       "    </tr>\n",
       "    <tr>\n",
       "      <th>3</th>\n",
       "      <td>F</td>\n",
       "      <td>20201</td>\n",
       "      <td>SB11202010069926</td>\n",
       "      <td>PUTUMAYO</td>\n",
       "      <td>86.0</td>\n",
       "      <td>MOCOA</td>\n",
       "      <td>86001.0</td>\n",
       "      <td>Estrato 1</td>\n",
       "      <td>Si</td>\n",
       "      <td>Entre 1 y 3 horas</td>\n",
       "      <td>38</td>\n",
       "      <td>42</td>\n",
       "      <td>38</td>\n",
       "      <td>33</td>\n",
       "      <td>37.0</td>\n",
       "      <td>188</td>\n",
       "    </tr>\n",
       "    <tr>\n",
       "      <th>4</th>\n",
       "      <td>F</td>\n",
       "      <td>20201</td>\n",
       "      <td>SB11202010023181</td>\n",
       "      <td>RISARALDA</td>\n",
       "      <td>66.0</td>\n",
       "      <td>PEREIRA</td>\n",
       "      <td>66001.0</td>\n",
       "      <td>Estrato 6</td>\n",
       "      <td>Si</td>\n",
       "      <td>Más de 3 horas</td>\n",
       "      <td>58</td>\n",
       "      <td>50</td>\n",
       "      <td>50</td>\n",
       "      <td>53</td>\n",
       "      <td>80.0</td>\n",
       "      <td>274</td>\n",
       "    </tr>\n",
       "  </tbody>\n",
       "</table>\n",
       "</div>"
      ],
      "text/plain": [
       "  ESTU_GENERO  PERIODO  ESTU_CONSECUTIVO ESTU_DEPTO_RESIDE  \\\n",
       "0           F    20201  SB11202010045555             CESAR   \n",
       "1           F    20201  SB11202010045719            NARIÑO   \n",
       "2           F    20201  SB11202010070662             CAUCA   \n",
       "3           F    20201  SB11202010069926          PUTUMAYO   \n",
       "4           F    20201  SB11202010023181         RISARALDA   \n",
       "\n",
       "   ESTU_COD_RESIDE_DEPTO ESTU_MCPIO_RESIDE  ESTU_COD_RESIDE_MCPIO  \\\n",
       "0                   20.0         SAN DIEGO                20750.0   \n",
       "1                   52.0           IPIALES                52356.0   \n",
       "2                   19.0            TOTORÓ                19824.0   \n",
       "3                   86.0             MOCOA                86001.0   \n",
       "4                   66.0           PEREIRA                66001.0   \n",
       "\n",
       "  FAMI_ESTRATOVIVIENDA FAMI_TIENECOMPUTADOR ESTU_DEDICACIONINTERNET  \\\n",
       "0            Estrato 1                   No      No Navega Internet   \n",
       "1                  NaN                  NaN                     NaN   \n",
       "2            Estrato 1                   No      No Navega Internet   \n",
       "3            Estrato 1                   Si       Entre 1 y 3 horas   \n",
       "4            Estrato 6                   Si          Más de 3 horas   \n",
       "\n",
       "   PUNT_LECTURA_CRITICA  PUNT_MATEMATICAS  PUNT_C_NATURALES  \\\n",
       "0                    39                32                35   \n",
       "1                    41                41                39   \n",
       "2                    37                36                33   \n",
       "3                    38                42                38   \n",
       "4                    58                50                50   \n",
       "\n",
       "   PUNT_SOCIALES_CIUDADANAS  PUNT_INGLES  PUNT_GLOBAL  \n",
       "0                        24         36.0          164  \n",
       "1                        44         30.0          202  \n",
       "2                        24         30.0          162  \n",
       "3                        33         37.0          188  \n",
       "4                        53         80.0          274  "
      ]
     },
     "execution_count": 23,
     "metadata": {},
     "output_type": "execute_result"
    }
   ],
   "source": [
    "df_icfes['2020-1'].head()"
   ]
  },
  {
   "cell_type": "code",
   "execution_count": 24,
   "id": "special-canon",
   "metadata": {},
   "outputs": [
    {
     "data": {
      "text/html": [
       "<div>\n",
       "<style scoped>\n",
       "    .dataframe tbody tr th:only-of-type {\n",
       "        vertical-align: middle;\n",
       "    }\n",
       "\n",
       "    .dataframe tbody tr th {\n",
       "        vertical-align: top;\n",
       "    }\n",
       "\n",
       "    .dataframe thead th {\n",
       "        text-align: right;\n",
       "    }\n",
       "</style>\n",
       "<table border=\"1\" class=\"dataframe\">\n",
       "  <thead>\n",
       "    <tr style=\"text-align: right;\">\n",
       "      <th></th>\n",
       "      <th>ESTU_GENERO</th>\n",
       "      <th>PERIODO</th>\n",
       "      <th>ESTU_CONSECUTIVO</th>\n",
       "      <th>ESTU_DEPTO_RESIDE</th>\n",
       "      <th>ESTU_COD_RESIDE_DEPTO</th>\n",
       "      <th>ESTU_MCPIO_RESIDE</th>\n",
       "      <th>ESTU_COD_RESIDE_MCPIO</th>\n",
       "      <th>FAMI_ESTRATOVIVIENDA</th>\n",
       "      <th>FAMI_TIENECOMPUTADOR</th>\n",
       "      <th>ESTU_DEDICACIONINTERNET</th>\n",
       "      <th>PUNT_LECTURA_CRITICA</th>\n",
       "      <th>PUNT_MATEMATICAS</th>\n",
       "      <th>PUNT_C_NATURALES</th>\n",
       "      <th>PUNT_SOCIALES_CIUDADANAS</th>\n",
       "      <th>PUNT_INGLES</th>\n",
       "      <th>PUNT_GLOBAL</th>\n",
       "    </tr>\n",
       "  </thead>\n",
       "  <tbody>\n",
       "    <tr>\n",
       "      <th>0</th>\n",
       "      <td>M</td>\n",
       "      <td>20194</td>\n",
       "      <td>SB11201940031558</td>\n",
       "      <td>MAGDALENA</td>\n",
       "      <td>47</td>\n",
       "      <td>SANTA ANA</td>\n",
       "      <td>47707</td>\n",
       "      <td>Estrato 3</td>\n",
       "      <td>No</td>\n",
       "      <td>Entre 30 y 60 minutos</td>\n",
       "      <td>47</td>\n",
       "      <td>48</td>\n",
       "      <td>37</td>\n",
       "      <td>30</td>\n",
       "      <td>54.0</td>\n",
       "      <td>208</td>\n",
       "    </tr>\n",
       "    <tr>\n",
       "      <th>1</th>\n",
       "      <td>M</td>\n",
       "      <td>20194</td>\n",
       "      <td>SB11201940303339</td>\n",
       "      <td>BOGOTÁ</td>\n",
       "      <td>11</td>\n",
       "      <td>BOGOTÁ D.C.</td>\n",
       "      <td>11001</td>\n",
       "      <td>Estrato 3</td>\n",
       "      <td>Si</td>\n",
       "      <td>Entre 30 y 60 minutos</td>\n",
       "      <td>60</td>\n",
       "      <td>65</td>\n",
       "      <td>54</td>\n",
       "      <td>59</td>\n",
       "      <td>63.0</td>\n",
       "      <td>299</td>\n",
       "    </tr>\n",
       "    <tr>\n",
       "      <th>2</th>\n",
       "      <td>M</td>\n",
       "      <td>20194</td>\n",
       "      <td>SB11201940255017</td>\n",
       "      <td>BOLIVAR</td>\n",
       "      <td>13</td>\n",
       "      <td>CARTAGENA DE INDIAS</td>\n",
       "      <td>13001</td>\n",
       "      <td>Estrato 1</td>\n",
       "      <td>No</td>\n",
       "      <td>Más de 3 horas</td>\n",
       "      <td>66</td>\n",
       "      <td>57</td>\n",
       "      <td>41</td>\n",
       "      <td>74</td>\n",
       "      <td>64.0</td>\n",
       "      <td>299</td>\n",
       "    </tr>\n",
       "    <tr>\n",
       "      <th>3</th>\n",
       "      <td>M</td>\n",
       "      <td>20194</td>\n",
       "      <td>SB11201940154799</td>\n",
       "      <td>BOGOTÁ</td>\n",
       "      <td>11</td>\n",
       "      <td>BOGOTÁ D.C.</td>\n",
       "      <td>11001</td>\n",
       "      <td>Estrato 3</td>\n",
       "      <td>Si</td>\n",
       "      <td>Entre 30 y 60 minutos</td>\n",
       "      <td>62</td>\n",
       "      <td>54</td>\n",
       "      <td>61</td>\n",
       "      <td>73</td>\n",
       "      <td>53.0</td>\n",
       "      <td>309</td>\n",
       "    </tr>\n",
       "    <tr>\n",
       "      <th>4</th>\n",
       "      <td>M</td>\n",
       "      <td>20194</td>\n",
       "      <td>SB11201940280831</td>\n",
       "      <td>BOGOTÁ</td>\n",
       "      <td>11</td>\n",
       "      <td>BOGOTÁ D.C.</td>\n",
       "      <td>11001</td>\n",
       "      <td>Estrato 3</td>\n",
       "      <td>Si</td>\n",
       "      <td>Más de 3 horas</td>\n",
       "      <td>63</td>\n",
       "      <td>57</td>\n",
       "      <td>55</td>\n",
       "      <td>57</td>\n",
       "      <td>52.0</td>\n",
       "      <td>288</td>\n",
       "    </tr>\n",
       "  </tbody>\n",
       "</table>\n",
       "</div>"
      ],
      "text/plain": [
       "  ESTU_GENERO  PERIODO  ESTU_CONSECUTIVO ESTU_DEPTO_RESIDE  \\\n",
       "0           M    20194  SB11201940031558         MAGDALENA   \n",
       "1           M    20194  SB11201940303339            BOGOTÁ   \n",
       "2           M    20194  SB11201940255017           BOLIVAR   \n",
       "3           M    20194  SB11201940154799            BOGOTÁ   \n",
       "4           M    20194  SB11201940280831            BOGOTÁ   \n",
       "\n",
       "  ESTU_COD_RESIDE_DEPTO    ESTU_MCPIO_RESIDE ESTU_COD_RESIDE_MCPIO  \\\n",
       "0                    47            SANTA ANA                 47707   \n",
       "1                    11          BOGOTÁ D.C.                 11001   \n",
       "2                    13  CARTAGENA DE INDIAS                 13001   \n",
       "3                    11          BOGOTÁ D.C.                 11001   \n",
       "4                    11          BOGOTÁ D.C.                 11001   \n",
       "\n",
       "  FAMI_ESTRATOVIVIENDA FAMI_TIENECOMPUTADOR ESTU_DEDICACIONINTERNET  \\\n",
       "0            Estrato 3                   No   Entre 30 y 60 minutos   \n",
       "1            Estrato 3                   Si   Entre 30 y 60 minutos   \n",
       "2            Estrato 1                   No          Más de 3 horas   \n",
       "3            Estrato 3                   Si   Entre 30 y 60 minutos   \n",
       "4            Estrato 3                   Si          Más de 3 horas   \n",
       "\n",
       "   PUNT_LECTURA_CRITICA  PUNT_MATEMATICAS  PUNT_C_NATURALES  \\\n",
       "0                    47                48                37   \n",
       "1                    60                65                54   \n",
       "2                    66                57                41   \n",
       "3                    62                54                61   \n",
       "4                    63                57                55   \n",
       "\n",
       "   PUNT_SOCIALES_CIUDADANAS  PUNT_INGLES  PUNT_GLOBAL  \n",
       "0                        30         54.0          208  \n",
       "1                        59         63.0          299  \n",
       "2                        74         64.0          299  \n",
       "3                        73         53.0          309  \n",
       "4                        57         52.0          288  "
      ]
     },
     "execution_count": 24,
     "metadata": {},
     "output_type": "execute_result"
    }
   ],
   "source": [
    "df_icfes['2019-2'].head()"
   ]
  },
  {
   "cell_type": "code",
   "execution_count": 25,
   "id": "korean-persian",
   "metadata": {},
   "outputs": [
    {
     "data": {
      "text/html": [
       "<div>\n",
       "<style scoped>\n",
       "    .dataframe tbody tr th:only-of-type {\n",
       "        vertical-align: middle;\n",
       "    }\n",
       "\n",
       "    .dataframe tbody tr th {\n",
       "        vertical-align: top;\n",
       "    }\n",
       "\n",
       "    .dataframe thead th {\n",
       "        text-align: right;\n",
       "    }\n",
       "</style>\n",
       "<table border=\"1\" class=\"dataframe\">\n",
       "  <thead>\n",
       "    <tr style=\"text-align: right;\">\n",
       "      <th></th>\n",
       "      <th>ESTU_GENERO</th>\n",
       "      <th>PERIODO</th>\n",
       "      <th>ESTU_CONSECUTIVO</th>\n",
       "      <th>ESTU_DEPTO_RESIDE</th>\n",
       "      <th>ESTU_COD_RESIDE_DEPTO</th>\n",
       "      <th>ESTU_MCPIO_RESIDE</th>\n",
       "      <th>ESTU_COD_RESIDE_MCPIO</th>\n",
       "      <th>FAMI_ESTRATOVIVIENDA</th>\n",
       "      <th>FAMI_TIENECOMPUTADOR</th>\n",
       "      <th>ESTU_DEDICACIONINTERNET</th>\n",
       "      <th>PUNT_LECTURA_CRITICA</th>\n",
       "      <th>PUNT_MATEMATICAS</th>\n",
       "      <th>PUNT_C_NATURALES</th>\n",
       "      <th>PUNT_SOCIALES_CIUDADANAS</th>\n",
       "      <th>PUNT_INGLES</th>\n",
       "      <th>PUNT_GLOBAL</th>\n",
       "    </tr>\n",
       "  </thead>\n",
       "  <tbody>\n",
       "    <tr>\n",
       "      <th>0</th>\n",
       "      <td>F</td>\n",
       "      <td>20191</td>\n",
       "      <td>SB11201910008548</td>\n",
       "      <td>VALLE</td>\n",
       "      <td>76.0</td>\n",
       "      <td>CALI</td>\n",
       "      <td>76001.0</td>\n",
       "      <td>Estrato 4</td>\n",
       "      <td>Si</td>\n",
       "      <td>Entre 1 y 3 horas</td>\n",
       "      <td>50</td>\n",
       "      <td>49</td>\n",
       "      <td>47</td>\n",
       "      <td>40</td>\n",
       "      <td>54.0</td>\n",
       "      <td>235</td>\n",
       "    </tr>\n",
       "    <tr>\n",
       "      <th>1</th>\n",
       "      <td>F</td>\n",
       "      <td>20191</td>\n",
       "      <td>SB11201910004475</td>\n",
       "      <td>VALLE</td>\n",
       "      <td>76.0</td>\n",
       "      <td>CALI</td>\n",
       "      <td>76001.0</td>\n",
       "      <td>Estrato 3</td>\n",
       "      <td>No</td>\n",
       "      <td>Entre 1 y 3 horas</td>\n",
       "      <td>53</td>\n",
       "      <td>45</td>\n",
       "      <td>44</td>\n",
       "      <td>34</td>\n",
       "      <td>35.0</td>\n",
       "      <td>217</td>\n",
       "    </tr>\n",
       "    <tr>\n",
       "      <th>2</th>\n",
       "      <td>M</td>\n",
       "      <td>20191</td>\n",
       "      <td>SB11201910011427</td>\n",
       "      <td>VALLE</td>\n",
       "      <td>76.0</td>\n",
       "      <td>CALI</td>\n",
       "      <td>76001.0</td>\n",
       "      <td>Estrato 2</td>\n",
       "      <td>No</td>\n",
       "      <td>30 minutos o menos</td>\n",
       "      <td>60</td>\n",
       "      <td>52</td>\n",
       "      <td>44</td>\n",
       "      <td>41</td>\n",
       "      <td>49.0</td>\n",
       "      <td>246</td>\n",
       "    </tr>\n",
       "    <tr>\n",
       "      <th>3</th>\n",
       "      <td>M</td>\n",
       "      <td>20191</td>\n",
       "      <td>SB11201910041975</td>\n",
       "      <td>VALLE</td>\n",
       "      <td>76.0</td>\n",
       "      <td>CALI</td>\n",
       "      <td>76001.0</td>\n",
       "      <td>Estrato 2</td>\n",
       "      <td>Si</td>\n",
       "      <td>Más de 3 horas</td>\n",
       "      <td>56</td>\n",
       "      <td>54</td>\n",
       "      <td>46</td>\n",
       "      <td>44</td>\n",
       "      <td>64.0</td>\n",
       "      <td>255</td>\n",
       "    </tr>\n",
       "    <tr>\n",
       "      <th>4</th>\n",
       "      <td>F</td>\n",
       "      <td>20191</td>\n",
       "      <td>SB11201910014490</td>\n",
       "      <td>BOGOTA</td>\n",
       "      <td>11.0</td>\n",
       "      <td>BOGOTÁ D.C.</td>\n",
       "      <td>11001.0</td>\n",
       "      <td>Estrato 6</td>\n",
       "      <td>Si</td>\n",
       "      <td>Entre 1 y 3 horas</td>\n",
       "      <td>55</td>\n",
       "      <td>67</td>\n",
       "      <td>50</td>\n",
       "      <td>47</td>\n",
       "      <td>71.0</td>\n",
       "      <td>280</td>\n",
       "    </tr>\n",
       "  </tbody>\n",
       "</table>\n",
       "</div>"
      ],
      "text/plain": [
       "  ESTU_GENERO  PERIODO  ESTU_CONSECUTIVO ESTU_DEPTO_RESIDE  \\\n",
       "0           F    20191  SB11201910008548             VALLE   \n",
       "1           F    20191  SB11201910004475             VALLE   \n",
       "2           M    20191  SB11201910011427             VALLE   \n",
       "3           M    20191  SB11201910041975             VALLE   \n",
       "4           F    20191  SB11201910014490            BOGOTA   \n",
       "\n",
       "   ESTU_COD_RESIDE_DEPTO ESTU_MCPIO_RESIDE  ESTU_COD_RESIDE_MCPIO  \\\n",
       "0                   76.0              CALI                76001.0   \n",
       "1                   76.0              CALI                76001.0   \n",
       "2                   76.0              CALI                76001.0   \n",
       "3                   76.0              CALI                76001.0   \n",
       "4                   11.0       BOGOTÁ D.C.                11001.0   \n",
       "\n",
       "  FAMI_ESTRATOVIVIENDA FAMI_TIENECOMPUTADOR ESTU_DEDICACIONINTERNET  \\\n",
       "0            Estrato 4                   Si       Entre 1 y 3 horas   \n",
       "1            Estrato 3                   No       Entre 1 y 3 horas   \n",
       "2            Estrato 2                   No      30 minutos o menos   \n",
       "3            Estrato 2                   Si          Más de 3 horas   \n",
       "4            Estrato 6                   Si       Entre 1 y 3 horas   \n",
       "\n",
       "   PUNT_LECTURA_CRITICA  PUNT_MATEMATICAS  PUNT_C_NATURALES  \\\n",
       "0                    50                49                47   \n",
       "1                    53                45                44   \n",
       "2                    60                52                44   \n",
       "3                    56                54                46   \n",
       "4                    55                67                50   \n",
       "\n",
       "   PUNT_SOCIALES_CIUDADANAS  PUNT_INGLES  PUNT_GLOBAL  \n",
       "0                        40         54.0          235  \n",
       "1                        34         35.0          217  \n",
       "2                        41         49.0          246  \n",
       "3                        44         64.0          255  \n",
       "4                        47         71.0          280  "
      ]
     },
     "execution_count": 25,
     "metadata": {},
     "output_type": "execute_result"
    }
   ],
   "source": [
    "df_icfes['2019-1'].head()"
   ]
  },
  {
   "cell_type": "code",
   "execution_count": 26,
   "id": "british-museum",
   "metadata": {},
   "outputs": [
    {
     "data": {
      "text/html": [
       "<div>\n",
       "<style scoped>\n",
       "    .dataframe tbody tr th:only-of-type {\n",
       "        vertical-align: middle;\n",
       "    }\n",
       "\n",
       "    .dataframe tbody tr th {\n",
       "        vertical-align: top;\n",
       "    }\n",
       "\n",
       "    .dataframe thead th {\n",
       "        text-align: right;\n",
       "    }\n",
       "</style>\n",
       "<table border=\"1\" class=\"dataframe\">\n",
       "  <thead>\n",
       "    <tr style=\"text-align: right;\">\n",
       "      <th></th>\n",
       "      <th>ESTU_GENERO</th>\n",
       "      <th>PERIODO</th>\n",
       "      <th>ESTU_CONSECUTIVO</th>\n",
       "      <th>ESTU_DEPTO_RESIDE</th>\n",
       "      <th>ESTU_COD_RESIDE_DEPTO</th>\n",
       "      <th>ESTU_MCPIO_RESIDE</th>\n",
       "      <th>ESTU_COD_RESIDE_MCPIO</th>\n",
       "      <th>FAMI_ESTRATOVIVIENDA</th>\n",
       "      <th>FAMI_TIENECOMPUTADOR</th>\n",
       "      <th>ESTU_DEDICACIONINTERNET</th>\n",
       "      <th>PUNT_LECTURA_CRITICA</th>\n",
       "      <th>PUNT_MATEMATICAS</th>\n",
       "      <th>PUNT_C_NATURALES</th>\n",
       "      <th>PUNT_SOCIALES_CIUDADANAS</th>\n",
       "      <th>PUNT_INGLES</th>\n",
       "      <th>PUNT_GLOBAL</th>\n",
       "    </tr>\n",
       "  </thead>\n",
       "  <tbody>\n",
       "    <tr>\n",
       "      <th>0</th>\n",
       "      <td>M</td>\n",
       "      <td>20182</td>\n",
       "      <td>SB11201820408513</td>\n",
       "      <td>ATLANTICO</td>\n",
       "      <td>8.0</td>\n",
       "      <td>SOLEDAD</td>\n",
       "      <td>8758.0</td>\n",
       "      <td>Estrato 2</td>\n",
       "      <td>No</td>\n",
       "      <td>Más de 3 horas</td>\n",
       "      <td>63</td>\n",
       "      <td>69</td>\n",
       "      <td>54</td>\n",
       "      <td>57</td>\n",
       "      <td>65.0</td>\n",
       "      <td>305</td>\n",
       "    </tr>\n",
       "    <tr>\n",
       "      <th>1</th>\n",
       "      <td>M</td>\n",
       "      <td>20182</td>\n",
       "      <td>SB11201820541500</td>\n",
       "      <td>CORDOBA</td>\n",
       "      <td>23.0</td>\n",
       "      <td>LORICA</td>\n",
       "      <td>23417.0</td>\n",
       "      <td>Estrato 1</td>\n",
       "      <td>No</td>\n",
       "      <td>Entre 30 y 60 minutos</td>\n",
       "      <td>54</td>\n",
       "      <td>50</td>\n",
       "      <td>50</td>\n",
       "      <td>40</td>\n",
       "      <td>48.0</td>\n",
       "      <td>242</td>\n",
       "    </tr>\n",
       "    <tr>\n",
       "      <th>2</th>\n",
       "      <td>M</td>\n",
       "      <td>20182</td>\n",
       "      <td>SB11201820208467</td>\n",
       "      <td>VALLE</td>\n",
       "      <td>76.0</td>\n",
       "      <td>CALI</td>\n",
       "      <td>76001.0</td>\n",
       "      <td>Estrato 2</td>\n",
       "      <td>No</td>\n",
       "      <td>Entre 30 y 60 minutos</td>\n",
       "      <td>59</td>\n",
       "      <td>43</td>\n",
       "      <td>46</td>\n",
       "      <td>45</td>\n",
       "      <td>47.0</td>\n",
       "      <td>241</td>\n",
       "    </tr>\n",
       "    <tr>\n",
       "      <th>3</th>\n",
       "      <td>M</td>\n",
       "      <td>20182</td>\n",
       "      <td>SB11201820514682</td>\n",
       "      <td>BOYACA</td>\n",
       "      <td>15.0</td>\n",
       "      <td>TUNJA</td>\n",
       "      <td>15001.0</td>\n",
       "      <td>Estrato 3</td>\n",
       "      <td>Si</td>\n",
       "      <td>Más de 3 horas</td>\n",
       "      <td>61</td>\n",
       "      <td>60</td>\n",
       "      <td>60</td>\n",
       "      <td>67</td>\n",
       "      <td>63.0</td>\n",
       "      <td>310</td>\n",
       "    </tr>\n",
       "    <tr>\n",
       "      <th>4</th>\n",
       "      <td>M</td>\n",
       "      <td>20182</td>\n",
       "      <td>SB11201820306251</td>\n",
       "      <td>BOGOTA</td>\n",
       "      <td>11.0</td>\n",
       "      <td>BOGOTÁ D.C.</td>\n",
       "      <td>11001.0</td>\n",
       "      <td>Estrato 2</td>\n",
       "      <td>No</td>\n",
       "      <td>Entre 1 y 3 horas</td>\n",
       "      <td>56</td>\n",
       "      <td>51</td>\n",
       "      <td>48</td>\n",
       "      <td>49</td>\n",
       "      <td>56.0</td>\n",
       "      <td>257</td>\n",
       "    </tr>\n",
       "  </tbody>\n",
       "</table>\n",
       "</div>"
      ],
      "text/plain": [
       "  ESTU_GENERO  PERIODO  ESTU_CONSECUTIVO ESTU_DEPTO_RESIDE  \\\n",
       "0           M    20182  SB11201820408513         ATLANTICO   \n",
       "1           M    20182  SB11201820541500           CORDOBA   \n",
       "2           M    20182  SB11201820208467             VALLE   \n",
       "3           M    20182  SB11201820514682            BOYACA   \n",
       "4           M    20182  SB11201820306251            BOGOTA   \n",
       "\n",
       "   ESTU_COD_RESIDE_DEPTO ESTU_MCPIO_RESIDE  ESTU_COD_RESIDE_MCPIO  \\\n",
       "0                    8.0           SOLEDAD                 8758.0   \n",
       "1                   23.0            LORICA                23417.0   \n",
       "2                   76.0              CALI                76001.0   \n",
       "3                   15.0             TUNJA                15001.0   \n",
       "4                   11.0       BOGOTÁ D.C.                11001.0   \n",
       "\n",
       "  FAMI_ESTRATOVIVIENDA FAMI_TIENECOMPUTADOR ESTU_DEDICACIONINTERNET  \\\n",
       "0            Estrato 2                   No          Más de 3 horas   \n",
       "1            Estrato 1                   No   Entre 30 y 60 minutos   \n",
       "2            Estrato 2                   No   Entre 30 y 60 minutos   \n",
       "3            Estrato 3                   Si          Más de 3 horas   \n",
       "4            Estrato 2                   No       Entre 1 y 3 horas   \n",
       "\n",
       "   PUNT_LECTURA_CRITICA  PUNT_MATEMATICAS  PUNT_C_NATURALES  \\\n",
       "0                    63                69                54   \n",
       "1                    54                50                50   \n",
       "2                    59                43                46   \n",
       "3                    61                60                60   \n",
       "4                    56                51                48   \n",
       "\n",
       "   PUNT_SOCIALES_CIUDADANAS  PUNT_INGLES  PUNT_GLOBAL  \n",
       "0                        57         65.0          305  \n",
       "1                        40         48.0          242  \n",
       "2                        45         47.0          241  \n",
       "3                        67         63.0          310  \n",
       "4                        49         56.0          257  "
      ]
     },
     "execution_count": 26,
     "metadata": {},
     "output_type": "execute_result"
    }
   ],
   "source": [
    "df_icfes['2018-2'].head()"
   ]
  },
  {
   "cell_type": "code",
   "execution_count": 27,
   "id": "answering-married",
   "metadata": {},
   "outputs": [
    {
     "data": {
      "text/html": [
       "<div>\n",
       "<style scoped>\n",
       "    .dataframe tbody tr th:only-of-type {\n",
       "        vertical-align: middle;\n",
       "    }\n",
       "\n",
       "    .dataframe tbody tr th {\n",
       "        vertical-align: top;\n",
       "    }\n",
       "\n",
       "    .dataframe thead th {\n",
       "        text-align: right;\n",
       "    }\n",
       "</style>\n",
       "<table border=\"1\" class=\"dataframe\">\n",
       "  <thead>\n",
       "    <tr style=\"text-align: right;\">\n",
       "      <th></th>\n",
       "      <th>ESTU_GENERO</th>\n",
       "      <th>PERIODO</th>\n",
       "      <th>ESTU_CONSECUTIVO</th>\n",
       "      <th>ESTU_DEPTO_RESIDE</th>\n",
       "      <th>ESTU_COD_RESIDE_DEPTO</th>\n",
       "      <th>ESTU_MCPIO_RESIDE</th>\n",
       "      <th>ESTU_COD_RESIDE_MCPIO</th>\n",
       "      <th>FAMI_ESTRATOVIVIENDA</th>\n",
       "      <th>FAMI_TIENECOMPUTADOR</th>\n",
       "      <th>ESTU_DEDICACIONINTERNET</th>\n",
       "      <th>PUNT_LECTURA_CRITICA</th>\n",
       "      <th>PUNT_MATEMATICAS</th>\n",
       "      <th>PUNT_C_NATURALES</th>\n",
       "      <th>PUNT_SOCIALES_CIUDADANAS</th>\n",
       "      <th>PUNT_INGLES</th>\n",
       "      <th>PUNT_GLOBAL</th>\n",
       "    </tr>\n",
       "  </thead>\n",
       "  <tbody>\n",
       "    <tr>\n",
       "      <th>0</th>\n",
       "      <td>F</td>\n",
       "      <td>20181</td>\n",
       "      <td>SB11201810007354</td>\n",
       "      <td>BOGOTA</td>\n",
       "      <td>11</td>\n",
       "      <td>BOGOTÁ D.C.</td>\n",
       "      <td>11001</td>\n",
       "      <td>Estrato 6</td>\n",
       "      <td>Si</td>\n",
       "      <td>Entre 1 y 3 horas</td>\n",
       "      <td>71</td>\n",
       "      <td>65</td>\n",
       "      <td>69</td>\n",
       "      <td>63</td>\n",
       "      <td>90</td>\n",
       "      <td>344</td>\n",
       "    </tr>\n",
       "    <tr>\n",
       "      <th>1</th>\n",
       "      <td>M</td>\n",
       "      <td>20181</td>\n",
       "      <td>SB11201810018765</td>\n",
       "      <td>VALLE</td>\n",
       "      <td>76</td>\n",
       "      <td>CALI</td>\n",
       "      <td>76001</td>\n",
       "      <td>Estrato 5</td>\n",
       "      <td>Si</td>\n",
       "      <td>Entre 30 y 60 minutos</td>\n",
       "      <td>75</td>\n",
       "      <td>77</td>\n",
       "      <td>100</td>\n",
       "      <td>81</td>\n",
       "      <td>86</td>\n",
       "      <td>417</td>\n",
       "    </tr>\n",
       "    <tr>\n",
       "      <th>2</th>\n",
       "      <td>M</td>\n",
       "      <td>20181</td>\n",
       "      <td>SB11201810028523</td>\n",
       "      <td>VALLE</td>\n",
       "      <td>76</td>\n",
       "      <td>CALI</td>\n",
       "      <td>76001</td>\n",
       "      <td>Estrato 1</td>\n",
       "      <td>Si</td>\n",
       "      <td>Entre 30 y 60 minutos</td>\n",
       "      <td>42</td>\n",
       "      <td>27</td>\n",
       "      <td>29</td>\n",
       "      <td>36</td>\n",
       "      <td>29</td>\n",
       "      <td>166</td>\n",
       "    </tr>\n",
       "    <tr>\n",
       "      <th>3</th>\n",
       "      <td>F</td>\n",
       "      <td>20181</td>\n",
       "      <td>SB11201810003574</td>\n",
       "      <td>VALLE</td>\n",
       "      <td>76</td>\n",
       "      <td>CALI</td>\n",
       "      <td>76001</td>\n",
       "      <td>Estrato 3</td>\n",
       "      <td>Si</td>\n",
       "      <td>Más de 3 horas</td>\n",
       "      <td>61</td>\n",
       "      <td>62</td>\n",
       "      <td>72</td>\n",
       "      <td>70</td>\n",
       "      <td>79</td>\n",
       "      <td>336</td>\n",
       "    </tr>\n",
       "    <tr>\n",
       "      <th>4</th>\n",
       "      <td>F</td>\n",
       "      <td>20181</td>\n",
       "      <td>SB11201810024346</td>\n",
       "      <td>VALLE</td>\n",
       "      <td>76</td>\n",
       "      <td>CALI</td>\n",
       "      <td>76001</td>\n",
       "      <td>Estrato 3</td>\n",
       "      <td>Si</td>\n",
       "      <td>30 minutos o menos</td>\n",
       "      <td>69</td>\n",
       "      <td>75</td>\n",
       "      <td>67</td>\n",
       "      <td>65</td>\n",
       "      <td>71</td>\n",
       "      <td>346</td>\n",
       "    </tr>\n",
       "  </tbody>\n",
       "</table>\n",
       "</div>"
      ],
      "text/plain": [
       "  ESTU_GENERO  PERIODO  ESTU_CONSECUTIVO ESTU_DEPTO_RESIDE  \\\n",
       "0           F    20181  SB11201810007354            BOGOTA   \n",
       "1           M    20181  SB11201810018765             VALLE   \n",
       "2           M    20181  SB11201810028523             VALLE   \n",
       "3           F    20181  SB11201810003574             VALLE   \n",
       "4           F    20181  SB11201810024346             VALLE   \n",
       "\n",
       "  ESTU_COD_RESIDE_DEPTO ESTU_MCPIO_RESIDE ESTU_COD_RESIDE_MCPIO  \\\n",
       "0                    11       BOGOTÁ D.C.                 11001   \n",
       "1                    76              CALI                 76001   \n",
       "2                    76              CALI                 76001   \n",
       "3                    76              CALI                 76001   \n",
       "4                    76              CALI                 76001   \n",
       "\n",
       "  FAMI_ESTRATOVIVIENDA FAMI_TIENECOMPUTADOR ESTU_DEDICACIONINTERNET  \\\n",
       "0            Estrato 6                   Si       Entre 1 y 3 horas   \n",
       "1            Estrato 5                   Si   Entre 30 y 60 minutos   \n",
       "2            Estrato 1                   Si   Entre 30 y 60 minutos   \n",
       "3            Estrato 3                   Si          Más de 3 horas   \n",
       "4            Estrato 3                   Si      30 minutos o menos   \n",
       "\n",
       "   PUNT_LECTURA_CRITICA  PUNT_MATEMATICAS  PUNT_C_NATURALES  \\\n",
       "0                    71                65                69   \n",
       "1                    75                77               100   \n",
       "2                    42                27                29   \n",
       "3                    61                62                72   \n",
       "4                    69                75                67   \n",
       "\n",
       "   PUNT_SOCIALES_CIUDADANAS  PUNT_INGLES  PUNT_GLOBAL  \n",
       "0                        63           90          344  \n",
       "1                        81           86          417  \n",
       "2                        36           29          166  \n",
       "3                        70           79          336  \n",
       "4                        65           71          346  "
      ]
     },
     "execution_count": 27,
     "metadata": {},
     "output_type": "execute_result"
    }
   ],
   "source": [
    "df_icfes['2018-1'].head()"
   ]
  },
  {
   "cell_type": "code",
   "execution_count": 28,
   "id": "funny-message",
   "metadata": {},
   "outputs": [
    {
     "data": {
      "text/html": [
       "<div>\n",
       "<style scoped>\n",
       "    .dataframe tbody tr th:only-of-type {\n",
       "        vertical-align: middle;\n",
       "    }\n",
       "\n",
       "    .dataframe tbody tr th {\n",
       "        vertical-align: top;\n",
       "    }\n",
       "\n",
       "    .dataframe thead th {\n",
       "        text-align: right;\n",
       "    }\n",
       "</style>\n",
       "<table border=\"1\" class=\"dataframe\">\n",
       "  <thead>\n",
       "    <tr style=\"text-align: right;\">\n",
       "      <th></th>\n",
       "      <th>ESTU_GENERO</th>\n",
       "      <th>PERIODO</th>\n",
       "      <th>ESTU_CONSECUTIVO</th>\n",
       "      <th>ESTU_DEPTO_RESIDE</th>\n",
       "      <th>ESTU_COD_RESIDE_DEPTO</th>\n",
       "      <th>ESTU_MCPIO_RESIDE</th>\n",
       "      <th>ESTU_COD_RESIDE_MCPIO</th>\n",
       "      <th>FAMI_ESTRATOVIVIENDA</th>\n",
       "      <th>FAMI_TIENECOMPUTADOR</th>\n",
       "      <th>ESTU_DEDICACIONINTERNET</th>\n",
       "      <th>PUNT_LECTURA_CRITICA</th>\n",
       "      <th>PUNT_MATEMATICAS</th>\n",
       "      <th>PUNT_C_NATURALES</th>\n",
       "      <th>PUNT_SOCIALES_CIUDADANAS</th>\n",
       "      <th>PUNT_INGLES</th>\n",
       "      <th>PUNT_GLOBAL</th>\n",
       "    </tr>\n",
       "  </thead>\n",
       "  <tbody>\n",
       "    <tr>\n",
       "      <th>0</th>\n",
       "      <td>F</td>\n",
       "      <td>20172</td>\n",
       "      <td>SB11201720031454</td>\n",
       "      <td>ANTIOQUIA</td>\n",
       "      <td>5.0</td>\n",
       "      <td>ENVIGADO</td>\n",
       "      <td>5266.0</td>\n",
       "      <td>Estrato 3</td>\n",
       "      <td>Si</td>\n",
       "      <td>Más de 3 horas</td>\n",
       "      <td>53</td>\n",
       "      <td>58</td>\n",
       "      <td>59</td>\n",
       "      <td>60</td>\n",
       "      <td>74</td>\n",
       "      <td>294</td>\n",
       "    </tr>\n",
       "    <tr>\n",
       "      <th>1</th>\n",
       "      <td>M</td>\n",
       "      <td>20172</td>\n",
       "      <td>SB11201720600707</td>\n",
       "      <td>NORTE SANTANDER</td>\n",
       "      <td>54.0</td>\n",
       "      <td>VILLA DEL ROSARIO</td>\n",
       "      <td>54874.0</td>\n",
       "      <td>NaN</td>\n",
       "      <td>NaN</td>\n",
       "      <td>NaN</td>\n",
       "      <td>62</td>\n",
       "      <td>64</td>\n",
       "      <td>66</td>\n",
       "      <td>68</td>\n",
       "      <td>70</td>\n",
       "      <td>327</td>\n",
       "    </tr>\n",
       "    <tr>\n",
       "      <th>2</th>\n",
       "      <td>M</td>\n",
       "      <td>20172</td>\n",
       "      <td>SB11201720074119</td>\n",
       "      <td>CUNDINAMARCA</td>\n",
       "      <td>25.0</td>\n",
       "      <td>CHÍA</td>\n",
       "      <td>25175.0</td>\n",
       "      <td>Estrato 3</td>\n",
       "      <td>Si</td>\n",
       "      <td>Entre 1 y 3 horas</td>\n",
       "      <td>79</td>\n",
       "      <td>83</td>\n",
       "      <td>72</td>\n",
       "      <td>72</td>\n",
       "      <td>87</td>\n",
       "      <td>387</td>\n",
       "    </tr>\n",
       "    <tr>\n",
       "      <th>3</th>\n",
       "      <td>F</td>\n",
       "      <td>20172</td>\n",
       "      <td>SB11201720157782</td>\n",
       "      <td>SANTANDER</td>\n",
       "      <td>68.0</td>\n",
       "      <td>SAN VICENTE DE CHUCURÍ</td>\n",
       "      <td>68689.0</td>\n",
       "      <td>Estrato 1</td>\n",
       "      <td>No</td>\n",
       "      <td>Entre 1 y 3 horas</td>\n",
       "      <td>36</td>\n",
       "      <td>36</td>\n",
       "      <td>45</td>\n",
       "      <td>41</td>\n",
       "      <td>44</td>\n",
       "      <td>199</td>\n",
       "    </tr>\n",
       "    <tr>\n",
       "      <th>4</th>\n",
       "      <td>M</td>\n",
       "      <td>20172</td>\n",
       "      <td>SB11201720562548</td>\n",
       "      <td>PUTUMAYO</td>\n",
       "      <td>86.0</td>\n",
       "      <td>PUERTO ASÍS</td>\n",
       "      <td>86568.0</td>\n",
       "      <td>Estrato 1</td>\n",
       "      <td>Si</td>\n",
       "      <td>Entre 30 y 60 minutos</td>\n",
       "      <td>47</td>\n",
       "      <td>57</td>\n",
       "      <td>54</td>\n",
       "      <td>50</td>\n",
       "      <td>38</td>\n",
       "      <td>255</td>\n",
       "    </tr>\n",
       "  </tbody>\n",
       "</table>\n",
       "</div>"
      ],
      "text/plain": [
       "  ESTU_GENERO  PERIODO  ESTU_CONSECUTIVO ESTU_DEPTO_RESIDE  \\\n",
       "0           F    20172  SB11201720031454         ANTIOQUIA   \n",
       "1           M    20172  SB11201720600707   NORTE SANTANDER   \n",
       "2           M    20172  SB11201720074119      CUNDINAMARCA   \n",
       "3           F    20172  SB11201720157782         SANTANDER   \n",
       "4           M    20172  SB11201720562548          PUTUMAYO   \n",
       "\n",
       "   ESTU_COD_RESIDE_DEPTO       ESTU_MCPIO_RESIDE  ESTU_COD_RESIDE_MCPIO  \\\n",
       "0                    5.0                ENVIGADO                 5266.0   \n",
       "1                   54.0       VILLA DEL ROSARIO                54874.0   \n",
       "2                   25.0                    CHÍA                25175.0   \n",
       "3                   68.0  SAN VICENTE DE CHUCURÍ                68689.0   \n",
       "4                   86.0             PUERTO ASÍS                86568.0   \n",
       "\n",
       "  FAMI_ESTRATOVIVIENDA FAMI_TIENECOMPUTADOR ESTU_DEDICACIONINTERNET  \\\n",
       "0            Estrato 3                   Si          Más de 3 horas   \n",
       "1                  NaN                  NaN                     NaN   \n",
       "2            Estrato 3                   Si       Entre 1 y 3 horas   \n",
       "3            Estrato 1                   No       Entre 1 y 3 horas   \n",
       "4            Estrato 1                   Si   Entre 30 y 60 minutos   \n",
       "\n",
       "   PUNT_LECTURA_CRITICA  PUNT_MATEMATICAS  PUNT_C_NATURALES  \\\n",
       "0                    53                58                59   \n",
       "1                    62                64                66   \n",
       "2                    79                83                72   \n",
       "3                    36                36                45   \n",
       "4                    47                57                54   \n",
       "\n",
       "   PUNT_SOCIALES_CIUDADANAS  PUNT_INGLES  PUNT_GLOBAL  \n",
       "0                        60           74          294  \n",
       "1                        68           70          327  \n",
       "2                        72           87          387  \n",
       "3                        41           44          199  \n",
       "4                        50           38          255  "
      ]
     },
     "execution_count": 28,
     "metadata": {},
     "output_type": "execute_result"
    }
   ],
   "source": [
    "df_icfes['2017-2'].head()"
   ]
  },
  {
   "cell_type": "code",
   "execution_count": 29,
   "id": "wooden-tennis",
   "metadata": {},
   "outputs": [],
   "source": [
    "df_icfes_all = pd.concat([\n",
    "    df_icfes['2020-2'],\n",
    "    df_icfes['2020-1'],\n",
    "    df_icfes['2019-2'],\n",
    "    df_icfes['2019-1'],\n",
    "    df_icfes['2018-2'],\n",
    "    df_icfes['2018-1'],\n",
    "    df_icfes['2017-2']\n",
    "])"
   ]
  },
  {
   "cell_type": "code",
   "execution_count": 30,
   "id": "respiratory-converter",
   "metadata": {},
   "outputs": [
    {
     "data": {
      "text/plain": [
       "array([20204, 20201, 20194, 20191, 20182, 20181, 20172])"
      ]
     },
     "execution_count": 30,
     "metadata": {},
     "output_type": "execute_result"
    }
   ],
   "source": [
    "df_icfes_all['PERIODO'].unique()"
   ]
  },
  {
   "cell_type": "code",
   "execution_count": 31,
   "id": "surgical-particular",
   "metadata": {},
   "outputs": [],
   "source": [
    "dict_dates = {\n",
    "    20204:datetime(2020,6,1),\n",
    "    20201:datetime(2020,1,1),\n",
    "    20194:datetime(2019,6,1),\n",
    "    20191:datetime(2019,1,1),\n",
    "    20182:datetime(2018,6,1),\n",
    "    20181:datetime(2018,1,1),\n",
    "    20172:datetime(2017,6,1)\n",
    "}"
   ]
  },
  {
   "cell_type": "code",
   "execution_count": 32,
   "id": "level-medicine",
   "metadata": {},
   "outputs": [
    {
     "data": {
      "text/plain": [
       "2352535"
      ]
     },
     "execution_count": 32,
     "metadata": {},
     "output_type": "execute_result"
    }
   ],
   "source": [
    "len(df_icfes_all)"
   ]
  },
  {
   "cell_type": "code",
   "execution_count": 33,
   "id": "missing-seeking",
   "metadata": {},
   "outputs": [],
   "source": [
    "df_icfes_all['PERIODO'] = df_icfes_all['PERIODO'].apply(lambda x:dict_dates[x])"
   ]
  },
  {
   "cell_type": "code",
   "execution_count": 34,
   "id": "economic-waste",
   "metadata": {},
   "outputs": [
    {
     "data": {
      "text/plain": [
       "2018-06-01    609118\n",
       "2017-06-01    590996\n",
       "2019-06-01    546212\n",
       "2020-06-01    504872\n",
       "2019-01-01     66104\n",
       "2018-01-01     19798\n",
       "2020-01-01     15435\n",
       "Name: PERIODO, dtype: int64"
      ]
     },
     "execution_count": 34,
     "metadata": {},
     "output_type": "execute_result"
    }
   ],
   "source": [
    "df_icfes_all['PERIODO'].value_counts()"
   ]
  },
  {
   "cell_type": "code",
   "execution_count": 34,
   "id": "bearing-champion",
   "metadata": {},
   "outputs": [],
   "source": [
    "def cast_internet(x):\n",
    "    if x!=x:\n",
    "        return 'NR'\n",
    "    else:\n",
    "        if x=='-' or x=='Sin respuesta':\n",
    "            return 'NR'\n",
    "        else:\n",
    "            return x"
   ]
  },
  {
   "cell_type": "code",
   "execution_count": 35,
   "id": "accessible-reminder",
   "metadata": {},
   "outputs": [
    {
     "ename": "KeyError",
     "evalue": "'FAMI_TIENEINTERNET'",
     "output_type": "error",
     "traceback": [
      "\u001b[0;31m---------------------------------------------------------------------------\u001b[0m",
      "\u001b[0;31mKeyError\u001b[0m                                  Traceback (most recent call last)",
      "\u001b[0;32m~/DATOS-ICFES/icfes/lib/python3.9/site-packages/pandas/core/indexes/base.py\u001b[0m in \u001b[0;36mget_loc\u001b[0;34m(self, key, method, tolerance)\u001b[0m\n\u001b[1;32m   3079\u001b[0m             \u001b[0;32mtry\u001b[0m\u001b[0;34m:\u001b[0m\u001b[0;34m\u001b[0m\u001b[0;34m\u001b[0m\u001b[0m\n\u001b[0;32m-> 3080\u001b[0;31m                 \u001b[0;32mreturn\u001b[0m \u001b[0mself\u001b[0m\u001b[0;34m.\u001b[0m\u001b[0m_engine\u001b[0m\u001b[0;34m.\u001b[0m\u001b[0mget_loc\u001b[0m\u001b[0;34m(\u001b[0m\u001b[0mcasted_key\u001b[0m\u001b[0;34m)\u001b[0m\u001b[0;34m\u001b[0m\u001b[0;34m\u001b[0m\u001b[0m\n\u001b[0m\u001b[1;32m   3081\u001b[0m             \u001b[0;32mexcept\u001b[0m \u001b[0mKeyError\u001b[0m \u001b[0;32mas\u001b[0m \u001b[0merr\u001b[0m\u001b[0;34m:\u001b[0m\u001b[0;34m\u001b[0m\u001b[0;34m\u001b[0m\u001b[0m\n",
      "\u001b[0;32mpandas/_libs/index.pyx\u001b[0m in \u001b[0;36mpandas._libs.index.IndexEngine.get_loc\u001b[0;34m()\u001b[0m\n",
      "\u001b[0;32mpandas/_libs/index.pyx\u001b[0m in \u001b[0;36mpandas._libs.index.IndexEngine.get_loc\u001b[0;34m()\u001b[0m\n",
      "\u001b[0;32mpandas/_libs/hashtable_class_helper.pxi\u001b[0m in \u001b[0;36mpandas._libs.hashtable.PyObjectHashTable.get_item\u001b[0;34m()\u001b[0m\n",
      "\u001b[0;32mpandas/_libs/hashtable_class_helper.pxi\u001b[0m in \u001b[0;36mpandas._libs.hashtable.PyObjectHashTable.get_item\u001b[0;34m()\u001b[0m\n",
      "\u001b[0;31mKeyError\u001b[0m: 'FAMI_TIENEINTERNET'",
      "\nThe above exception was the direct cause of the following exception:\n",
      "\u001b[0;31mKeyError\u001b[0m                                  Traceback (most recent call last)",
      "\u001b[0;32m<ipython-input-35-1aa43c334b41>\u001b[0m in \u001b[0;36m<module>\u001b[0;34m\u001b[0m\n\u001b[0;32m----> 1\u001b[0;31m \u001b[0mdf_icfes_all\u001b[0m\u001b[0;34m[\u001b[0m\u001b[0;34m'FAMI_TIENEINTERNET'\u001b[0m\u001b[0;34m]\u001b[0m \u001b[0;34m=\u001b[0m \u001b[0mdf_icfes_all\u001b[0m\u001b[0;34m[\u001b[0m\u001b[0;34m'FAMI_TIENEINTERNET'\u001b[0m\u001b[0;34m]\u001b[0m\u001b[0;34m.\u001b[0m\u001b[0mapply\u001b[0m\u001b[0;34m(\u001b[0m\u001b[0mcast_internet\u001b[0m\u001b[0;34m)\u001b[0m\u001b[0;34m\u001b[0m\u001b[0;34m\u001b[0m\u001b[0m\n\u001b[0m",
      "\u001b[0;32m~/DATOS-ICFES/icfes/lib/python3.9/site-packages/pandas/core/frame.py\u001b[0m in \u001b[0;36m__getitem__\u001b[0;34m(self, key)\u001b[0m\n\u001b[1;32m   3022\u001b[0m             \u001b[0;32mif\u001b[0m \u001b[0mself\u001b[0m\u001b[0;34m.\u001b[0m\u001b[0mcolumns\u001b[0m\u001b[0;34m.\u001b[0m\u001b[0mnlevels\u001b[0m \u001b[0;34m>\u001b[0m \u001b[0;36m1\u001b[0m\u001b[0;34m:\u001b[0m\u001b[0;34m\u001b[0m\u001b[0;34m\u001b[0m\u001b[0m\n\u001b[1;32m   3023\u001b[0m                 \u001b[0;32mreturn\u001b[0m \u001b[0mself\u001b[0m\u001b[0;34m.\u001b[0m\u001b[0m_getitem_multilevel\u001b[0m\u001b[0;34m(\u001b[0m\u001b[0mkey\u001b[0m\u001b[0;34m)\u001b[0m\u001b[0;34m\u001b[0m\u001b[0;34m\u001b[0m\u001b[0m\n\u001b[0;32m-> 3024\u001b[0;31m             \u001b[0mindexer\u001b[0m \u001b[0;34m=\u001b[0m \u001b[0mself\u001b[0m\u001b[0;34m.\u001b[0m\u001b[0mcolumns\u001b[0m\u001b[0;34m.\u001b[0m\u001b[0mget_loc\u001b[0m\u001b[0;34m(\u001b[0m\u001b[0mkey\u001b[0m\u001b[0;34m)\u001b[0m\u001b[0;34m\u001b[0m\u001b[0;34m\u001b[0m\u001b[0m\n\u001b[0m\u001b[1;32m   3025\u001b[0m             \u001b[0;32mif\u001b[0m \u001b[0mis_integer\u001b[0m\u001b[0;34m(\u001b[0m\u001b[0mindexer\u001b[0m\u001b[0;34m)\u001b[0m\u001b[0;34m:\u001b[0m\u001b[0;34m\u001b[0m\u001b[0;34m\u001b[0m\u001b[0m\n\u001b[1;32m   3026\u001b[0m                 \u001b[0mindexer\u001b[0m \u001b[0;34m=\u001b[0m \u001b[0;34m[\u001b[0m\u001b[0mindexer\u001b[0m\u001b[0;34m]\u001b[0m\u001b[0;34m\u001b[0m\u001b[0;34m\u001b[0m\u001b[0m\n",
      "\u001b[0;32m~/DATOS-ICFES/icfes/lib/python3.9/site-packages/pandas/core/indexes/base.py\u001b[0m in \u001b[0;36mget_loc\u001b[0;34m(self, key, method, tolerance)\u001b[0m\n\u001b[1;32m   3080\u001b[0m                 \u001b[0;32mreturn\u001b[0m \u001b[0mself\u001b[0m\u001b[0;34m.\u001b[0m\u001b[0m_engine\u001b[0m\u001b[0;34m.\u001b[0m\u001b[0mget_loc\u001b[0m\u001b[0;34m(\u001b[0m\u001b[0mcasted_key\u001b[0m\u001b[0;34m)\u001b[0m\u001b[0;34m\u001b[0m\u001b[0;34m\u001b[0m\u001b[0m\n\u001b[1;32m   3081\u001b[0m             \u001b[0;32mexcept\u001b[0m \u001b[0mKeyError\u001b[0m \u001b[0;32mas\u001b[0m \u001b[0merr\u001b[0m\u001b[0;34m:\u001b[0m\u001b[0;34m\u001b[0m\u001b[0;34m\u001b[0m\u001b[0m\n\u001b[0;32m-> 3082\u001b[0;31m                 \u001b[0;32mraise\u001b[0m \u001b[0mKeyError\u001b[0m\u001b[0;34m(\u001b[0m\u001b[0mkey\u001b[0m\u001b[0;34m)\u001b[0m \u001b[0;32mfrom\u001b[0m \u001b[0merr\u001b[0m\u001b[0;34m\u001b[0m\u001b[0;34m\u001b[0m\u001b[0m\n\u001b[0m\u001b[1;32m   3083\u001b[0m \u001b[0;34m\u001b[0m\u001b[0m\n\u001b[1;32m   3084\u001b[0m         \u001b[0;32mif\u001b[0m \u001b[0mtolerance\u001b[0m \u001b[0;32mis\u001b[0m \u001b[0;32mnot\u001b[0m \u001b[0;32mNone\u001b[0m\u001b[0;34m:\u001b[0m\u001b[0;34m\u001b[0m\u001b[0;34m\u001b[0m\u001b[0m\n",
      "\u001b[0;31mKeyError\u001b[0m: 'FAMI_TIENEINTERNET'"
     ]
    }
   ],
   "source": [
    "df_icfes_all['FAMI_TIENEINTERNET'] = df_icfes_all['FAMI_TIENEINTERNET'].apply(cast_internet)"
   ]
  },
  {
   "cell_type": "code",
   "execution_count": null,
   "id": "intimate-spray",
   "metadata": {},
   "outputs": [],
   "source": [
    "df_icfes_all['FAMI_TIENEINTERNET'].value_counts()"
   ]
  },
  {
   "cell_type": "code",
   "execution_count": null,
   "id": "competent-encyclopedia",
   "metadata": {},
   "outputs": [],
   "source": [
    "df_icfes_all['FAMI_TIENECOMPUTADOR'].value_counts()"
   ]
  },
  {
   "cell_type": "code",
   "execution_count": null,
   "id": "initial-latter",
   "metadata": {},
   "outputs": [],
   "source": [
    "df_icfes_all['ESTU_DEDICACIONINTERNET'].value_counts()"
   ]
  },
  {
   "cell_type": "code",
   "execution_count": null,
   "id": "eligible-gambling",
   "metadata": {},
   "outputs": [],
   "source": [
    "df_count_periodo = df_icfes_all.groupby(['PERIODO']).agg({'ESTU_CONSECUTIVO':'count'}).reset_index()"
   ]
  },
  {
   "cell_type": "code",
   "execution_count": null,
   "id": "trained-vegetation",
   "metadata": {},
   "outputs": [],
   "source": [
    "df_count_tiene_internet = df_icfes_all.groupby(['PERIODO','FAMI_TIENEINTERNET']).agg({'ESTU_CONSECUTIVO':'count'}).unstack().reset_index().fillna(0)"
   ]
  },
  {
   "cell_type": "code",
   "execution_count": null,
   "id": "parental-witness",
   "metadata": {},
   "outputs": [],
   "source": [
    "df_merged = pd.merge(df_count_periodo,df_count_tiene_internet,on='PERIODO')"
   ]
  },
  {
   "cell_type": "code",
   "execution_count": null,
   "id": "distant-quality",
   "metadata": {},
   "outputs": [],
   "source": [
    "df_merged"
   ]
  },
  {
   "cell_type": "code",
   "execution_count": null,
   "id": "wanted-diary",
   "metadata": {},
   "outputs": [],
   "source": [
    "df_merged.columns = [\n",
    "        'periodo',\n",
    "        'conteo',\n",
    "        'NR',\n",
    "        'No',\n",
    "        'Si'\n",
    "]"
   ]
  },
  {
   "cell_type": "code",
   "execution_count": null,
   "id": "known-concentration",
   "metadata": {},
   "outputs": [],
   "source": [
    "df_merged['Si_porcentaje'] = df_merged['Si']/df_merged['conteo']\n",
    "df_merged['No_porcentaje'] = df_merged['No']/df_merged['conteo']\n",
    "df_merged['NR_porcentaje'] = df_merged['NR']/df_merged['conteo']"
   ]
  },
  {
   "cell_type": "code",
   "execution_count": 35,
   "id": "aggressive-velvet",
   "metadata": {},
   "outputs": [],
   "source": [
    "def cast_dedicacion_internet(x):\n",
    "    if x!=x:\n",
    "        return 'NR'\n",
    "    else:\n",
    "        if x=='No Navega Internet':\n",
    "            return 'NO'\n",
    "        elif x=='-':\n",
    "            return 'NR'\n",
    "        else:\n",
    "            return 'SI'"
   ]
  },
  {
   "cell_type": "code",
   "execution_count": 38,
   "id": "higher-humor",
   "metadata": {},
   "outputs": [
    {
     "data": {
      "text/plain": [
       "SI    1959282\n",
       "NR     261977\n",
       "NO     131276\n",
       "Name: ESTU_DEDICACIONINTERNET, dtype: int64"
      ]
     },
     "execution_count": 38,
     "metadata": {},
     "output_type": "execute_result"
    }
   ],
   "source": [
    "df_icfes_all['ESTU_DEDICACIONINTERNET'].value_counts()"
   ]
  },
  {
   "cell_type": "code",
   "execution_count": 37,
   "id": "thick-suite",
   "metadata": {},
   "outputs": [],
   "source": [
    "df_icfes_all['ESTU_DEDICACIONINTERNET'] = df_icfes_all['ESTU_DEDICACIONINTERNET'].apply(cast_dedicacion_internet)"
   ]
  },
  {
   "cell_type": "code",
   "execution_count": 47,
   "id": "recovered-spank",
   "metadata": {},
   "outputs": [
    {
     "data": {
      "text/plain": [
       "array(['CUNDINAMARCA', 'ANTIOQUIA', 'BOLIVAR', 'NORTE SANTANDER',\n",
       "       'CAQUETA', 'RISARALDA', 'SANTANDER', 'MAGDALENA', 'BOGOTÁ',\n",
       "       'CALDAS', 'VALLE', 'SUCRE', 'ATLANTICO', 'QUINDIO', 'LA GUAJIRA',\n",
       "       'HUILA', 'CORDOBA', 'NARIÑO', 'CAUCA', 'CASANARE', 'GUAVIARE',\n",
       "       'PUTUMAYO', 'CESAR', 'CHOCO', 'ARAUCA', 'VICHADA', 'META',\n",
       "       'TOLIMA', 'BOYACA', 'AMAZONAS', 'EXTRANJERO', 'SAN ANDRES',\n",
       "       'VAUPES', 'GUAINIA', nan, 'BOGOTA', '-'], dtype=object)"
      ]
     },
     "execution_count": 47,
     "metadata": {},
     "output_type": "execute_result"
    }
   ],
   "source": [
    "df_icfes_all['ESTU_DEPTO_RESIDE'].unique()"
   ]
  },
  {
   "cell_type": "code",
   "execution_count": 43,
   "id": "through-writer",
   "metadata": {},
   "outputs": [
    {
     "data": {
      "text/html": [
       "<div>\n",
       "<style scoped>\n",
       "    .dataframe tbody tr th:only-of-type {\n",
       "        vertical-align: middle;\n",
       "    }\n",
       "\n",
       "    .dataframe tbody tr th {\n",
       "        vertical-align: top;\n",
       "    }\n",
       "\n",
       "    .dataframe thead th {\n",
       "        text-align: right;\n",
       "    }\n",
       "</style>\n",
       "<table border=\"1\" class=\"dataframe\">\n",
       "  <thead>\n",
       "    <tr style=\"text-align: right;\">\n",
       "      <th></th>\n",
       "      <th>ESTU_GENERO</th>\n",
       "      <th>PERIODO</th>\n",
       "      <th>ESTU_CONSECUTIVO</th>\n",
       "      <th>ESTU_DEPTO_RESIDE</th>\n",
       "      <th>ESTU_COD_RESIDE_DEPTO</th>\n",
       "      <th>ESTU_MCPIO_RESIDE</th>\n",
       "      <th>ESTU_COD_RESIDE_MCPIO</th>\n",
       "      <th>FAMI_ESTRATOVIVIENDA</th>\n",
       "      <th>FAMI_TIENECOMPUTADOR</th>\n",
       "      <th>ESTU_DEDICACIONINTERNET</th>\n",
       "      <th>PUNT_LECTURA_CRITICA</th>\n",
       "      <th>PUNT_MATEMATICAS</th>\n",
       "      <th>PUNT_C_NATURALES</th>\n",
       "      <th>PUNT_SOCIALES_CIUDADANAS</th>\n",
       "      <th>PUNT_INGLES</th>\n",
       "      <th>PUNT_GLOBAL</th>\n",
       "    </tr>\n",
       "  </thead>\n",
       "  <tbody>\n",
       "    <tr>\n",
       "      <th>4</th>\n",
       "      <td>F</td>\n",
       "      <td>2019-01-01</td>\n",
       "      <td>SB11201910014490</td>\n",
       "      <td>BOGOTA</td>\n",
       "      <td>11.0</td>\n",
       "      <td>BOGOTÁ D.C.</td>\n",
       "      <td>11001.0</td>\n",
       "      <td>Estrato 6</td>\n",
       "      <td>Si</td>\n",
       "      <td>SI</td>\n",
       "      <td>55</td>\n",
       "      <td>67</td>\n",
       "      <td>50</td>\n",
       "      <td>47</td>\n",
       "      <td>71.0</td>\n",
       "      <td>280</td>\n",
       "    </tr>\n",
       "    <tr>\n",
       "      <th>5</th>\n",
       "      <td>M</td>\n",
       "      <td>2019-01-01</td>\n",
       "      <td>SB11201910010355</td>\n",
       "      <td>BOGOTA</td>\n",
       "      <td>11.0</td>\n",
       "      <td>BOGOTÁ D.C.</td>\n",
       "      <td>11001.0</td>\n",
       "      <td>Estrato 6</td>\n",
       "      <td>Si</td>\n",
       "      <td>SI</td>\n",
       "      <td>57</td>\n",
       "      <td>73</td>\n",
       "      <td>65</td>\n",
       "      <td>61</td>\n",
       "      <td>87.0</td>\n",
       "      <td>329</td>\n",
       "    </tr>\n",
       "    <tr>\n",
       "      <th>6</th>\n",
       "      <td>F</td>\n",
       "      <td>2019-01-01</td>\n",
       "      <td>SB11201910015989</td>\n",
       "      <td>BOGOTA</td>\n",
       "      <td>11.0</td>\n",
       "      <td>BOGOTÁ D.C.</td>\n",
       "      <td>11001.0</td>\n",
       "      <td>Sin Estrato</td>\n",
       "      <td>Si</td>\n",
       "      <td>SI</td>\n",
       "      <td>55</td>\n",
       "      <td>64</td>\n",
       "      <td>63</td>\n",
       "      <td>59</td>\n",
       "      <td>85.0</td>\n",
       "      <td>311</td>\n",
       "    </tr>\n",
       "    <tr>\n",
       "      <th>7</th>\n",
       "      <td>F</td>\n",
       "      <td>2019-01-01</td>\n",
       "      <td>SB11201910015950</td>\n",
       "      <td>BOGOTA</td>\n",
       "      <td>11.0</td>\n",
       "      <td>BOGOTÁ D.C.</td>\n",
       "      <td>11001.0</td>\n",
       "      <td>Estrato 6</td>\n",
       "      <td>Si</td>\n",
       "      <td>SI</td>\n",
       "      <td>64</td>\n",
       "      <td>72</td>\n",
       "      <td>74</td>\n",
       "      <td>72</td>\n",
       "      <td>85.0</td>\n",
       "      <td>358</td>\n",
       "    </tr>\n",
       "    <tr>\n",
       "      <th>8</th>\n",
       "      <td>F</td>\n",
       "      <td>2019-01-01</td>\n",
       "      <td>SB11201910013692</td>\n",
       "      <td>BOGOTA</td>\n",
       "      <td>11.0</td>\n",
       "      <td>BOGOTÁ D.C.</td>\n",
       "      <td>11001.0</td>\n",
       "      <td>NaN</td>\n",
       "      <td>Si</td>\n",
       "      <td>NR</td>\n",
       "      <td>53</td>\n",
       "      <td>56</td>\n",
       "      <td>48</td>\n",
       "      <td>48</td>\n",
       "      <td>71.0</td>\n",
       "      <td>264</td>\n",
       "    </tr>\n",
       "    <tr>\n",
       "      <th>...</th>\n",
       "      <td>...</td>\n",
       "      <td>...</td>\n",
       "      <td>...</td>\n",
       "      <td>...</td>\n",
       "      <td>...</td>\n",
       "      <td>...</td>\n",
       "      <td>...</td>\n",
       "      <td>...</td>\n",
       "      <td>...</td>\n",
       "      <td>...</td>\n",
       "      <td>...</td>\n",
       "      <td>...</td>\n",
       "      <td>...</td>\n",
       "      <td>...</td>\n",
       "      <td>...</td>\n",
       "      <td>...</td>\n",
       "    </tr>\n",
       "    <tr>\n",
       "      <th>590975</th>\n",
       "      <td>M</td>\n",
       "      <td>2017-06-01</td>\n",
       "      <td>SB11201720263531</td>\n",
       "      <td>BOGOTA</td>\n",
       "      <td>11.0</td>\n",
       "      <td>BOGOTÁ, D.C.</td>\n",
       "      <td>11001.0</td>\n",
       "      <td>Estrato 3</td>\n",
       "      <td>Si</td>\n",
       "      <td>SI</td>\n",
       "      <td>62</td>\n",
       "      <td>70</td>\n",
       "      <td>64</td>\n",
       "      <td>66</td>\n",
       "      <td>54.0</td>\n",
       "      <td>323</td>\n",
       "    </tr>\n",
       "    <tr>\n",
       "      <th>590978</th>\n",
       "      <td>M</td>\n",
       "      <td>2017-06-01</td>\n",
       "      <td>SB11201720397622</td>\n",
       "      <td>BOGOTA</td>\n",
       "      <td>11.0</td>\n",
       "      <td>BOGOTÁ, D.C.</td>\n",
       "      <td>11001.0</td>\n",
       "      <td>Estrato 2</td>\n",
       "      <td>Si</td>\n",
       "      <td>SI</td>\n",
       "      <td>75</td>\n",
       "      <td>70</td>\n",
       "      <td>69</td>\n",
       "      <td>74</td>\n",
       "      <td>68.0</td>\n",
       "      <td>358</td>\n",
       "    </tr>\n",
       "    <tr>\n",
       "      <th>590988</th>\n",
       "      <td>M</td>\n",
       "      <td>2017-06-01</td>\n",
       "      <td>SB11201720070861</td>\n",
       "      <td>BOGOTA</td>\n",
       "      <td>11.0</td>\n",
       "      <td>BOGOTÁ, D.C.</td>\n",
       "      <td>11001.0</td>\n",
       "      <td>Estrato 2</td>\n",
       "      <td>Si</td>\n",
       "      <td>SI</td>\n",
       "      <td>64</td>\n",
       "      <td>75</td>\n",
       "      <td>73</td>\n",
       "      <td>64</td>\n",
       "      <td>75.0</td>\n",
       "      <td>347</td>\n",
       "    </tr>\n",
       "    <tr>\n",
       "      <th>590991</th>\n",
       "      <td>M</td>\n",
       "      <td>2017-06-01</td>\n",
       "      <td>SB11201720077531</td>\n",
       "      <td>BOGOTA</td>\n",
       "      <td>11.0</td>\n",
       "      <td>BOGOTÁ, D.C.</td>\n",
       "      <td>11001.0</td>\n",
       "      <td>Estrato 1</td>\n",
       "      <td>Si</td>\n",
       "      <td>SI</td>\n",
       "      <td>61</td>\n",
       "      <td>57</td>\n",
       "      <td>54</td>\n",
       "      <td>50</td>\n",
       "      <td>48.0</td>\n",
       "      <td>275</td>\n",
       "    </tr>\n",
       "    <tr>\n",
       "      <th>590993</th>\n",
       "      <td>M</td>\n",
       "      <td>2017-06-01</td>\n",
       "      <td>SB11201720580253</td>\n",
       "      <td>BOGOTA</td>\n",
       "      <td>11.0</td>\n",
       "      <td>BOGOTÁ, D.C.</td>\n",
       "      <td>11001.0</td>\n",
       "      <td>Estrato 2</td>\n",
       "      <td>Si</td>\n",
       "      <td>SI</td>\n",
       "      <td>47</td>\n",
       "      <td>57</td>\n",
       "      <td>60</td>\n",
       "      <td>50</td>\n",
       "      <td>60.0</td>\n",
       "      <td>270</td>\n",
       "    </tr>\n",
       "  </tbody>\n",
       "</table>\n",
       "<p>209349 rows × 16 columns</p>\n",
       "</div>"
      ],
      "text/plain": [
       "       ESTU_GENERO    PERIODO  ESTU_CONSECUTIVO ESTU_DEPTO_RESIDE  \\\n",
       "4                F 2019-01-01  SB11201910014490            BOGOTA   \n",
       "5                M 2019-01-01  SB11201910010355            BOGOTA   \n",
       "6                F 2019-01-01  SB11201910015989            BOGOTA   \n",
       "7                F 2019-01-01  SB11201910015950            BOGOTA   \n",
       "8                F 2019-01-01  SB11201910013692            BOGOTA   \n",
       "...            ...        ...               ...               ...   \n",
       "590975           M 2017-06-01  SB11201720263531            BOGOTA   \n",
       "590978           M 2017-06-01  SB11201720397622            BOGOTA   \n",
       "590988           M 2017-06-01  SB11201720070861            BOGOTA   \n",
       "590991           M 2017-06-01  SB11201720077531            BOGOTA   \n",
       "590993           M 2017-06-01  SB11201720580253            BOGOTA   \n",
       "\n",
       "       ESTU_COD_RESIDE_DEPTO ESTU_MCPIO_RESIDE ESTU_COD_RESIDE_MCPIO  \\\n",
       "4                       11.0       BOGOTÁ D.C.               11001.0   \n",
       "5                       11.0       BOGOTÁ D.C.               11001.0   \n",
       "6                       11.0       BOGOTÁ D.C.               11001.0   \n",
       "7                       11.0       BOGOTÁ D.C.               11001.0   \n",
       "8                       11.0       BOGOTÁ D.C.               11001.0   \n",
       "...                      ...               ...                   ...   \n",
       "590975                  11.0      BOGOTÁ, D.C.               11001.0   \n",
       "590978                  11.0      BOGOTÁ, D.C.               11001.0   \n",
       "590988                  11.0      BOGOTÁ, D.C.               11001.0   \n",
       "590991                  11.0      BOGOTÁ, D.C.               11001.0   \n",
       "590993                  11.0      BOGOTÁ, D.C.               11001.0   \n",
       "\n",
       "       FAMI_ESTRATOVIVIENDA FAMI_TIENECOMPUTADOR ESTU_DEDICACIONINTERNET  \\\n",
       "4                 Estrato 6                   Si                      SI   \n",
       "5                 Estrato 6                   Si                      SI   \n",
       "6               Sin Estrato                   Si                      SI   \n",
       "7                 Estrato 6                   Si                      SI   \n",
       "8                       NaN                   Si                      NR   \n",
       "...                     ...                  ...                     ...   \n",
       "590975            Estrato 3                   Si                      SI   \n",
       "590978            Estrato 2                   Si                      SI   \n",
       "590988            Estrato 2                   Si                      SI   \n",
       "590991            Estrato 1                   Si                      SI   \n",
       "590993            Estrato 2                   Si                      SI   \n",
       "\n",
       "        PUNT_LECTURA_CRITICA  PUNT_MATEMATICAS  PUNT_C_NATURALES  \\\n",
       "4                         55                67                50   \n",
       "5                         57                73                65   \n",
       "6                         55                64                63   \n",
       "7                         64                72                74   \n",
       "8                         53                56                48   \n",
       "...                      ...               ...               ...   \n",
       "590975                    62                70                64   \n",
       "590978                    75                70                69   \n",
       "590988                    64                75                73   \n",
       "590991                    61                57                54   \n",
       "590993                    47                57                60   \n",
       "\n",
       "        PUNT_SOCIALES_CIUDADANAS  PUNT_INGLES  PUNT_GLOBAL  \n",
       "4                             47         71.0          280  \n",
       "5                             61         87.0          329  \n",
       "6                             59         85.0          311  \n",
       "7                             72         85.0          358  \n",
       "8                             48         71.0          264  \n",
       "...                          ...          ...          ...  \n",
       "590975                        66         54.0          323  \n",
       "590978                        74         68.0          358  \n",
       "590988                        64         75.0          347  \n",
       "590991                        50         48.0          275  \n",
       "590993                        50         60.0          270  \n",
       "\n",
       "[209349 rows x 16 columns]"
      ]
     },
     "execution_count": 43,
     "metadata": {},
     "output_type": "execute_result"
    }
   ],
   "source": [
    "df_icfes_all.loc[df_icfes_all['ESTU_DEPTO_RESIDE']=='BOGOTA']"
   ]
  },
  {
   "cell_type": "code",
   "execution_count": 75,
   "id": "ready-oliver",
   "metadata": {},
   "outputs": [],
   "source": [
    "#df_d_internet = df_icfes_all.groupby(['ESTU_DEDICACIONINTERNET','PERIODO']).agg({\n",
    "df_d_internet = df_icfes_all.loc[df_icfes_all['ESTU_DEPTO_RESIDE'].isin(['BOGOTA','BOGOTÁ'])].groupby(['ESTU_DEDICACIONINTERNET','PERIODO']).agg({\n",
    "    'ESTU_CONSECUTIVO':'count','PUNT_GLOBAL':'mean'\n",
    "}).reset_index()"
   ]
  },
  {
   "cell_type": "code",
   "execution_count": 76,
   "id": "psychological-radical",
   "metadata": {},
   "outputs": [],
   "source": [
    "df_d_internet = df_d_internet.loc[df_d_internet['ESTU_DEDICACIONINTERNET']!='NR']"
   ]
  },
  {
   "cell_type": "code",
   "execution_count": 77,
   "id": "obvious-family",
   "metadata": {},
   "outputs": [
    {
     "data": {
      "text/html": [
       "<div>\n",
       "<style scoped>\n",
       "    .dataframe tbody tr th:only-of-type {\n",
       "        vertical-align: middle;\n",
       "    }\n",
       "\n",
       "    .dataframe tbody tr th {\n",
       "        vertical-align: top;\n",
       "    }\n",
       "\n",
       "    .dataframe thead th {\n",
       "        text-align: right;\n",
       "    }\n",
       "</style>\n",
       "<table border=\"1\" class=\"dataframe\">\n",
       "  <thead>\n",
       "    <tr style=\"text-align: right;\">\n",
       "      <th></th>\n",
       "      <th>PERIODO</th>\n",
       "      <th>ESTU_CONSECUTIVO</th>\n",
       "    </tr>\n",
       "  </thead>\n",
       "  <tbody>\n",
       "    <tr>\n",
       "      <th>0</th>\n",
       "      <td>2017-06-01</td>\n",
       "      <td>86119</td>\n",
       "    </tr>\n",
       "    <tr>\n",
       "      <th>1</th>\n",
       "      <td>2018-01-01</td>\n",
       "      <td>5050</td>\n",
       "    </tr>\n",
       "    <tr>\n",
       "      <th>2</th>\n",
       "      <td>2018-06-01</td>\n",
       "      <td>85096</td>\n",
       "    </tr>\n",
       "    <tr>\n",
       "      <th>3</th>\n",
       "      <td>2019-01-01</td>\n",
       "      <td>5122</td>\n",
       "    </tr>\n",
       "    <tr>\n",
       "      <th>4</th>\n",
       "      <td>2019-06-01</td>\n",
       "      <td>79897</td>\n",
       "    </tr>\n",
       "    <tr>\n",
       "      <th>5</th>\n",
       "      <td>2020-01-01</td>\n",
       "      <td>3377</td>\n",
       "    </tr>\n",
       "    <tr>\n",
       "      <th>6</th>\n",
       "      <td>2020-06-01</td>\n",
       "      <td>75201</td>\n",
       "    </tr>\n",
       "  </tbody>\n",
       "</table>\n",
       "</div>"
      ],
      "text/plain": [
       "     PERIODO  ESTU_CONSECUTIVO\n",
       "0 2017-06-01             86119\n",
       "1 2018-01-01              5050\n",
       "2 2018-06-01             85096\n",
       "3 2019-01-01              5122\n",
       "4 2019-06-01             79897\n",
       "5 2020-01-01              3377\n",
       "6 2020-06-01             75201"
      ]
     },
     "execution_count": 77,
     "metadata": {},
     "output_type": "execute_result"
    }
   ],
   "source": [
    "df_d_internet.groupby('PERIODO').sum()['ESTU_CONSECUTIVO'].reset_index()"
   ]
  },
  {
   "cell_type": "code",
   "execution_count": 78,
   "id": "tight-catch",
   "metadata": {},
   "outputs": [],
   "source": [
    "df_d_internet = pd.merge(df_d_internet, df_d_internet.groupby('PERIODO').sum()['ESTU_CONSECUTIVO'].reset_index(), on='PERIODO', how='left')"
   ]
  },
  {
   "cell_type": "code",
   "execution_count": 79,
   "id": "domestic-chemical",
   "metadata": {},
   "outputs": [],
   "source": [
    "df_d_internet['ESTU_CONSECUTIVO'] = df_d_internet['ESTU_CONSECUTIVO_x']/df_d_internet['ESTU_CONSECUTIVO_y']*100"
   ]
  },
  {
   "cell_type": "code",
   "execution_count": 80,
   "id": "brave-mathematics",
   "metadata": {},
   "outputs": [],
   "source": [
    "df_d_internet_s2 = df_d_internet.loc[df_d_internet['PERIODO'].isin([\n",
    "    datetime(2020,6,1),\n",
    "    datetime(2019,6,1),\n",
    "    datetime(2018,6,1),\n",
    "    datetime(2017,6,1)\n",
    "])]"
   ]
  },
  {
   "cell_type": "code",
   "execution_count": 81,
   "id": "considered-extent",
   "metadata": {},
   "outputs": [
    {
     "data": {
      "text/html": [
       "<div>\n",
       "<style scoped>\n",
       "    .dataframe tbody tr th:only-of-type {\n",
       "        vertical-align: middle;\n",
       "    }\n",
       "\n",
       "    .dataframe tbody tr th {\n",
       "        vertical-align: top;\n",
       "    }\n",
       "\n",
       "    .dataframe thead th {\n",
       "        text-align: right;\n",
       "    }\n",
       "</style>\n",
       "<table border=\"1\" class=\"dataframe\">\n",
       "  <thead>\n",
       "    <tr style=\"text-align: right;\">\n",
       "      <th></th>\n",
       "      <th>ESTU_DEDICACIONINTERNET</th>\n",
       "      <th>PERIODO</th>\n",
       "      <th>ESTU_CONSECUTIVO_x</th>\n",
       "      <th>PUNT_GLOBAL</th>\n",
       "      <th>ESTU_CONSECUTIVO_y</th>\n",
       "      <th>ESTU_CONSECUTIVO</th>\n",
       "    </tr>\n",
       "  </thead>\n",
       "  <tbody>\n",
       "    <tr>\n",
       "      <th>0</th>\n",
       "      <td>NO</td>\n",
       "      <td>2017-06-01</td>\n",
       "      <td>2265</td>\n",
       "      <td>245.213687</td>\n",
       "      <td>86119</td>\n",
       "      <td>2.630082</td>\n",
       "    </tr>\n",
       "    <tr>\n",
       "      <th>2</th>\n",
       "      <td>NO</td>\n",
       "      <td>2018-06-01</td>\n",
       "      <td>1885</td>\n",
       "      <td>243.221751</td>\n",
       "      <td>85096</td>\n",
       "      <td>2.215145</td>\n",
       "    </tr>\n",
       "    <tr>\n",
       "      <th>4</th>\n",
       "      <td>NO</td>\n",
       "      <td>2019-06-01</td>\n",
       "      <td>1720</td>\n",
       "      <td>236.603488</td>\n",
       "      <td>79897</td>\n",
       "      <td>2.152772</td>\n",
       "    </tr>\n",
       "    <tr>\n",
       "      <th>6</th>\n",
       "      <td>NO</td>\n",
       "      <td>2020-06-01</td>\n",
       "      <td>1370</td>\n",
       "      <td>231.839416</td>\n",
       "      <td>75201</td>\n",
       "      <td>1.821784</td>\n",
       "    </tr>\n",
       "    <tr>\n",
       "      <th>7</th>\n",
       "      <td>SI</td>\n",
       "      <td>2017-06-01</td>\n",
       "      <td>83854</td>\n",
       "      <td>276.061178</td>\n",
       "      <td>86119</td>\n",
       "      <td>97.369918</td>\n",
       "    </tr>\n",
       "    <tr>\n",
       "      <th>9</th>\n",
       "      <td>SI</td>\n",
       "      <td>2018-06-01</td>\n",
       "      <td>83211</td>\n",
       "      <td>272.145966</td>\n",
       "      <td>85096</td>\n",
       "      <td>97.784855</td>\n",
       "    </tr>\n",
       "    <tr>\n",
       "      <th>11</th>\n",
       "      <td>SI</td>\n",
       "      <td>2019-06-01</td>\n",
       "      <td>78177</td>\n",
       "      <td>268.269568</td>\n",
       "      <td>79897</td>\n",
       "      <td>97.847228</td>\n",
       "    </tr>\n",
       "    <tr>\n",
       "      <th>13</th>\n",
       "      <td>SI</td>\n",
       "      <td>2020-06-01</td>\n",
       "      <td>73831</td>\n",
       "      <td>268.635424</td>\n",
       "      <td>75201</td>\n",
       "      <td>98.178216</td>\n",
       "    </tr>\n",
       "  </tbody>\n",
       "</table>\n",
       "</div>"
      ],
      "text/plain": [
       "   ESTU_DEDICACIONINTERNET    PERIODO  ESTU_CONSECUTIVO_x  PUNT_GLOBAL  \\\n",
       "0                       NO 2017-06-01                2265   245.213687   \n",
       "2                       NO 2018-06-01                1885   243.221751   \n",
       "4                       NO 2019-06-01                1720   236.603488   \n",
       "6                       NO 2020-06-01                1370   231.839416   \n",
       "7                       SI 2017-06-01               83854   276.061178   \n",
       "9                       SI 2018-06-01               83211   272.145966   \n",
       "11                      SI 2019-06-01               78177   268.269568   \n",
       "13                      SI 2020-06-01               73831   268.635424   \n",
       "\n",
       "    ESTU_CONSECUTIVO_y  ESTU_CONSECUTIVO  \n",
       "0                86119          2.630082  \n",
       "2                85096          2.215145  \n",
       "4                79897          2.152772  \n",
       "6                75201          1.821784  \n",
       "7                86119         97.369918  \n",
       "9                85096         97.784855  \n",
       "11               79897         97.847228  \n",
       "13               75201         98.178216  "
      ]
     },
     "execution_count": 81,
     "metadata": {},
     "output_type": "execute_result"
    }
   ],
   "source": [
    "df_d_internet_s2"
   ]
  },
  {
   "cell_type": "code",
   "execution_count": 83,
   "id": "twenty-prior",
   "metadata": {},
   "outputs": [
    {
     "data": {
      "application/vnd.plotly.v1+json": {
       "config": {
        "plotlyServerURL": "https://plot.ly"
       },
       "data": [
        {
         "name": "Sin internet",
         "type": "bar",
         "x": [
          "2017-06-01T00:00:00",
          "2018-06-01T00:00:00",
          "2019-06-01T00:00:00",
          "2020-06-01T00:00:00"
         ],
         "xaxis": "x",
         "y": [
          2.6300816312312034,
          2.215145247720222,
          2.1527716935554526,
          1.8217842847834471
         ],
         "yaxis": "y"
        },
        {
         "name": "Con internet",
         "type": "bar",
         "x": [
          "2017-06-01T00:00:00",
          "2018-06-01T00:00:00",
          "2019-06-01T00:00:00",
          "2020-06-01T00:00:00"
         ],
         "xaxis": "x",
         "y": [
          97.3699183687688,
          97.78485475227978,
          97.84722830644455,
          98.17821571521655
         ],
         "yaxis": "y"
        },
        {
         "name": "Puntaje promedio sin internet",
         "type": "scatter",
         "x": [
          "2017-06-01T00:00:00",
          "2018-06-01T00:00:00",
          "2019-06-01T00:00:00",
          "2020-06-01T00:00:00"
         ],
         "xaxis": "x",
         "y": [
          245.21368653421632,
          243.22175066312997,
          236.603488372093,
          231.83941605839416
         ],
         "yaxis": "y2"
        },
        {
         "name": "Puntaje promedio con intertet",
         "type": "scatter",
         "x": [
          "2017-06-01T00:00:00",
          "2018-06-01T00:00:00",
          "2019-06-01T00:00:00",
          "2020-06-01T00:00:00"
         ],
         "xaxis": "x",
         "y": [
          276.0611777613471,
          272.1459662784968,
          268.26956777568853,
          268.6354241443296
         ],
         "yaxis": "y2"
        }
       ],
       "layout": {
        "template": {
         "data": {
          "bar": [
           {
            "error_x": {
             "color": "#2a3f5f"
            },
            "error_y": {
             "color": "#2a3f5f"
            },
            "marker": {
             "line": {
              "color": "#E5ECF6",
              "width": 0.5
             }
            },
            "type": "bar"
           }
          ],
          "barpolar": [
           {
            "marker": {
             "line": {
              "color": "#E5ECF6",
              "width": 0.5
             }
            },
            "type": "barpolar"
           }
          ],
          "carpet": [
           {
            "aaxis": {
             "endlinecolor": "#2a3f5f",
             "gridcolor": "white",
             "linecolor": "white",
             "minorgridcolor": "white",
             "startlinecolor": "#2a3f5f"
            },
            "baxis": {
             "endlinecolor": "#2a3f5f",
             "gridcolor": "white",
             "linecolor": "white",
             "minorgridcolor": "white",
             "startlinecolor": "#2a3f5f"
            },
            "type": "carpet"
           }
          ],
          "choropleth": [
           {
            "colorbar": {
             "outlinewidth": 0,
             "ticks": ""
            },
            "type": "choropleth"
           }
          ],
          "contour": [
           {
            "colorbar": {
             "outlinewidth": 0,
             "ticks": ""
            },
            "colorscale": [
             [
              0,
              "#0d0887"
             ],
             [
              0.1111111111111111,
              "#46039f"
             ],
             [
              0.2222222222222222,
              "#7201a8"
             ],
             [
              0.3333333333333333,
              "#9c179e"
             ],
             [
              0.4444444444444444,
              "#bd3786"
             ],
             [
              0.5555555555555556,
              "#d8576b"
             ],
             [
              0.6666666666666666,
              "#ed7953"
             ],
             [
              0.7777777777777778,
              "#fb9f3a"
             ],
             [
              0.8888888888888888,
              "#fdca26"
             ],
             [
              1,
              "#f0f921"
             ]
            ],
            "type": "contour"
           }
          ],
          "contourcarpet": [
           {
            "colorbar": {
             "outlinewidth": 0,
             "ticks": ""
            },
            "type": "contourcarpet"
           }
          ],
          "heatmap": [
           {
            "colorbar": {
             "outlinewidth": 0,
             "ticks": ""
            },
            "colorscale": [
             [
              0,
              "#0d0887"
             ],
             [
              0.1111111111111111,
              "#46039f"
             ],
             [
              0.2222222222222222,
              "#7201a8"
             ],
             [
              0.3333333333333333,
              "#9c179e"
             ],
             [
              0.4444444444444444,
              "#bd3786"
             ],
             [
              0.5555555555555556,
              "#d8576b"
             ],
             [
              0.6666666666666666,
              "#ed7953"
             ],
             [
              0.7777777777777778,
              "#fb9f3a"
             ],
             [
              0.8888888888888888,
              "#fdca26"
             ],
             [
              1,
              "#f0f921"
             ]
            ],
            "type": "heatmap"
           }
          ],
          "heatmapgl": [
           {
            "colorbar": {
             "outlinewidth": 0,
             "ticks": ""
            },
            "colorscale": [
             [
              0,
              "#0d0887"
             ],
             [
              0.1111111111111111,
              "#46039f"
             ],
             [
              0.2222222222222222,
              "#7201a8"
             ],
             [
              0.3333333333333333,
              "#9c179e"
             ],
             [
              0.4444444444444444,
              "#bd3786"
             ],
             [
              0.5555555555555556,
              "#d8576b"
             ],
             [
              0.6666666666666666,
              "#ed7953"
             ],
             [
              0.7777777777777778,
              "#fb9f3a"
             ],
             [
              0.8888888888888888,
              "#fdca26"
             ],
             [
              1,
              "#f0f921"
             ]
            ],
            "type": "heatmapgl"
           }
          ],
          "histogram": [
           {
            "marker": {
             "colorbar": {
              "outlinewidth": 0,
              "ticks": ""
             }
            },
            "type": "histogram"
           }
          ],
          "histogram2d": [
           {
            "colorbar": {
             "outlinewidth": 0,
             "ticks": ""
            },
            "colorscale": [
             [
              0,
              "#0d0887"
             ],
             [
              0.1111111111111111,
              "#46039f"
             ],
             [
              0.2222222222222222,
              "#7201a8"
             ],
             [
              0.3333333333333333,
              "#9c179e"
             ],
             [
              0.4444444444444444,
              "#bd3786"
             ],
             [
              0.5555555555555556,
              "#d8576b"
             ],
             [
              0.6666666666666666,
              "#ed7953"
             ],
             [
              0.7777777777777778,
              "#fb9f3a"
             ],
             [
              0.8888888888888888,
              "#fdca26"
             ],
             [
              1,
              "#f0f921"
             ]
            ],
            "type": "histogram2d"
           }
          ],
          "histogram2dcontour": [
           {
            "colorbar": {
             "outlinewidth": 0,
             "ticks": ""
            },
            "colorscale": [
             [
              0,
              "#0d0887"
             ],
             [
              0.1111111111111111,
              "#46039f"
             ],
             [
              0.2222222222222222,
              "#7201a8"
             ],
             [
              0.3333333333333333,
              "#9c179e"
             ],
             [
              0.4444444444444444,
              "#bd3786"
             ],
             [
              0.5555555555555556,
              "#d8576b"
             ],
             [
              0.6666666666666666,
              "#ed7953"
             ],
             [
              0.7777777777777778,
              "#fb9f3a"
             ],
             [
              0.8888888888888888,
              "#fdca26"
             ],
             [
              1,
              "#f0f921"
             ]
            ],
            "type": "histogram2dcontour"
           }
          ],
          "mesh3d": [
           {
            "colorbar": {
             "outlinewidth": 0,
             "ticks": ""
            },
            "type": "mesh3d"
           }
          ],
          "parcoords": [
           {
            "line": {
             "colorbar": {
              "outlinewidth": 0,
              "ticks": ""
             }
            },
            "type": "parcoords"
           }
          ],
          "pie": [
           {
            "automargin": true,
            "type": "pie"
           }
          ],
          "scatter": [
           {
            "marker": {
             "colorbar": {
              "outlinewidth": 0,
              "ticks": ""
             }
            },
            "type": "scatter"
           }
          ],
          "scatter3d": [
           {
            "line": {
             "colorbar": {
              "outlinewidth": 0,
              "ticks": ""
             }
            },
            "marker": {
             "colorbar": {
              "outlinewidth": 0,
              "ticks": ""
             }
            },
            "type": "scatter3d"
           }
          ],
          "scattercarpet": [
           {
            "marker": {
             "colorbar": {
              "outlinewidth": 0,
              "ticks": ""
             }
            },
            "type": "scattercarpet"
           }
          ],
          "scattergeo": [
           {
            "marker": {
             "colorbar": {
              "outlinewidth": 0,
              "ticks": ""
             }
            },
            "type": "scattergeo"
           }
          ],
          "scattergl": [
           {
            "marker": {
             "colorbar": {
              "outlinewidth": 0,
              "ticks": ""
             }
            },
            "type": "scattergl"
           }
          ],
          "scattermapbox": [
           {
            "marker": {
             "colorbar": {
              "outlinewidth": 0,
              "ticks": ""
             }
            },
            "type": "scattermapbox"
           }
          ],
          "scatterpolar": [
           {
            "marker": {
             "colorbar": {
              "outlinewidth": 0,
              "ticks": ""
             }
            },
            "type": "scatterpolar"
           }
          ],
          "scatterpolargl": [
           {
            "marker": {
             "colorbar": {
              "outlinewidth": 0,
              "ticks": ""
             }
            },
            "type": "scatterpolargl"
           }
          ],
          "scatterternary": [
           {
            "marker": {
             "colorbar": {
              "outlinewidth": 0,
              "ticks": ""
             }
            },
            "type": "scatterternary"
           }
          ],
          "surface": [
           {
            "colorbar": {
             "outlinewidth": 0,
             "ticks": ""
            },
            "colorscale": [
             [
              0,
              "#0d0887"
             ],
             [
              0.1111111111111111,
              "#46039f"
             ],
             [
              0.2222222222222222,
              "#7201a8"
             ],
             [
              0.3333333333333333,
              "#9c179e"
             ],
             [
              0.4444444444444444,
              "#bd3786"
             ],
             [
              0.5555555555555556,
              "#d8576b"
             ],
             [
              0.6666666666666666,
              "#ed7953"
             ],
             [
              0.7777777777777778,
              "#fb9f3a"
             ],
             [
              0.8888888888888888,
              "#fdca26"
             ],
             [
              1,
              "#f0f921"
             ]
            ],
            "type": "surface"
           }
          ],
          "table": [
           {
            "cells": {
             "fill": {
              "color": "#EBF0F8"
             },
             "line": {
              "color": "white"
             }
            },
            "header": {
             "fill": {
              "color": "#C8D4E3"
             },
             "line": {
              "color": "white"
             }
            },
            "type": "table"
           }
          ]
         },
         "layout": {
          "annotationdefaults": {
           "arrowcolor": "#2a3f5f",
           "arrowhead": 0,
           "arrowwidth": 1
          },
          "autotypenumbers": "strict",
          "coloraxis": {
           "colorbar": {
            "outlinewidth": 0,
            "ticks": ""
           }
          },
          "colorscale": {
           "diverging": [
            [
             0,
             "#8e0152"
            ],
            [
             0.1,
             "#c51b7d"
            ],
            [
             0.2,
             "#de77ae"
            ],
            [
             0.3,
             "#f1b6da"
            ],
            [
             0.4,
             "#fde0ef"
            ],
            [
             0.5,
             "#f7f7f7"
            ],
            [
             0.6,
             "#e6f5d0"
            ],
            [
             0.7,
             "#b8e186"
            ],
            [
             0.8,
             "#7fbc41"
            ],
            [
             0.9,
             "#4d9221"
            ],
            [
             1,
             "#276419"
            ]
           ],
           "sequential": [
            [
             0,
             "#0d0887"
            ],
            [
             0.1111111111111111,
             "#46039f"
            ],
            [
             0.2222222222222222,
             "#7201a8"
            ],
            [
             0.3333333333333333,
             "#9c179e"
            ],
            [
             0.4444444444444444,
             "#bd3786"
            ],
            [
             0.5555555555555556,
             "#d8576b"
            ],
            [
             0.6666666666666666,
             "#ed7953"
            ],
            [
             0.7777777777777778,
             "#fb9f3a"
            ],
            [
             0.8888888888888888,
             "#fdca26"
            ],
            [
             1,
             "#f0f921"
            ]
           ],
           "sequentialminus": [
            [
             0,
             "#0d0887"
            ],
            [
             0.1111111111111111,
             "#46039f"
            ],
            [
             0.2222222222222222,
             "#7201a8"
            ],
            [
             0.3333333333333333,
             "#9c179e"
            ],
            [
             0.4444444444444444,
             "#bd3786"
            ],
            [
             0.5555555555555556,
             "#d8576b"
            ],
            [
             0.6666666666666666,
             "#ed7953"
            ],
            [
             0.7777777777777778,
             "#fb9f3a"
            ],
            [
             0.8888888888888888,
             "#fdca26"
            ],
            [
             1,
             "#f0f921"
            ]
           ]
          },
          "colorway": [
           "#636efa",
           "#EF553B",
           "#00cc96",
           "#ab63fa",
           "#FFA15A",
           "#19d3f3",
           "#FF6692",
           "#B6E880",
           "#FF97FF",
           "#FECB52"
          ],
          "font": {
           "color": "#2a3f5f"
          },
          "geo": {
           "bgcolor": "white",
           "lakecolor": "white",
           "landcolor": "#E5ECF6",
           "showlakes": true,
           "showland": true,
           "subunitcolor": "white"
          },
          "hoverlabel": {
           "align": "left"
          },
          "hovermode": "closest",
          "mapbox": {
           "style": "light"
          },
          "paper_bgcolor": "white",
          "plot_bgcolor": "#E5ECF6",
          "polar": {
           "angularaxis": {
            "gridcolor": "white",
            "linecolor": "white",
            "ticks": ""
           },
           "bgcolor": "#E5ECF6",
           "radialaxis": {
            "gridcolor": "white",
            "linecolor": "white",
            "ticks": ""
           }
          },
          "scene": {
           "xaxis": {
            "backgroundcolor": "#E5ECF6",
            "gridcolor": "white",
            "gridwidth": 2,
            "linecolor": "white",
            "showbackground": true,
            "ticks": "",
            "zerolinecolor": "white"
           },
           "yaxis": {
            "backgroundcolor": "#E5ECF6",
            "gridcolor": "white",
            "gridwidth": 2,
            "linecolor": "white",
            "showbackground": true,
            "ticks": "",
            "zerolinecolor": "white"
           },
           "zaxis": {
            "backgroundcolor": "#E5ECF6",
            "gridcolor": "white",
            "gridwidth": 2,
            "linecolor": "white",
            "showbackground": true,
            "ticks": "",
            "zerolinecolor": "white"
           }
          },
          "shapedefaults": {
           "line": {
            "color": "#2a3f5f"
           }
          },
          "ternary": {
           "aaxis": {
            "gridcolor": "white",
            "linecolor": "white",
            "ticks": ""
           },
           "baxis": {
            "gridcolor": "white",
            "linecolor": "white",
            "ticks": ""
           },
           "bgcolor": "#E5ECF6",
           "caxis": {
            "gridcolor": "white",
            "linecolor": "white",
            "ticks": ""
           }
          },
          "title": {
           "x": 0.05
          },
          "xaxis": {
           "automargin": true,
           "gridcolor": "white",
           "linecolor": "white",
           "ticks": "",
           "title": {
            "standoff": 15
           },
           "zerolinecolor": "white",
           "zerolinewidth": 2
          },
          "yaxis": {
           "automargin": true,
           "gridcolor": "white",
           "linecolor": "white",
           "ticks": "",
           "title": {
            "standoff": 15
           },
           "zerolinecolor": "white",
           "zerolinewidth": 2
          }
         }
        },
        "title": {
         "text": "Análisis de impacto internet puntaje Saber 11 - Nivel Bogotá"
        },
        "xaxis": {
         "anchor": "y",
         "domain": [
          0,
          0.94
         ],
         "nticks": 5,
         "tickformat": "%Y",
         "title": {
          "text": "Año de presentación"
         }
        },
        "yaxis": {
         "anchor": "x",
         "domain": [
          0,
          1
         ],
         "title": {
          "text": "Porcentaje de estudiantes con y sin internet"
         }
        },
        "yaxis2": {
         "anchor": "x",
         "overlaying": "y",
         "side": "right",
         "title": {
          "text": "Puntaje promedio"
         }
        }
       }
      },
      "text/html": [
       "<div>                            <div id=\"2123ca11-87ff-4bcd-904b-241e627e0942\" class=\"plotly-graph-div\" style=\"height:525px; width:100%;\"></div>            <script type=\"text/javascript\">                require([\"plotly\"], function(Plotly) {                    window.PLOTLYENV=window.PLOTLYENV || {};                                    if (document.getElementById(\"2123ca11-87ff-4bcd-904b-241e627e0942\")) {                    Plotly.newPlot(                        \"2123ca11-87ff-4bcd-904b-241e627e0942\",                        [{\"name\": \"Sin internet\", \"type\": \"bar\", \"x\": [\"2017-06-01T00:00:00\", \"2018-06-01T00:00:00\", \"2019-06-01T00:00:00\", \"2020-06-01T00:00:00\"], \"xaxis\": \"x\", \"y\": [2.6300816312312034, 2.215145247720222, 2.1527716935554526, 1.8217842847834471], \"yaxis\": \"y\"}, {\"name\": \"Con internet\", \"type\": \"bar\", \"x\": [\"2017-06-01T00:00:00\", \"2018-06-01T00:00:00\", \"2019-06-01T00:00:00\", \"2020-06-01T00:00:00\"], \"xaxis\": \"x\", \"y\": [97.3699183687688, 97.78485475227978, 97.84722830644455, 98.17821571521655], \"yaxis\": \"y\"}, {\"name\": \"Puntaje promedio sin internet\", \"type\": \"scatter\", \"x\": [\"2017-06-01T00:00:00\", \"2018-06-01T00:00:00\", \"2019-06-01T00:00:00\", \"2020-06-01T00:00:00\"], \"xaxis\": \"x\", \"y\": [245.21368653421632, 243.22175066312997, 236.603488372093, 231.83941605839416], \"yaxis\": \"y2\"}, {\"name\": \"Puntaje promedio con intertet\", \"type\": \"scatter\", \"x\": [\"2017-06-01T00:00:00\", \"2018-06-01T00:00:00\", \"2019-06-01T00:00:00\", \"2020-06-01T00:00:00\"], \"xaxis\": \"x\", \"y\": [276.0611777613471, 272.1459662784968, 268.26956777568853, 268.6354241443296], \"yaxis\": \"y2\"}],                        {\"template\": {\"data\": {\"bar\": [{\"error_x\": {\"color\": \"#2a3f5f\"}, \"error_y\": {\"color\": \"#2a3f5f\"}, \"marker\": {\"line\": {\"color\": \"#E5ECF6\", \"width\": 0.5}}, \"type\": \"bar\"}], \"barpolar\": [{\"marker\": {\"line\": {\"color\": \"#E5ECF6\", \"width\": 0.5}}, \"type\": \"barpolar\"}], \"carpet\": [{\"aaxis\": {\"endlinecolor\": \"#2a3f5f\", \"gridcolor\": \"white\", \"linecolor\": \"white\", \"minorgridcolor\": \"white\", \"startlinecolor\": \"#2a3f5f\"}, \"baxis\": {\"endlinecolor\": \"#2a3f5f\", \"gridcolor\": \"white\", \"linecolor\": \"white\", \"minorgridcolor\": \"white\", \"startlinecolor\": \"#2a3f5f\"}, \"type\": \"carpet\"}], \"choropleth\": [{\"colorbar\": {\"outlinewidth\": 0, \"ticks\": \"\"}, \"type\": \"choropleth\"}], \"contour\": [{\"colorbar\": {\"outlinewidth\": 0, \"ticks\": \"\"}, \"colorscale\": [[0.0, \"#0d0887\"], [0.1111111111111111, \"#46039f\"], [0.2222222222222222, \"#7201a8\"], [0.3333333333333333, \"#9c179e\"], [0.4444444444444444, \"#bd3786\"], [0.5555555555555556, \"#d8576b\"], [0.6666666666666666, \"#ed7953\"], [0.7777777777777778, \"#fb9f3a\"], [0.8888888888888888, \"#fdca26\"], [1.0, \"#f0f921\"]], \"type\": \"contour\"}], \"contourcarpet\": [{\"colorbar\": {\"outlinewidth\": 0, \"ticks\": \"\"}, \"type\": \"contourcarpet\"}], \"heatmap\": [{\"colorbar\": {\"outlinewidth\": 0, \"ticks\": \"\"}, \"colorscale\": [[0.0, \"#0d0887\"], [0.1111111111111111, \"#46039f\"], [0.2222222222222222, \"#7201a8\"], [0.3333333333333333, \"#9c179e\"], [0.4444444444444444, \"#bd3786\"], [0.5555555555555556, \"#d8576b\"], [0.6666666666666666, \"#ed7953\"], [0.7777777777777778, \"#fb9f3a\"], [0.8888888888888888, \"#fdca26\"], [1.0, \"#f0f921\"]], \"type\": \"heatmap\"}], \"heatmapgl\": [{\"colorbar\": {\"outlinewidth\": 0, \"ticks\": \"\"}, \"colorscale\": [[0.0, \"#0d0887\"], [0.1111111111111111, \"#46039f\"], [0.2222222222222222, \"#7201a8\"], [0.3333333333333333, \"#9c179e\"], [0.4444444444444444, \"#bd3786\"], [0.5555555555555556, \"#d8576b\"], [0.6666666666666666, \"#ed7953\"], [0.7777777777777778, \"#fb9f3a\"], [0.8888888888888888, \"#fdca26\"], [1.0, \"#f0f921\"]], \"type\": \"heatmapgl\"}], \"histogram\": [{\"marker\": {\"colorbar\": {\"outlinewidth\": 0, \"ticks\": \"\"}}, \"type\": \"histogram\"}], \"histogram2d\": [{\"colorbar\": {\"outlinewidth\": 0, \"ticks\": \"\"}, \"colorscale\": [[0.0, \"#0d0887\"], [0.1111111111111111, \"#46039f\"], [0.2222222222222222, \"#7201a8\"], [0.3333333333333333, \"#9c179e\"], [0.4444444444444444, \"#bd3786\"], [0.5555555555555556, \"#d8576b\"], [0.6666666666666666, \"#ed7953\"], [0.7777777777777778, \"#fb9f3a\"], [0.8888888888888888, \"#fdca26\"], [1.0, \"#f0f921\"]], \"type\": \"histogram2d\"}], \"histogram2dcontour\": [{\"colorbar\": {\"outlinewidth\": 0, \"ticks\": \"\"}, \"colorscale\": [[0.0, \"#0d0887\"], [0.1111111111111111, \"#46039f\"], [0.2222222222222222, \"#7201a8\"], [0.3333333333333333, \"#9c179e\"], [0.4444444444444444, \"#bd3786\"], [0.5555555555555556, \"#d8576b\"], [0.6666666666666666, \"#ed7953\"], [0.7777777777777778, \"#fb9f3a\"], [0.8888888888888888, \"#fdca26\"], [1.0, \"#f0f921\"]], \"type\": \"histogram2dcontour\"}], \"mesh3d\": [{\"colorbar\": {\"outlinewidth\": 0, \"ticks\": \"\"}, \"type\": \"mesh3d\"}], \"parcoords\": [{\"line\": {\"colorbar\": {\"outlinewidth\": 0, \"ticks\": \"\"}}, \"type\": \"parcoords\"}], \"pie\": [{\"automargin\": true, \"type\": \"pie\"}], \"scatter\": [{\"marker\": {\"colorbar\": {\"outlinewidth\": 0, \"ticks\": \"\"}}, \"type\": \"scatter\"}], \"scatter3d\": [{\"line\": {\"colorbar\": {\"outlinewidth\": 0, \"ticks\": \"\"}}, \"marker\": {\"colorbar\": {\"outlinewidth\": 0, \"ticks\": \"\"}}, \"type\": \"scatter3d\"}], \"scattercarpet\": [{\"marker\": {\"colorbar\": {\"outlinewidth\": 0, \"ticks\": \"\"}}, \"type\": \"scattercarpet\"}], \"scattergeo\": [{\"marker\": {\"colorbar\": {\"outlinewidth\": 0, \"ticks\": \"\"}}, \"type\": \"scattergeo\"}], \"scattergl\": [{\"marker\": {\"colorbar\": {\"outlinewidth\": 0, \"ticks\": \"\"}}, \"type\": \"scattergl\"}], \"scattermapbox\": [{\"marker\": {\"colorbar\": {\"outlinewidth\": 0, \"ticks\": \"\"}}, \"type\": \"scattermapbox\"}], \"scatterpolar\": [{\"marker\": {\"colorbar\": {\"outlinewidth\": 0, \"ticks\": \"\"}}, \"type\": \"scatterpolar\"}], \"scatterpolargl\": [{\"marker\": {\"colorbar\": {\"outlinewidth\": 0, \"ticks\": \"\"}}, \"type\": \"scatterpolargl\"}], \"scatterternary\": [{\"marker\": {\"colorbar\": {\"outlinewidth\": 0, \"ticks\": \"\"}}, \"type\": \"scatterternary\"}], \"surface\": [{\"colorbar\": {\"outlinewidth\": 0, \"ticks\": \"\"}, \"colorscale\": [[0.0, \"#0d0887\"], [0.1111111111111111, \"#46039f\"], [0.2222222222222222, \"#7201a8\"], [0.3333333333333333, \"#9c179e\"], [0.4444444444444444, \"#bd3786\"], [0.5555555555555556, \"#d8576b\"], [0.6666666666666666, \"#ed7953\"], [0.7777777777777778, \"#fb9f3a\"], [0.8888888888888888, \"#fdca26\"], [1.0, \"#f0f921\"]], \"type\": \"surface\"}], \"table\": [{\"cells\": {\"fill\": {\"color\": \"#EBF0F8\"}, \"line\": {\"color\": \"white\"}}, \"header\": {\"fill\": {\"color\": \"#C8D4E3\"}, \"line\": {\"color\": \"white\"}}, \"type\": \"table\"}]}, \"layout\": {\"annotationdefaults\": {\"arrowcolor\": \"#2a3f5f\", \"arrowhead\": 0, \"arrowwidth\": 1}, \"autotypenumbers\": \"strict\", \"coloraxis\": {\"colorbar\": {\"outlinewidth\": 0, \"ticks\": \"\"}}, \"colorscale\": {\"diverging\": [[0, \"#8e0152\"], [0.1, \"#c51b7d\"], [0.2, \"#de77ae\"], [0.3, \"#f1b6da\"], [0.4, \"#fde0ef\"], [0.5, \"#f7f7f7\"], [0.6, \"#e6f5d0\"], [0.7, \"#b8e186\"], [0.8, \"#7fbc41\"], [0.9, \"#4d9221\"], [1, \"#276419\"]], \"sequential\": [[0.0, \"#0d0887\"], [0.1111111111111111, \"#46039f\"], [0.2222222222222222, \"#7201a8\"], [0.3333333333333333, \"#9c179e\"], [0.4444444444444444, \"#bd3786\"], [0.5555555555555556, \"#d8576b\"], [0.6666666666666666, \"#ed7953\"], [0.7777777777777778, \"#fb9f3a\"], [0.8888888888888888, \"#fdca26\"], [1.0, \"#f0f921\"]], \"sequentialminus\": [[0.0, \"#0d0887\"], [0.1111111111111111, \"#46039f\"], [0.2222222222222222, \"#7201a8\"], [0.3333333333333333, \"#9c179e\"], [0.4444444444444444, \"#bd3786\"], [0.5555555555555556, \"#d8576b\"], [0.6666666666666666, \"#ed7953\"], [0.7777777777777778, \"#fb9f3a\"], [0.8888888888888888, \"#fdca26\"], [1.0, \"#f0f921\"]]}, \"colorway\": [\"#636efa\", \"#EF553B\", \"#00cc96\", \"#ab63fa\", \"#FFA15A\", \"#19d3f3\", \"#FF6692\", \"#B6E880\", \"#FF97FF\", \"#FECB52\"], \"font\": {\"color\": \"#2a3f5f\"}, \"geo\": {\"bgcolor\": \"white\", \"lakecolor\": \"white\", \"landcolor\": \"#E5ECF6\", \"showlakes\": true, \"showland\": true, \"subunitcolor\": \"white\"}, \"hoverlabel\": {\"align\": \"left\"}, \"hovermode\": \"closest\", \"mapbox\": {\"style\": \"light\"}, \"paper_bgcolor\": \"white\", \"plot_bgcolor\": \"#E5ECF6\", \"polar\": {\"angularaxis\": {\"gridcolor\": \"white\", \"linecolor\": \"white\", \"ticks\": \"\"}, \"bgcolor\": \"#E5ECF6\", \"radialaxis\": {\"gridcolor\": \"white\", \"linecolor\": \"white\", \"ticks\": \"\"}}, \"scene\": {\"xaxis\": {\"backgroundcolor\": \"#E5ECF6\", \"gridcolor\": \"white\", \"gridwidth\": 2, \"linecolor\": \"white\", \"showbackground\": true, \"ticks\": \"\", \"zerolinecolor\": \"white\"}, \"yaxis\": {\"backgroundcolor\": \"#E5ECF6\", \"gridcolor\": \"white\", \"gridwidth\": 2, \"linecolor\": \"white\", \"showbackground\": true, \"ticks\": \"\", \"zerolinecolor\": \"white\"}, \"zaxis\": {\"backgroundcolor\": \"#E5ECF6\", \"gridcolor\": \"white\", \"gridwidth\": 2, \"linecolor\": \"white\", \"showbackground\": true, \"ticks\": \"\", \"zerolinecolor\": \"white\"}}, \"shapedefaults\": {\"line\": {\"color\": \"#2a3f5f\"}}, \"ternary\": {\"aaxis\": {\"gridcolor\": \"white\", \"linecolor\": \"white\", \"ticks\": \"\"}, \"baxis\": {\"gridcolor\": \"white\", \"linecolor\": \"white\", \"ticks\": \"\"}, \"bgcolor\": \"#E5ECF6\", \"caxis\": {\"gridcolor\": \"white\", \"linecolor\": \"white\", \"ticks\": \"\"}}, \"title\": {\"x\": 0.05}, \"xaxis\": {\"automargin\": true, \"gridcolor\": \"white\", \"linecolor\": \"white\", \"ticks\": \"\", \"title\": {\"standoff\": 15}, \"zerolinecolor\": \"white\", \"zerolinewidth\": 2}, \"yaxis\": {\"automargin\": true, \"gridcolor\": \"white\", \"linecolor\": \"white\", \"ticks\": \"\", \"title\": {\"standoff\": 15}, \"zerolinecolor\": \"white\", \"zerolinewidth\": 2}}}, \"title\": {\"text\": \"An\\u00e1lisis de impacto internet puntaje Saber 11 - Nivel Bogot\\u00e1\"}, \"xaxis\": {\"anchor\": \"y\", \"domain\": [0.0, 0.94], \"nticks\": 5, \"tickformat\": \"%Y\", \"title\": {\"text\": \"A\\u00f1o de presentaci\\u00f3n\"}}, \"yaxis\": {\"anchor\": \"x\", \"domain\": [0.0, 1.0], \"title\": {\"text\": \"Porcentaje de estudiantes con y sin internet\"}}, \"yaxis2\": {\"anchor\": \"x\", \"overlaying\": \"y\", \"side\": \"right\", \"title\": {\"text\": \"Puntaje promedio\"}}},                        {\"responsive\": true}                    ).then(function(){\n",
       "                            \n",
       "var gd = document.getElementById('2123ca11-87ff-4bcd-904b-241e627e0942');\n",
       "var x = new MutationObserver(function (mutations, observer) {{\n",
       "        var display = window.getComputedStyle(gd).display;\n",
       "        if (!display || display === 'none') {{\n",
       "            console.log([gd, 'removed!']);\n",
       "            Plotly.purge(gd);\n",
       "            observer.disconnect();\n",
       "        }}\n",
       "}});\n",
       "\n",
       "// Listen for the removal of the full notebook cells\n",
       "var notebookContainer = gd.closest('#notebook-container');\n",
       "if (notebookContainer) {{\n",
       "    x.observe(notebookContainer, {childList: true});\n",
       "}}\n",
       "\n",
       "// Listen for the clearing of the current output cell\n",
       "var outputEl = gd.closest('.output');\n",
       "if (outputEl) {{\n",
       "    x.observe(outputEl, {childList: true});\n",
       "}}\n",
       "\n",
       "                        })                };                });            </script>        </div>"
      ]
     },
     "metadata": {},
     "output_type": "display_data"
    }
   ],
   "source": [
    "import plotly.graph_objects as go\n",
    "from plotly.subplots import make_subplots\n",
    "\n",
    "# Create figure with secondary y-axis\n",
    "fig = make_subplots(specs=[[{\"secondary_y\": True}]])\n",
    "\n",
    "# Add traces\n",
    "fig.add_trace(\n",
    "    go.Bar(name='Sin internet', x=df_d_internet_s2.loc[df_d_internet['ESTU_DEDICACIONINTERNET']=='NO']['PERIODO'], y=df_d_internet_s2.loc[df_d_internet['ESTU_DEDICACIONINTERNET']=='NO']['ESTU_CONSECUTIVO']),\n",
    "    secondary_y=False,\n",
    ")\n",
    "\n",
    "fig.add_trace(\n",
    "    go.Bar(name='Con internet', x=df_d_internet_s2.loc[df_d_internet['ESTU_DEDICACIONINTERNET']=='SI']['PERIODO'], y=df_d_internet_s2.loc[df_d_internet['ESTU_DEDICACIONINTERNET']=='SI']['ESTU_CONSECUTIVO']),\n",
    "    secondary_y=False,\n",
    ")\n",
    "\n",
    "# Add traces\n",
    "fig.add_trace(\n",
    "    go.Line(name='Puntaje promedio sin internet', x=df_d_internet_s2.loc[df_d_internet['ESTU_DEDICACIONINTERNET']=='NO']['PERIODO'], y=df_d_internet_s2.loc[df_d_internet['ESTU_DEDICACIONINTERNET']=='NO']['PUNT_GLOBAL']),\n",
    "    secondary_y=True,\n",
    ")\n",
    "\n",
    "fig.add_trace(\n",
    "    go.Line(name='Puntaje promedio con intertet', x=df_d_internet_s2.loc[df_d_internet['ESTU_DEDICACIONINTERNET']=='SI']['PERIODO'], y=df_d_internet_s2.loc[df_d_internet['ESTU_DEDICACIONINTERNET']=='SI']['PUNT_GLOBAL']),\n",
    "    secondary_y=True,\n",
    ")\n",
    "\n",
    "# Add figure title\n",
    "fig.update_layout(\n",
    "    title_text=\"Double Y Axis Example\"\n",
    ")\n",
    "\n",
    "# Set x-axis title\n",
    "fig.update_xaxes(title_text=\"xaxis title\")\n",
    "\n",
    "# Set y-axes titles\n",
    "fig.update_yaxes(title_text=\"Porcentaje de estudiantes con y sin internet\", secondary_y=False)\n",
    "fig.update_yaxes(title_text=\"Puntaje promedio\", secondary_y=True)\n",
    "fig.update_xaxes(title_text=\"Año de presentación\", nticks=5)\n",
    "fig.update_layout(xaxis=dict(tickformat=\"%Y\"))\n",
    "\n",
    "fig.update_layout(title_text='Análisis de impacto internet puntaje Saber 11 - Nivel Bogotá')\n",
    "\n",
    "fig.show()"
   ]
  },
  {
   "cell_type": "code",
   "execution_count": 84,
   "id": "constitutional-palmer",
   "metadata": {},
   "outputs": [],
   "source": [
    "fig.write_html('docs/bogota.html')"
   ]
  }
 ],
 "metadata": {
  "kernelspec": {
   "display_name": "Python 3",
   "language": "python",
   "name": "python3"
  },
  "language_info": {
   "codemirror_mode": {
    "name": "ipython",
    "version": 3
   },
   "file_extension": ".py",
   "mimetype": "text/x-python",
   "name": "python",
   "nbconvert_exporter": "python",
   "pygments_lexer": "ipython3",
   "version": "3.9.2"
  }
 },
 "nbformat": 4,
 "nbformat_minor": 5
}
