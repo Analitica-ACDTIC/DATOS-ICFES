{
 "cells": [
  {
   "cell_type": "code",
   "execution_count": 69,
   "id": "contrary-sight",
   "metadata": {},
   "outputs": [],
   "source": [
    "import pandas as pd"
   ]
  },
  {
   "cell_type": "code",
   "execution_count": 23,
   "id": "eleven-selling",
   "metadata": {},
   "outputs": [
    {
     "name": "stdout",
     "output_type": "stream",
     "text": [
      "Requirement already satisfied: plotly in ./icfes/lib/python3.9/site-packages (4.14.3)\n",
      "Requirement already satisfied: six in ./icfes/lib/python3.9/site-packages (from plotly) (1.15.0)\n",
      "Requirement already satisfied: retrying>=1.3.3 in ./icfes/lib/python3.9/site-packages (from plotly) (1.3.3)\n"
     ]
    }
   ],
   "source": [
    "!pip install plotly"
   ]
  },
  {
   "cell_type": "code",
   "execution_count": 70,
   "id": "oriented-opera",
   "metadata": {},
   "outputs": [],
   "source": [
    "from datetime import datetime"
   ]
  },
  {
   "cell_type": "code",
   "execution_count": 71,
   "id": "imperial-baker",
   "metadata": {},
   "outputs": [],
   "source": [
    "df_icfes = {}"
   ]
  },
  {
   "cell_type": "code",
   "execution_count": 72,
   "id": "joint-burke",
   "metadata": {},
   "outputs": [],
   "source": [
    "df_icfes['2020-2'] = pd.read_csv('./data/Saber_11__2020-2.csv')"
   ]
  },
  {
   "cell_type": "code",
   "execution_count": 73,
   "id": "sealed-vermont",
   "metadata": {},
   "outputs": [],
   "source": [
    "df_icfes['2020-1'] = pd.read_csv('./data/Saber_11__2020-1.csv')"
   ]
  },
  {
   "cell_type": "code",
   "execution_count": 74,
   "id": "negative-words",
   "metadata": {},
   "outputs": [
    {
     "name": "stderr",
     "output_type": "stream",
     "text": [
      "/Users/jfmolano/DATOS-ICFES/icfes/lib/python3.9/site-packages/IPython/core/interactiveshell.py:3165: DtypeWarning: Columns (76,78) have mixed types.Specify dtype option on import or set low_memory=False.\n",
      "  has_raised = await self.run_ast_nodes(code_ast.body, cell_name,\n"
     ]
    }
   ],
   "source": [
    "df_icfes['2019-2'] = pd.read_csv('./data/Saber_11__2019-2.csv')"
   ]
  },
  {
   "cell_type": "code",
   "execution_count": 75,
   "id": "anonymous-discovery",
   "metadata": {},
   "outputs": [
    {
     "name": "stderr",
     "output_type": "stream",
     "text": [
      "/Users/jfmolano/DATOS-ICFES/icfes/lib/python3.9/site-packages/IPython/core/interactiveshell.py:3165: DtypeWarning: Columns (18,19,20,21,22,24,34,37,38,65,66,67,68,69,70,71,72,73,75,76,77,78,80,82) have mixed types.Specify dtype option on import or set low_memory=False.\n",
      "  has_raised = await self.run_ast_nodes(code_ast.body, cell_name,\n"
     ]
    }
   ],
   "source": [
    "df_icfes['2019-1'] = pd.read_csv('./data/Saber11_2019_1.csv', encoding='latin-1')"
   ]
  },
  {
   "cell_type": "code",
   "execution_count": 76,
   "id": "renewable-gender",
   "metadata": {},
   "outputs": [
    {
     "name": "stderr",
     "output_type": "stream",
     "text": [
      "/Users/jfmolano/DATOS-ICFES/icfes/lib/python3.9/site-packages/IPython/core/interactiveshell.py:3165: DtypeWarning: Columns (5,19,21,22,25,27,28,29,30,31,38) have mixed types.Specify dtype option on import or set low_memory=False.\n",
      "  has_raised = await self.run_ast_nodes(code_ast.body, cell_name,\n"
     ]
    }
   ],
   "source": [
    "df_icfes['2018-2'] = pd.read_csv('./data/Saber11_2018_2.csv', encoding='latin-1')"
   ]
  },
  {
   "cell_type": "code",
   "execution_count": 77,
   "id": "mobile-vanilla",
   "metadata": {},
   "outputs": [
    {
     "name": "stderr",
     "output_type": "stream",
     "text": [
      "/Users/jfmolano/DATOS-ICFES/icfes/lib/python3.9/site-packages/IPython/core/interactiveshell.py:3165: DtypeWarning: Columns (11,13,14) have mixed types.Specify dtype option on import or set low_memory=False.\n",
      "  has_raised = await self.run_ast_nodes(code_ast.body, cell_name,\n"
     ]
    }
   ],
   "source": [
    "df_icfes['2018-1'] = pd.read_csv('./data/Resultados_Saber_11_2018-1_Refinado.csv')"
   ]
  },
  {
   "cell_type": "code",
   "execution_count": 78,
   "id": "formed-digit",
   "metadata": {},
   "outputs": [],
   "source": [
    "df_icfes['2018-1'].columns = list(map(lambda x:x.upper(),list(df_icfes['2018-1'].columns)))"
   ]
  },
  {
   "cell_type": "code",
   "execution_count": 33,
   "id": "promising-junior",
   "metadata": {},
   "outputs": [],
   "source": [
    "df_icfes['2017-2'] = pd.read_csv('./data/Saber11_2017_2.csv', encoding='latin-1')"
   ]
  },
  {
   "cell_type": "code",
   "execution_count": 34,
   "id": "alternative-version",
   "metadata": {},
   "outputs": [],
   "source": [
    "# df_saber_2020_2.columns"
   ]
  },
  {
   "cell_type": "code",
   "execution_count": 79,
   "id": "atmospheric-convenience",
   "metadata": {},
   "outputs": [],
   "source": [
    "selected_columns = ['ESTU_GENERO',\n",
    "       'PERIODO', 'ESTU_CONSECUTIVO',\n",
    "       'ESTU_DEPTO_RESIDE', 'ESTU_COD_RESIDE_DEPTO', 'ESTU_MCPIO_RESIDE',\n",
    "       'ESTU_COD_RESIDE_MCPIO', 'FAMI_ESTRATOVIVIENDA',\n",
    "       'FAMI_TIENEINTERNET',\n",
    "       'FAMI_TIENECOMPUTADOR',\n",
    "       'ESTU_DEDICACIONINTERNET',\n",
    "       'PUNT_LECTURA_CRITICA',\n",
    "       'PUNT_MATEMATICAS',\n",
    "       'PUNT_C_NATURALES',\n",
    "       'PUNT_SOCIALES_CIUDADANAS',\n",
    "       'PUNT_INGLES',\n",
    "       'PUNT_GLOBAL']"
   ]
  },
  {
   "cell_type": "code",
   "execution_count": 80,
   "id": "valid-shepherd",
   "metadata": {},
   "outputs": [],
   "source": [
    "df_icfes['2020-2'] = df_icfes['2020-2'][\n",
    "    selected_columns\n",
    "]"
   ]
  },
  {
   "cell_type": "code",
   "execution_count": 81,
   "id": "circular-stockholm",
   "metadata": {},
   "outputs": [],
   "source": [
    "df_icfes['2020-1'] = df_icfes['2020-1'][\n",
    "    selected_columns\n",
    "]"
   ]
  },
  {
   "cell_type": "code",
   "execution_count": 82,
   "id": "municipal-nothing",
   "metadata": {},
   "outputs": [],
   "source": [
    "df_icfes['2019-2'] = df_icfes['2019-2'][\n",
    "    selected_columns\n",
    "]"
   ]
  },
  {
   "cell_type": "code",
   "execution_count": 83,
   "id": "representative-pricing",
   "metadata": {},
   "outputs": [],
   "source": [
    "df_icfes['2019-1'] = df_icfes['2019-1'][\n",
    "    selected_columns\n",
    "]"
   ]
  },
  {
   "cell_type": "code",
   "execution_count": 84,
   "id": "honey-lloyd",
   "metadata": {},
   "outputs": [],
   "source": [
    "df_icfes['2018-2'] = df_icfes['2018-2'][\n",
    "    selected_columns\n",
    "]"
   ]
  },
  {
   "cell_type": "code",
   "execution_count": 85,
   "id": "affiliated-glucose",
   "metadata": {},
   "outputs": [],
   "source": [
    "df_icfes['2018-1'] = df_icfes['2018-1'][\n",
    "    selected_columns\n",
    "]"
   ]
  },
  {
   "cell_type": "code",
   "execution_count": 42,
   "id": "dated-working",
   "metadata": {},
   "outputs": [],
   "source": [
    "df_icfes['2017-2'] = df_icfes['2017-2'][\n",
    "    selected_columns\n",
    "]"
   ]
  },
  {
   "cell_type": "code",
   "execution_count": 43,
   "id": "improved-cooperative",
   "metadata": {},
   "outputs": [
    {
     "data": {
      "text/html": [
       "<div>\n",
       "<style scoped>\n",
       "    .dataframe tbody tr th:only-of-type {\n",
       "        vertical-align: middle;\n",
       "    }\n",
       "\n",
       "    .dataframe tbody tr th {\n",
       "        vertical-align: top;\n",
       "    }\n",
       "\n",
       "    .dataframe thead th {\n",
       "        text-align: right;\n",
       "    }\n",
       "</style>\n",
       "<table border=\"1\" class=\"dataframe\">\n",
       "  <thead>\n",
       "    <tr style=\"text-align: right;\">\n",
       "      <th></th>\n",
       "      <th>ESTU_GENERO</th>\n",
       "      <th>PERIODO</th>\n",
       "      <th>ESTU_CONSECUTIVO</th>\n",
       "      <th>ESTU_DEPTO_RESIDE</th>\n",
       "      <th>ESTU_COD_RESIDE_DEPTO</th>\n",
       "      <th>ESTU_MCPIO_RESIDE</th>\n",
       "      <th>ESTU_COD_RESIDE_MCPIO</th>\n",
       "      <th>FAMI_ESTRATOVIVIENDA</th>\n",
       "      <th>FAMI_TIENECOMPUTADOR</th>\n",
       "      <th>ESTU_DEDICACIONINTERNET</th>\n",
       "      <th>PUNT_LECTURA_CRITICA</th>\n",
       "      <th>PUNT_MATEMATICAS</th>\n",
       "      <th>PUNT_C_NATURALES</th>\n",
       "      <th>PUNT_SOCIALES_CIUDADANAS</th>\n",
       "      <th>PUNT_INGLES</th>\n",
       "      <th>PUNT_GLOBAL</th>\n",
       "    </tr>\n",
       "  </thead>\n",
       "  <tbody>\n",
       "    <tr>\n",
       "      <th>0</th>\n",
       "      <td>F</td>\n",
       "      <td>20204</td>\n",
       "      <td>SB11202040211436</td>\n",
       "      <td>CUNDINAMARCA</td>\n",
       "      <td>25.0</td>\n",
       "      <td>CAJICÁ</td>\n",
       "      <td>25126.0</td>\n",
       "      <td>Estrato 2</td>\n",
       "      <td>Si</td>\n",
       "      <td>Más de 3 horas</td>\n",
       "      <td>54</td>\n",
       "      <td>65</td>\n",
       "      <td>41</td>\n",
       "      <td>33</td>\n",
       "      <td>55.0</td>\n",
       "      <td>244</td>\n",
       "    </tr>\n",
       "    <tr>\n",
       "      <th>1</th>\n",
       "      <td>M</td>\n",
       "      <td>20204</td>\n",
       "      <td>SB11202040433216</td>\n",
       "      <td>CUNDINAMARCA</td>\n",
       "      <td>25.0</td>\n",
       "      <td>CAJICÁ</td>\n",
       "      <td>25126.0</td>\n",
       "      <td>Estrato 3</td>\n",
       "      <td>No</td>\n",
       "      <td>Más de 3 horas</td>\n",
       "      <td>57</td>\n",
       "      <td>43</td>\n",
       "      <td>46</td>\n",
       "      <td>49</td>\n",
       "      <td>33.0</td>\n",
       "      <td>238</td>\n",
       "    </tr>\n",
       "    <tr>\n",
       "      <th>2</th>\n",
       "      <td>F</td>\n",
       "      <td>20204</td>\n",
       "      <td>SB11202040244180</td>\n",
       "      <td>CUNDINAMARCA</td>\n",
       "      <td>25.0</td>\n",
       "      <td>CAJICÁ</td>\n",
       "      <td>25126.0</td>\n",
       "      <td>Estrato 1</td>\n",
       "      <td>No</td>\n",
       "      <td>30 minutos o menos</td>\n",
       "      <td>59</td>\n",
       "      <td>72</td>\n",
       "      <td>63</td>\n",
       "      <td>68</td>\n",
       "      <td>59.0</td>\n",
       "      <td>325</td>\n",
       "    </tr>\n",
       "    <tr>\n",
       "      <th>3</th>\n",
       "      <td>M</td>\n",
       "      <td>20204</td>\n",
       "      <td>SB11202040210971</td>\n",
       "      <td>CUNDINAMARCA</td>\n",
       "      <td>25.0</td>\n",
       "      <td>CAJICÁ</td>\n",
       "      <td>25126.0</td>\n",
       "      <td>Sin Estrato</td>\n",
       "      <td>No</td>\n",
       "      <td>Entre 1 y 3 horas</td>\n",
       "      <td>47</td>\n",
       "      <td>55</td>\n",
       "      <td>46</td>\n",
       "      <td>43</td>\n",
       "      <td>47.0</td>\n",
       "      <td>238</td>\n",
       "    </tr>\n",
       "    <tr>\n",
       "      <th>4</th>\n",
       "      <td>F</td>\n",
       "      <td>20204</td>\n",
       "      <td>SB11202040235382</td>\n",
       "      <td>CUNDINAMARCA</td>\n",
       "      <td>25.0</td>\n",
       "      <td>CAJICÁ</td>\n",
       "      <td>25126.0</td>\n",
       "      <td>Estrato 5</td>\n",
       "      <td>Si</td>\n",
       "      <td>Entre 1 y 3 horas</td>\n",
       "      <td>37</td>\n",
       "      <td>48</td>\n",
       "      <td>44</td>\n",
       "      <td>32</td>\n",
       "      <td>43.0</td>\n",
       "      <td>202</td>\n",
       "    </tr>\n",
       "  </tbody>\n",
       "</table>\n",
       "</div>"
      ],
      "text/plain": [
       "  ESTU_GENERO  PERIODO  ESTU_CONSECUTIVO ESTU_DEPTO_RESIDE  \\\n",
       "0           F    20204  SB11202040211436      CUNDINAMARCA   \n",
       "1           M    20204  SB11202040433216      CUNDINAMARCA   \n",
       "2           F    20204  SB11202040244180      CUNDINAMARCA   \n",
       "3           M    20204  SB11202040210971      CUNDINAMARCA   \n",
       "4           F    20204  SB11202040235382      CUNDINAMARCA   \n",
       "\n",
       "   ESTU_COD_RESIDE_DEPTO ESTU_MCPIO_RESIDE  ESTU_COD_RESIDE_MCPIO  \\\n",
       "0                   25.0            CAJICÁ                25126.0   \n",
       "1                   25.0            CAJICÁ                25126.0   \n",
       "2                   25.0            CAJICÁ                25126.0   \n",
       "3                   25.0            CAJICÁ                25126.0   \n",
       "4                   25.0            CAJICÁ                25126.0   \n",
       "\n",
       "  FAMI_ESTRATOVIVIENDA FAMI_TIENECOMPUTADOR ESTU_DEDICACIONINTERNET  \\\n",
       "0            Estrato 2                   Si          Más de 3 horas   \n",
       "1            Estrato 3                   No          Más de 3 horas   \n",
       "2            Estrato 1                   No      30 minutos o menos   \n",
       "3          Sin Estrato                   No       Entre 1 y 3 horas   \n",
       "4            Estrato 5                   Si       Entre 1 y 3 horas   \n",
       "\n",
       "   PUNT_LECTURA_CRITICA  PUNT_MATEMATICAS  PUNT_C_NATURALES  \\\n",
       "0                    54                65                41   \n",
       "1                    57                43                46   \n",
       "2                    59                72                63   \n",
       "3                    47                55                46   \n",
       "4                    37                48                44   \n",
       "\n",
       "   PUNT_SOCIALES_CIUDADANAS  PUNT_INGLES  PUNT_GLOBAL  \n",
       "0                        33         55.0          244  \n",
       "1                        49         33.0          238  \n",
       "2                        68         59.0          325  \n",
       "3                        43         47.0          238  \n",
       "4                        32         43.0          202  "
      ]
     },
     "execution_count": 43,
     "metadata": {},
     "output_type": "execute_result"
    }
   ],
   "source": [
    "df_icfes['2020-2'].head()"
   ]
  },
  {
   "cell_type": "code",
   "execution_count": 44,
   "id": "incomplete-runner",
   "metadata": {},
   "outputs": [
    {
     "data": {
      "text/html": [
       "<div>\n",
       "<style scoped>\n",
       "    .dataframe tbody tr th:only-of-type {\n",
       "        vertical-align: middle;\n",
       "    }\n",
       "\n",
       "    .dataframe tbody tr th {\n",
       "        vertical-align: top;\n",
       "    }\n",
       "\n",
       "    .dataframe thead th {\n",
       "        text-align: right;\n",
       "    }\n",
       "</style>\n",
       "<table border=\"1\" class=\"dataframe\">\n",
       "  <thead>\n",
       "    <tr style=\"text-align: right;\">\n",
       "      <th></th>\n",
       "      <th>ESTU_GENERO</th>\n",
       "      <th>PERIODO</th>\n",
       "      <th>ESTU_CONSECUTIVO</th>\n",
       "      <th>ESTU_DEPTO_RESIDE</th>\n",
       "      <th>ESTU_COD_RESIDE_DEPTO</th>\n",
       "      <th>ESTU_MCPIO_RESIDE</th>\n",
       "      <th>ESTU_COD_RESIDE_MCPIO</th>\n",
       "      <th>FAMI_ESTRATOVIVIENDA</th>\n",
       "      <th>FAMI_TIENECOMPUTADOR</th>\n",
       "      <th>ESTU_DEDICACIONINTERNET</th>\n",
       "      <th>PUNT_LECTURA_CRITICA</th>\n",
       "      <th>PUNT_MATEMATICAS</th>\n",
       "      <th>PUNT_C_NATURALES</th>\n",
       "      <th>PUNT_SOCIALES_CIUDADANAS</th>\n",
       "      <th>PUNT_INGLES</th>\n",
       "      <th>PUNT_GLOBAL</th>\n",
       "    </tr>\n",
       "  </thead>\n",
       "  <tbody>\n",
       "    <tr>\n",
       "      <th>0</th>\n",
       "      <td>F</td>\n",
       "      <td>20201</td>\n",
       "      <td>SB11202010045555</td>\n",
       "      <td>CESAR</td>\n",
       "      <td>20.0</td>\n",
       "      <td>SAN DIEGO</td>\n",
       "      <td>20750.0</td>\n",
       "      <td>Estrato 1</td>\n",
       "      <td>No</td>\n",
       "      <td>No Navega Internet</td>\n",
       "      <td>39</td>\n",
       "      <td>32</td>\n",
       "      <td>35</td>\n",
       "      <td>24</td>\n",
       "      <td>36.0</td>\n",
       "      <td>164</td>\n",
       "    </tr>\n",
       "    <tr>\n",
       "      <th>1</th>\n",
       "      <td>F</td>\n",
       "      <td>20201</td>\n",
       "      <td>SB11202010045719</td>\n",
       "      <td>NARIÑO</td>\n",
       "      <td>52.0</td>\n",
       "      <td>IPIALES</td>\n",
       "      <td>52356.0</td>\n",
       "      <td>NaN</td>\n",
       "      <td>NaN</td>\n",
       "      <td>NaN</td>\n",
       "      <td>41</td>\n",
       "      <td>41</td>\n",
       "      <td>39</td>\n",
       "      <td>44</td>\n",
       "      <td>30.0</td>\n",
       "      <td>202</td>\n",
       "    </tr>\n",
       "    <tr>\n",
       "      <th>2</th>\n",
       "      <td>F</td>\n",
       "      <td>20201</td>\n",
       "      <td>SB11202010070662</td>\n",
       "      <td>CAUCA</td>\n",
       "      <td>19.0</td>\n",
       "      <td>TOTORÓ</td>\n",
       "      <td>19824.0</td>\n",
       "      <td>Estrato 1</td>\n",
       "      <td>No</td>\n",
       "      <td>No Navega Internet</td>\n",
       "      <td>37</td>\n",
       "      <td>36</td>\n",
       "      <td>33</td>\n",
       "      <td>24</td>\n",
       "      <td>30.0</td>\n",
       "      <td>162</td>\n",
       "    </tr>\n",
       "    <tr>\n",
       "      <th>3</th>\n",
       "      <td>F</td>\n",
       "      <td>20201</td>\n",
       "      <td>SB11202010069926</td>\n",
       "      <td>PUTUMAYO</td>\n",
       "      <td>86.0</td>\n",
       "      <td>MOCOA</td>\n",
       "      <td>86001.0</td>\n",
       "      <td>Estrato 1</td>\n",
       "      <td>Si</td>\n",
       "      <td>Entre 1 y 3 horas</td>\n",
       "      <td>38</td>\n",
       "      <td>42</td>\n",
       "      <td>38</td>\n",
       "      <td>33</td>\n",
       "      <td>37.0</td>\n",
       "      <td>188</td>\n",
       "    </tr>\n",
       "    <tr>\n",
       "      <th>4</th>\n",
       "      <td>F</td>\n",
       "      <td>20201</td>\n",
       "      <td>SB11202010023181</td>\n",
       "      <td>RISARALDA</td>\n",
       "      <td>66.0</td>\n",
       "      <td>PEREIRA</td>\n",
       "      <td>66001.0</td>\n",
       "      <td>Estrato 6</td>\n",
       "      <td>Si</td>\n",
       "      <td>Más de 3 horas</td>\n",
       "      <td>58</td>\n",
       "      <td>50</td>\n",
       "      <td>50</td>\n",
       "      <td>53</td>\n",
       "      <td>80.0</td>\n",
       "      <td>274</td>\n",
       "    </tr>\n",
       "  </tbody>\n",
       "</table>\n",
       "</div>"
      ],
      "text/plain": [
       "  ESTU_GENERO  PERIODO  ESTU_CONSECUTIVO ESTU_DEPTO_RESIDE  \\\n",
       "0           F    20201  SB11202010045555             CESAR   \n",
       "1           F    20201  SB11202010045719            NARIÑO   \n",
       "2           F    20201  SB11202010070662             CAUCA   \n",
       "3           F    20201  SB11202010069926          PUTUMAYO   \n",
       "4           F    20201  SB11202010023181         RISARALDA   \n",
       "\n",
       "   ESTU_COD_RESIDE_DEPTO ESTU_MCPIO_RESIDE  ESTU_COD_RESIDE_MCPIO  \\\n",
       "0                   20.0         SAN DIEGO                20750.0   \n",
       "1                   52.0           IPIALES                52356.0   \n",
       "2                   19.0            TOTORÓ                19824.0   \n",
       "3                   86.0             MOCOA                86001.0   \n",
       "4                   66.0           PEREIRA                66001.0   \n",
       "\n",
       "  FAMI_ESTRATOVIVIENDA FAMI_TIENECOMPUTADOR ESTU_DEDICACIONINTERNET  \\\n",
       "0            Estrato 1                   No      No Navega Internet   \n",
       "1                  NaN                  NaN                     NaN   \n",
       "2            Estrato 1                   No      No Navega Internet   \n",
       "3            Estrato 1                   Si       Entre 1 y 3 horas   \n",
       "4            Estrato 6                   Si          Más de 3 horas   \n",
       "\n",
       "   PUNT_LECTURA_CRITICA  PUNT_MATEMATICAS  PUNT_C_NATURALES  \\\n",
       "0                    39                32                35   \n",
       "1                    41                41                39   \n",
       "2                    37                36                33   \n",
       "3                    38                42                38   \n",
       "4                    58                50                50   \n",
       "\n",
       "   PUNT_SOCIALES_CIUDADANAS  PUNT_INGLES  PUNT_GLOBAL  \n",
       "0                        24         36.0          164  \n",
       "1                        44         30.0          202  \n",
       "2                        24         30.0          162  \n",
       "3                        33         37.0          188  \n",
       "4                        53         80.0          274  "
      ]
     },
     "execution_count": 44,
     "metadata": {},
     "output_type": "execute_result"
    }
   ],
   "source": [
    "df_icfes['2020-1'].head()"
   ]
  },
  {
   "cell_type": "code",
   "execution_count": 45,
   "id": "southeast-sellers",
   "metadata": {},
   "outputs": [
    {
     "data": {
      "text/html": [
       "<div>\n",
       "<style scoped>\n",
       "    .dataframe tbody tr th:only-of-type {\n",
       "        vertical-align: middle;\n",
       "    }\n",
       "\n",
       "    .dataframe tbody tr th {\n",
       "        vertical-align: top;\n",
       "    }\n",
       "\n",
       "    .dataframe thead th {\n",
       "        text-align: right;\n",
       "    }\n",
       "</style>\n",
       "<table border=\"1\" class=\"dataframe\">\n",
       "  <thead>\n",
       "    <tr style=\"text-align: right;\">\n",
       "      <th></th>\n",
       "      <th>ESTU_GENERO</th>\n",
       "      <th>PERIODO</th>\n",
       "      <th>ESTU_CONSECUTIVO</th>\n",
       "      <th>ESTU_DEPTO_RESIDE</th>\n",
       "      <th>ESTU_COD_RESIDE_DEPTO</th>\n",
       "      <th>ESTU_MCPIO_RESIDE</th>\n",
       "      <th>ESTU_COD_RESIDE_MCPIO</th>\n",
       "      <th>FAMI_ESTRATOVIVIENDA</th>\n",
       "      <th>FAMI_TIENECOMPUTADOR</th>\n",
       "      <th>ESTU_DEDICACIONINTERNET</th>\n",
       "      <th>PUNT_LECTURA_CRITICA</th>\n",
       "      <th>PUNT_MATEMATICAS</th>\n",
       "      <th>PUNT_C_NATURALES</th>\n",
       "      <th>PUNT_SOCIALES_CIUDADANAS</th>\n",
       "      <th>PUNT_INGLES</th>\n",
       "      <th>PUNT_GLOBAL</th>\n",
       "    </tr>\n",
       "  </thead>\n",
       "  <tbody>\n",
       "    <tr>\n",
       "      <th>0</th>\n",
       "      <td>M</td>\n",
       "      <td>20194</td>\n",
       "      <td>SB11201940031558</td>\n",
       "      <td>MAGDALENA</td>\n",
       "      <td>47</td>\n",
       "      <td>SANTA ANA</td>\n",
       "      <td>47707</td>\n",
       "      <td>Estrato 3</td>\n",
       "      <td>No</td>\n",
       "      <td>Entre 30 y 60 minutos</td>\n",
       "      <td>47</td>\n",
       "      <td>48</td>\n",
       "      <td>37</td>\n",
       "      <td>30</td>\n",
       "      <td>54.0</td>\n",
       "      <td>208</td>\n",
       "    </tr>\n",
       "    <tr>\n",
       "      <th>1</th>\n",
       "      <td>M</td>\n",
       "      <td>20194</td>\n",
       "      <td>SB11201940303339</td>\n",
       "      <td>BOGOTÁ</td>\n",
       "      <td>11</td>\n",
       "      <td>BOGOTÁ D.C.</td>\n",
       "      <td>11001</td>\n",
       "      <td>Estrato 3</td>\n",
       "      <td>Si</td>\n",
       "      <td>Entre 30 y 60 minutos</td>\n",
       "      <td>60</td>\n",
       "      <td>65</td>\n",
       "      <td>54</td>\n",
       "      <td>59</td>\n",
       "      <td>63.0</td>\n",
       "      <td>299</td>\n",
       "    </tr>\n",
       "    <tr>\n",
       "      <th>2</th>\n",
       "      <td>M</td>\n",
       "      <td>20194</td>\n",
       "      <td>SB11201940255017</td>\n",
       "      <td>BOLIVAR</td>\n",
       "      <td>13</td>\n",
       "      <td>CARTAGENA DE INDIAS</td>\n",
       "      <td>13001</td>\n",
       "      <td>Estrato 1</td>\n",
       "      <td>No</td>\n",
       "      <td>Más de 3 horas</td>\n",
       "      <td>66</td>\n",
       "      <td>57</td>\n",
       "      <td>41</td>\n",
       "      <td>74</td>\n",
       "      <td>64.0</td>\n",
       "      <td>299</td>\n",
       "    </tr>\n",
       "    <tr>\n",
       "      <th>3</th>\n",
       "      <td>M</td>\n",
       "      <td>20194</td>\n",
       "      <td>SB11201940154799</td>\n",
       "      <td>BOGOTÁ</td>\n",
       "      <td>11</td>\n",
       "      <td>BOGOTÁ D.C.</td>\n",
       "      <td>11001</td>\n",
       "      <td>Estrato 3</td>\n",
       "      <td>Si</td>\n",
       "      <td>Entre 30 y 60 minutos</td>\n",
       "      <td>62</td>\n",
       "      <td>54</td>\n",
       "      <td>61</td>\n",
       "      <td>73</td>\n",
       "      <td>53.0</td>\n",
       "      <td>309</td>\n",
       "    </tr>\n",
       "    <tr>\n",
       "      <th>4</th>\n",
       "      <td>M</td>\n",
       "      <td>20194</td>\n",
       "      <td>SB11201940280831</td>\n",
       "      <td>BOGOTÁ</td>\n",
       "      <td>11</td>\n",
       "      <td>BOGOTÁ D.C.</td>\n",
       "      <td>11001</td>\n",
       "      <td>Estrato 3</td>\n",
       "      <td>Si</td>\n",
       "      <td>Más de 3 horas</td>\n",
       "      <td>63</td>\n",
       "      <td>57</td>\n",
       "      <td>55</td>\n",
       "      <td>57</td>\n",
       "      <td>52.0</td>\n",
       "      <td>288</td>\n",
       "    </tr>\n",
       "  </tbody>\n",
       "</table>\n",
       "</div>"
      ],
      "text/plain": [
       "  ESTU_GENERO  PERIODO  ESTU_CONSECUTIVO ESTU_DEPTO_RESIDE  \\\n",
       "0           M    20194  SB11201940031558         MAGDALENA   \n",
       "1           M    20194  SB11201940303339            BOGOTÁ   \n",
       "2           M    20194  SB11201940255017           BOLIVAR   \n",
       "3           M    20194  SB11201940154799            BOGOTÁ   \n",
       "4           M    20194  SB11201940280831            BOGOTÁ   \n",
       "\n",
       "  ESTU_COD_RESIDE_DEPTO    ESTU_MCPIO_RESIDE ESTU_COD_RESIDE_MCPIO  \\\n",
       "0                    47            SANTA ANA                 47707   \n",
       "1                    11          BOGOTÁ D.C.                 11001   \n",
       "2                    13  CARTAGENA DE INDIAS                 13001   \n",
       "3                    11          BOGOTÁ D.C.                 11001   \n",
       "4                    11          BOGOTÁ D.C.                 11001   \n",
       "\n",
       "  FAMI_ESTRATOVIVIENDA FAMI_TIENECOMPUTADOR ESTU_DEDICACIONINTERNET  \\\n",
       "0            Estrato 3                   No   Entre 30 y 60 minutos   \n",
       "1            Estrato 3                   Si   Entre 30 y 60 minutos   \n",
       "2            Estrato 1                   No          Más de 3 horas   \n",
       "3            Estrato 3                   Si   Entre 30 y 60 minutos   \n",
       "4            Estrato 3                   Si          Más de 3 horas   \n",
       "\n",
       "   PUNT_LECTURA_CRITICA  PUNT_MATEMATICAS  PUNT_C_NATURALES  \\\n",
       "0                    47                48                37   \n",
       "1                    60                65                54   \n",
       "2                    66                57                41   \n",
       "3                    62                54                61   \n",
       "4                    63                57                55   \n",
       "\n",
       "   PUNT_SOCIALES_CIUDADANAS  PUNT_INGLES  PUNT_GLOBAL  \n",
       "0                        30         54.0          208  \n",
       "1                        59         63.0          299  \n",
       "2                        74         64.0          299  \n",
       "3                        73         53.0          309  \n",
       "4                        57         52.0          288  "
      ]
     },
     "execution_count": 45,
     "metadata": {},
     "output_type": "execute_result"
    }
   ],
   "source": [
    "df_icfes['2019-2'].head()"
   ]
  },
  {
   "cell_type": "code",
   "execution_count": 46,
   "id": "straight-albuquerque",
   "metadata": {},
   "outputs": [
    {
     "data": {
      "text/html": [
       "<div>\n",
       "<style scoped>\n",
       "    .dataframe tbody tr th:only-of-type {\n",
       "        vertical-align: middle;\n",
       "    }\n",
       "\n",
       "    .dataframe tbody tr th {\n",
       "        vertical-align: top;\n",
       "    }\n",
       "\n",
       "    .dataframe thead th {\n",
       "        text-align: right;\n",
       "    }\n",
       "</style>\n",
       "<table border=\"1\" class=\"dataframe\">\n",
       "  <thead>\n",
       "    <tr style=\"text-align: right;\">\n",
       "      <th></th>\n",
       "      <th>ESTU_GENERO</th>\n",
       "      <th>PERIODO</th>\n",
       "      <th>ESTU_CONSECUTIVO</th>\n",
       "      <th>ESTU_DEPTO_RESIDE</th>\n",
       "      <th>ESTU_COD_RESIDE_DEPTO</th>\n",
       "      <th>ESTU_MCPIO_RESIDE</th>\n",
       "      <th>ESTU_COD_RESIDE_MCPIO</th>\n",
       "      <th>FAMI_ESTRATOVIVIENDA</th>\n",
       "      <th>FAMI_TIENECOMPUTADOR</th>\n",
       "      <th>ESTU_DEDICACIONINTERNET</th>\n",
       "      <th>PUNT_LECTURA_CRITICA</th>\n",
       "      <th>PUNT_MATEMATICAS</th>\n",
       "      <th>PUNT_C_NATURALES</th>\n",
       "      <th>PUNT_SOCIALES_CIUDADANAS</th>\n",
       "      <th>PUNT_INGLES</th>\n",
       "      <th>PUNT_GLOBAL</th>\n",
       "    </tr>\n",
       "  </thead>\n",
       "  <tbody>\n",
       "    <tr>\n",
       "      <th>0</th>\n",
       "      <td>F</td>\n",
       "      <td>20191</td>\n",
       "      <td>SB11201910008548</td>\n",
       "      <td>VALLE</td>\n",
       "      <td>76.0</td>\n",
       "      <td>CALI</td>\n",
       "      <td>76001.0</td>\n",
       "      <td>Estrato 4</td>\n",
       "      <td>Si</td>\n",
       "      <td>Entre 1 y 3 horas</td>\n",
       "      <td>50</td>\n",
       "      <td>49</td>\n",
       "      <td>47</td>\n",
       "      <td>40</td>\n",
       "      <td>54.0</td>\n",
       "      <td>235</td>\n",
       "    </tr>\n",
       "    <tr>\n",
       "      <th>1</th>\n",
       "      <td>F</td>\n",
       "      <td>20191</td>\n",
       "      <td>SB11201910004475</td>\n",
       "      <td>VALLE</td>\n",
       "      <td>76.0</td>\n",
       "      <td>CALI</td>\n",
       "      <td>76001.0</td>\n",
       "      <td>Estrato 3</td>\n",
       "      <td>No</td>\n",
       "      <td>Entre 1 y 3 horas</td>\n",
       "      <td>53</td>\n",
       "      <td>45</td>\n",
       "      <td>44</td>\n",
       "      <td>34</td>\n",
       "      <td>35.0</td>\n",
       "      <td>217</td>\n",
       "    </tr>\n",
       "    <tr>\n",
       "      <th>2</th>\n",
       "      <td>M</td>\n",
       "      <td>20191</td>\n",
       "      <td>SB11201910011427</td>\n",
       "      <td>VALLE</td>\n",
       "      <td>76.0</td>\n",
       "      <td>CALI</td>\n",
       "      <td>76001.0</td>\n",
       "      <td>Estrato 2</td>\n",
       "      <td>No</td>\n",
       "      <td>30 minutos o menos</td>\n",
       "      <td>60</td>\n",
       "      <td>52</td>\n",
       "      <td>44</td>\n",
       "      <td>41</td>\n",
       "      <td>49.0</td>\n",
       "      <td>246</td>\n",
       "    </tr>\n",
       "    <tr>\n",
       "      <th>3</th>\n",
       "      <td>M</td>\n",
       "      <td>20191</td>\n",
       "      <td>SB11201910041975</td>\n",
       "      <td>VALLE</td>\n",
       "      <td>76.0</td>\n",
       "      <td>CALI</td>\n",
       "      <td>76001.0</td>\n",
       "      <td>Estrato 2</td>\n",
       "      <td>Si</td>\n",
       "      <td>Más de 3 horas</td>\n",
       "      <td>56</td>\n",
       "      <td>54</td>\n",
       "      <td>46</td>\n",
       "      <td>44</td>\n",
       "      <td>64.0</td>\n",
       "      <td>255</td>\n",
       "    </tr>\n",
       "    <tr>\n",
       "      <th>4</th>\n",
       "      <td>F</td>\n",
       "      <td>20191</td>\n",
       "      <td>SB11201910014490</td>\n",
       "      <td>BOGOTA</td>\n",
       "      <td>11.0</td>\n",
       "      <td>BOGOTÁ D.C.</td>\n",
       "      <td>11001.0</td>\n",
       "      <td>Estrato 6</td>\n",
       "      <td>Si</td>\n",
       "      <td>Entre 1 y 3 horas</td>\n",
       "      <td>55</td>\n",
       "      <td>67</td>\n",
       "      <td>50</td>\n",
       "      <td>47</td>\n",
       "      <td>71.0</td>\n",
       "      <td>280</td>\n",
       "    </tr>\n",
       "  </tbody>\n",
       "</table>\n",
       "</div>"
      ],
      "text/plain": [
       "  ESTU_GENERO  PERIODO  ESTU_CONSECUTIVO ESTU_DEPTO_RESIDE  \\\n",
       "0           F    20191  SB11201910008548             VALLE   \n",
       "1           F    20191  SB11201910004475             VALLE   \n",
       "2           M    20191  SB11201910011427             VALLE   \n",
       "3           M    20191  SB11201910041975             VALLE   \n",
       "4           F    20191  SB11201910014490            BOGOTA   \n",
       "\n",
       "   ESTU_COD_RESIDE_DEPTO ESTU_MCPIO_RESIDE  ESTU_COD_RESIDE_MCPIO  \\\n",
       "0                   76.0              CALI                76001.0   \n",
       "1                   76.0              CALI                76001.0   \n",
       "2                   76.0              CALI                76001.0   \n",
       "3                   76.0              CALI                76001.0   \n",
       "4                   11.0       BOGOTÁ D.C.                11001.0   \n",
       "\n",
       "  FAMI_ESTRATOVIVIENDA FAMI_TIENECOMPUTADOR ESTU_DEDICACIONINTERNET  \\\n",
       "0            Estrato 4                   Si       Entre 1 y 3 horas   \n",
       "1            Estrato 3                   No       Entre 1 y 3 horas   \n",
       "2            Estrato 2                   No      30 minutos o menos   \n",
       "3            Estrato 2                   Si          Más de 3 horas   \n",
       "4            Estrato 6                   Si       Entre 1 y 3 horas   \n",
       "\n",
       "   PUNT_LECTURA_CRITICA  PUNT_MATEMATICAS  PUNT_C_NATURALES  \\\n",
       "0                    50                49                47   \n",
       "1                    53                45                44   \n",
       "2                    60                52                44   \n",
       "3                    56                54                46   \n",
       "4                    55                67                50   \n",
       "\n",
       "   PUNT_SOCIALES_CIUDADANAS  PUNT_INGLES  PUNT_GLOBAL  \n",
       "0                        40         54.0          235  \n",
       "1                        34         35.0          217  \n",
       "2                        41         49.0          246  \n",
       "3                        44         64.0          255  \n",
       "4                        47         71.0          280  "
      ]
     },
     "execution_count": 46,
     "metadata": {},
     "output_type": "execute_result"
    }
   ],
   "source": [
    "df_icfes['2019-1'].head()"
   ]
  },
  {
   "cell_type": "code",
   "execution_count": 47,
   "id": "revolutionary-immigration",
   "metadata": {},
   "outputs": [
    {
     "data": {
      "text/html": [
       "<div>\n",
       "<style scoped>\n",
       "    .dataframe tbody tr th:only-of-type {\n",
       "        vertical-align: middle;\n",
       "    }\n",
       "\n",
       "    .dataframe tbody tr th {\n",
       "        vertical-align: top;\n",
       "    }\n",
       "\n",
       "    .dataframe thead th {\n",
       "        text-align: right;\n",
       "    }\n",
       "</style>\n",
       "<table border=\"1\" class=\"dataframe\">\n",
       "  <thead>\n",
       "    <tr style=\"text-align: right;\">\n",
       "      <th></th>\n",
       "      <th>ESTU_GENERO</th>\n",
       "      <th>PERIODO</th>\n",
       "      <th>ESTU_CONSECUTIVO</th>\n",
       "      <th>ESTU_DEPTO_RESIDE</th>\n",
       "      <th>ESTU_COD_RESIDE_DEPTO</th>\n",
       "      <th>ESTU_MCPIO_RESIDE</th>\n",
       "      <th>ESTU_COD_RESIDE_MCPIO</th>\n",
       "      <th>FAMI_ESTRATOVIVIENDA</th>\n",
       "      <th>FAMI_TIENECOMPUTADOR</th>\n",
       "      <th>ESTU_DEDICACIONINTERNET</th>\n",
       "      <th>PUNT_LECTURA_CRITICA</th>\n",
       "      <th>PUNT_MATEMATICAS</th>\n",
       "      <th>PUNT_C_NATURALES</th>\n",
       "      <th>PUNT_SOCIALES_CIUDADANAS</th>\n",
       "      <th>PUNT_INGLES</th>\n",
       "      <th>PUNT_GLOBAL</th>\n",
       "    </tr>\n",
       "  </thead>\n",
       "  <tbody>\n",
       "    <tr>\n",
       "      <th>0</th>\n",
       "      <td>M</td>\n",
       "      <td>20182</td>\n",
       "      <td>SB11201820408513</td>\n",
       "      <td>ATLANTICO</td>\n",
       "      <td>8.0</td>\n",
       "      <td>SOLEDAD</td>\n",
       "      <td>8758.0</td>\n",
       "      <td>Estrato 2</td>\n",
       "      <td>No</td>\n",
       "      <td>Más de 3 horas</td>\n",
       "      <td>63</td>\n",
       "      <td>69</td>\n",
       "      <td>54</td>\n",
       "      <td>57</td>\n",
       "      <td>65.0</td>\n",
       "      <td>305</td>\n",
       "    </tr>\n",
       "    <tr>\n",
       "      <th>1</th>\n",
       "      <td>M</td>\n",
       "      <td>20182</td>\n",
       "      <td>SB11201820541500</td>\n",
       "      <td>CORDOBA</td>\n",
       "      <td>23.0</td>\n",
       "      <td>LORICA</td>\n",
       "      <td>23417.0</td>\n",
       "      <td>Estrato 1</td>\n",
       "      <td>No</td>\n",
       "      <td>Entre 30 y 60 minutos</td>\n",
       "      <td>54</td>\n",
       "      <td>50</td>\n",
       "      <td>50</td>\n",
       "      <td>40</td>\n",
       "      <td>48.0</td>\n",
       "      <td>242</td>\n",
       "    </tr>\n",
       "    <tr>\n",
       "      <th>2</th>\n",
       "      <td>M</td>\n",
       "      <td>20182</td>\n",
       "      <td>SB11201820208467</td>\n",
       "      <td>VALLE</td>\n",
       "      <td>76.0</td>\n",
       "      <td>CALI</td>\n",
       "      <td>76001.0</td>\n",
       "      <td>Estrato 2</td>\n",
       "      <td>No</td>\n",
       "      <td>Entre 30 y 60 minutos</td>\n",
       "      <td>59</td>\n",
       "      <td>43</td>\n",
       "      <td>46</td>\n",
       "      <td>45</td>\n",
       "      <td>47.0</td>\n",
       "      <td>241</td>\n",
       "    </tr>\n",
       "    <tr>\n",
       "      <th>3</th>\n",
       "      <td>M</td>\n",
       "      <td>20182</td>\n",
       "      <td>SB11201820514682</td>\n",
       "      <td>BOYACA</td>\n",
       "      <td>15.0</td>\n",
       "      <td>TUNJA</td>\n",
       "      <td>15001.0</td>\n",
       "      <td>Estrato 3</td>\n",
       "      <td>Si</td>\n",
       "      <td>Más de 3 horas</td>\n",
       "      <td>61</td>\n",
       "      <td>60</td>\n",
       "      <td>60</td>\n",
       "      <td>67</td>\n",
       "      <td>63.0</td>\n",
       "      <td>310</td>\n",
       "    </tr>\n",
       "    <tr>\n",
       "      <th>4</th>\n",
       "      <td>M</td>\n",
       "      <td>20182</td>\n",
       "      <td>SB11201820306251</td>\n",
       "      <td>BOGOTA</td>\n",
       "      <td>11.0</td>\n",
       "      <td>BOGOTÁ D.C.</td>\n",
       "      <td>11001.0</td>\n",
       "      <td>Estrato 2</td>\n",
       "      <td>No</td>\n",
       "      <td>Entre 1 y 3 horas</td>\n",
       "      <td>56</td>\n",
       "      <td>51</td>\n",
       "      <td>48</td>\n",
       "      <td>49</td>\n",
       "      <td>56.0</td>\n",
       "      <td>257</td>\n",
       "    </tr>\n",
       "  </tbody>\n",
       "</table>\n",
       "</div>"
      ],
      "text/plain": [
       "  ESTU_GENERO  PERIODO  ESTU_CONSECUTIVO ESTU_DEPTO_RESIDE  \\\n",
       "0           M    20182  SB11201820408513         ATLANTICO   \n",
       "1           M    20182  SB11201820541500           CORDOBA   \n",
       "2           M    20182  SB11201820208467             VALLE   \n",
       "3           M    20182  SB11201820514682            BOYACA   \n",
       "4           M    20182  SB11201820306251            BOGOTA   \n",
       "\n",
       "   ESTU_COD_RESIDE_DEPTO ESTU_MCPIO_RESIDE  ESTU_COD_RESIDE_MCPIO  \\\n",
       "0                    8.0           SOLEDAD                 8758.0   \n",
       "1                   23.0            LORICA                23417.0   \n",
       "2                   76.0              CALI                76001.0   \n",
       "3                   15.0             TUNJA                15001.0   \n",
       "4                   11.0       BOGOTÁ D.C.                11001.0   \n",
       "\n",
       "  FAMI_ESTRATOVIVIENDA FAMI_TIENECOMPUTADOR ESTU_DEDICACIONINTERNET  \\\n",
       "0            Estrato 2                   No          Más de 3 horas   \n",
       "1            Estrato 1                   No   Entre 30 y 60 minutos   \n",
       "2            Estrato 2                   No   Entre 30 y 60 minutos   \n",
       "3            Estrato 3                   Si          Más de 3 horas   \n",
       "4            Estrato 2                   No       Entre 1 y 3 horas   \n",
       "\n",
       "   PUNT_LECTURA_CRITICA  PUNT_MATEMATICAS  PUNT_C_NATURALES  \\\n",
       "0                    63                69                54   \n",
       "1                    54                50                50   \n",
       "2                    59                43                46   \n",
       "3                    61                60                60   \n",
       "4                    56                51                48   \n",
       "\n",
       "   PUNT_SOCIALES_CIUDADANAS  PUNT_INGLES  PUNT_GLOBAL  \n",
       "0                        57         65.0          305  \n",
       "1                        40         48.0          242  \n",
       "2                        45         47.0          241  \n",
       "3                        67         63.0          310  \n",
       "4                        49         56.0          257  "
      ]
     },
     "execution_count": 47,
     "metadata": {},
     "output_type": "execute_result"
    }
   ],
   "source": [
    "df_icfes['2018-2'].head()"
   ]
  },
  {
   "cell_type": "code",
   "execution_count": 48,
   "id": "alike-afternoon",
   "metadata": {},
   "outputs": [
    {
     "data": {
      "text/html": [
       "<div>\n",
       "<style scoped>\n",
       "    .dataframe tbody tr th:only-of-type {\n",
       "        vertical-align: middle;\n",
       "    }\n",
       "\n",
       "    .dataframe tbody tr th {\n",
       "        vertical-align: top;\n",
       "    }\n",
       "\n",
       "    .dataframe thead th {\n",
       "        text-align: right;\n",
       "    }\n",
       "</style>\n",
       "<table border=\"1\" class=\"dataframe\">\n",
       "  <thead>\n",
       "    <tr style=\"text-align: right;\">\n",
       "      <th></th>\n",
       "      <th>ESTU_GENERO</th>\n",
       "      <th>PERIODO</th>\n",
       "      <th>ESTU_CONSECUTIVO</th>\n",
       "      <th>ESTU_DEPTO_RESIDE</th>\n",
       "      <th>ESTU_COD_RESIDE_DEPTO</th>\n",
       "      <th>ESTU_MCPIO_RESIDE</th>\n",
       "      <th>ESTU_COD_RESIDE_MCPIO</th>\n",
       "      <th>FAMI_ESTRATOVIVIENDA</th>\n",
       "      <th>FAMI_TIENECOMPUTADOR</th>\n",
       "      <th>ESTU_DEDICACIONINTERNET</th>\n",
       "      <th>PUNT_LECTURA_CRITICA</th>\n",
       "      <th>PUNT_MATEMATICAS</th>\n",
       "      <th>PUNT_C_NATURALES</th>\n",
       "      <th>PUNT_SOCIALES_CIUDADANAS</th>\n",
       "      <th>PUNT_INGLES</th>\n",
       "      <th>PUNT_GLOBAL</th>\n",
       "    </tr>\n",
       "  </thead>\n",
       "  <tbody>\n",
       "    <tr>\n",
       "      <th>0</th>\n",
       "      <td>F</td>\n",
       "      <td>20181</td>\n",
       "      <td>SB11201810007354</td>\n",
       "      <td>BOGOTA</td>\n",
       "      <td>11</td>\n",
       "      <td>BOGOTÁ D.C.</td>\n",
       "      <td>11001</td>\n",
       "      <td>Estrato 6</td>\n",
       "      <td>Si</td>\n",
       "      <td>Entre 1 y 3 horas</td>\n",
       "      <td>71</td>\n",
       "      <td>65</td>\n",
       "      <td>69</td>\n",
       "      <td>63</td>\n",
       "      <td>90</td>\n",
       "      <td>344</td>\n",
       "    </tr>\n",
       "    <tr>\n",
       "      <th>1</th>\n",
       "      <td>M</td>\n",
       "      <td>20181</td>\n",
       "      <td>SB11201810018765</td>\n",
       "      <td>VALLE</td>\n",
       "      <td>76</td>\n",
       "      <td>CALI</td>\n",
       "      <td>76001</td>\n",
       "      <td>Estrato 5</td>\n",
       "      <td>Si</td>\n",
       "      <td>Entre 30 y 60 minutos</td>\n",
       "      <td>75</td>\n",
       "      <td>77</td>\n",
       "      <td>100</td>\n",
       "      <td>81</td>\n",
       "      <td>86</td>\n",
       "      <td>417</td>\n",
       "    </tr>\n",
       "    <tr>\n",
       "      <th>2</th>\n",
       "      <td>M</td>\n",
       "      <td>20181</td>\n",
       "      <td>SB11201810028523</td>\n",
       "      <td>VALLE</td>\n",
       "      <td>76</td>\n",
       "      <td>CALI</td>\n",
       "      <td>76001</td>\n",
       "      <td>Estrato 1</td>\n",
       "      <td>Si</td>\n",
       "      <td>Entre 30 y 60 minutos</td>\n",
       "      <td>42</td>\n",
       "      <td>27</td>\n",
       "      <td>29</td>\n",
       "      <td>36</td>\n",
       "      <td>29</td>\n",
       "      <td>166</td>\n",
       "    </tr>\n",
       "    <tr>\n",
       "      <th>3</th>\n",
       "      <td>F</td>\n",
       "      <td>20181</td>\n",
       "      <td>SB11201810003574</td>\n",
       "      <td>VALLE</td>\n",
       "      <td>76</td>\n",
       "      <td>CALI</td>\n",
       "      <td>76001</td>\n",
       "      <td>Estrato 3</td>\n",
       "      <td>Si</td>\n",
       "      <td>Más de 3 horas</td>\n",
       "      <td>61</td>\n",
       "      <td>62</td>\n",
       "      <td>72</td>\n",
       "      <td>70</td>\n",
       "      <td>79</td>\n",
       "      <td>336</td>\n",
       "    </tr>\n",
       "    <tr>\n",
       "      <th>4</th>\n",
       "      <td>F</td>\n",
       "      <td>20181</td>\n",
       "      <td>SB11201810024346</td>\n",
       "      <td>VALLE</td>\n",
       "      <td>76</td>\n",
       "      <td>CALI</td>\n",
       "      <td>76001</td>\n",
       "      <td>Estrato 3</td>\n",
       "      <td>Si</td>\n",
       "      <td>30 minutos o menos</td>\n",
       "      <td>69</td>\n",
       "      <td>75</td>\n",
       "      <td>67</td>\n",
       "      <td>65</td>\n",
       "      <td>71</td>\n",
       "      <td>346</td>\n",
       "    </tr>\n",
       "  </tbody>\n",
       "</table>\n",
       "</div>"
      ],
      "text/plain": [
       "  ESTU_GENERO  PERIODO  ESTU_CONSECUTIVO ESTU_DEPTO_RESIDE  \\\n",
       "0           F    20181  SB11201810007354            BOGOTA   \n",
       "1           M    20181  SB11201810018765             VALLE   \n",
       "2           M    20181  SB11201810028523             VALLE   \n",
       "3           F    20181  SB11201810003574             VALLE   \n",
       "4           F    20181  SB11201810024346             VALLE   \n",
       "\n",
       "  ESTU_COD_RESIDE_DEPTO ESTU_MCPIO_RESIDE ESTU_COD_RESIDE_MCPIO  \\\n",
       "0                    11       BOGOTÁ D.C.                 11001   \n",
       "1                    76              CALI                 76001   \n",
       "2                    76              CALI                 76001   \n",
       "3                    76              CALI                 76001   \n",
       "4                    76              CALI                 76001   \n",
       "\n",
       "  FAMI_ESTRATOVIVIENDA FAMI_TIENECOMPUTADOR ESTU_DEDICACIONINTERNET  \\\n",
       "0            Estrato 6                   Si       Entre 1 y 3 horas   \n",
       "1            Estrato 5                   Si   Entre 30 y 60 minutos   \n",
       "2            Estrato 1                   Si   Entre 30 y 60 minutos   \n",
       "3            Estrato 3                   Si          Más de 3 horas   \n",
       "4            Estrato 3                   Si      30 minutos o menos   \n",
       "\n",
       "   PUNT_LECTURA_CRITICA  PUNT_MATEMATICAS  PUNT_C_NATURALES  \\\n",
       "0                    71                65                69   \n",
       "1                    75                77               100   \n",
       "2                    42                27                29   \n",
       "3                    61                62                72   \n",
       "4                    69                75                67   \n",
       "\n",
       "   PUNT_SOCIALES_CIUDADANAS  PUNT_INGLES  PUNT_GLOBAL  \n",
       "0                        63           90          344  \n",
       "1                        81           86          417  \n",
       "2                        36           29          166  \n",
       "3                        70           79          336  \n",
       "4                        65           71          346  "
      ]
     },
     "execution_count": 48,
     "metadata": {},
     "output_type": "execute_result"
    }
   ],
   "source": [
    "df_icfes['2018-1'].head()"
   ]
  },
  {
   "cell_type": "code",
   "execution_count": 49,
   "id": "agreed-renewal",
   "metadata": {},
   "outputs": [
    {
     "data": {
      "text/html": [
       "<div>\n",
       "<style scoped>\n",
       "    .dataframe tbody tr th:only-of-type {\n",
       "        vertical-align: middle;\n",
       "    }\n",
       "\n",
       "    .dataframe tbody tr th {\n",
       "        vertical-align: top;\n",
       "    }\n",
       "\n",
       "    .dataframe thead th {\n",
       "        text-align: right;\n",
       "    }\n",
       "</style>\n",
       "<table border=\"1\" class=\"dataframe\">\n",
       "  <thead>\n",
       "    <tr style=\"text-align: right;\">\n",
       "      <th></th>\n",
       "      <th>ESTU_GENERO</th>\n",
       "      <th>PERIODO</th>\n",
       "      <th>ESTU_CONSECUTIVO</th>\n",
       "      <th>ESTU_DEPTO_RESIDE</th>\n",
       "      <th>ESTU_COD_RESIDE_DEPTO</th>\n",
       "      <th>ESTU_MCPIO_RESIDE</th>\n",
       "      <th>ESTU_COD_RESIDE_MCPIO</th>\n",
       "      <th>FAMI_ESTRATOVIVIENDA</th>\n",
       "      <th>FAMI_TIENECOMPUTADOR</th>\n",
       "      <th>ESTU_DEDICACIONINTERNET</th>\n",
       "      <th>PUNT_LECTURA_CRITICA</th>\n",
       "      <th>PUNT_MATEMATICAS</th>\n",
       "      <th>PUNT_C_NATURALES</th>\n",
       "      <th>PUNT_SOCIALES_CIUDADANAS</th>\n",
       "      <th>PUNT_INGLES</th>\n",
       "      <th>PUNT_GLOBAL</th>\n",
       "    </tr>\n",
       "  </thead>\n",
       "  <tbody>\n",
       "    <tr>\n",
       "      <th>0</th>\n",
       "      <td>F</td>\n",
       "      <td>20172</td>\n",
       "      <td>SB11201720031454</td>\n",
       "      <td>ANTIOQUIA</td>\n",
       "      <td>5.0</td>\n",
       "      <td>ENVIGADO</td>\n",
       "      <td>5266.0</td>\n",
       "      <td>Estrato 3</td>\n",
       "      <td>Si</td>\n",
       "      <td>Más de 3 horas</td>\n",
       "      <td>53</td>\n",
       "      <td>58</td>\n",
       "      <td>59</td>\n",
       "      <td>60</td>\n",
       "      <td>74</td>\n",
       "      <td>294</td>\n",
       "    </tr>\n",
       "    <tr>\n",
       "      <th>1</th>\n",
       "      <td>M</td>\n",
       "      <td>20172</td>\n",
       "      <td>SB11201720600707</td>\n",
       "      <td>NORTE SANTANDER</td>\n",
       "      <td>54.0</td>\n",
       "      <td>VILLA DEL ROSARIO</td>\n",
       "      <td>54874.0</td>\n",
       "      <td>NaN</td>\n",
       "      <td>NaN</td>\n",
       "      <td>NaN</td>\n",
       "      <td>62</td>\n",
       "      <td>64</td>\n",
       "      <td>66</td>\n",
       "      <td>68</td>\n",
       "      <td>70</td>\n",
       "      <td>327</td>\n",
       "    </tr>\n",
       "    <tr>\n",
       "      <th>2</th>\n",
       "      <td>M</td>\n",
       "      <td>20172</td>\n",
       "      <td>SB11201720074119</td>\n",
       "      <td>CUNDINAMARCA</td>\n",
       "      <td>25.0</td>\n",
       "      <td>CHÍA</td>\n",
       "      <td>25175.0</td>\n",
       "      <td>Estrato 3</td>\n",
       "      <td>Si</td>\n",
       "      <td>Entre 1 y 3 horas</td>\n",
       "      <td>79</td>\n",
       "      <td>83</td>\n",
       "      <td>72</td>\n",
       "      <td>72</td>\n",
       "      <td>87</td>\n",
       "      <td>387</td>\n",
       "    </tr>\n",
       "    <tr>\n",
       "      <th>3</th>\n",
       "      <td>F</td>\n",
       "      <td>20172</td>\n",
       "      <td>SB11201720157782</td>\n",
       "      <td>SANTANDER</td>\n",
       "      <td>68.0</td>\n",
       "      <td>SAN VICENTE DE CHUCURÍ</td>\n",
       "      <td>68689.0</td>\n",
       "      <td>Estrato 1</td>\n",
       "      <td>No</td>\n",
       "      <td>Entre 1 y 3 horas</td>\n",
       "      <td>36</td>\n",
       "      <td>36</td>\n",
       "      <td>45</td>\n",
       "      <td>41</td>\n",
       "      <td>44</td>\n",
       "      <td>199</td>\n",
       "    </tr>\n",
       "    <tr>\n",
       "      <th>4</th>\n",
       "      <td>M</td>\n",
       "      <td>20172</td>\n",
       "      <td>SB11201720562548</td>\n",
       "      <td>PUTUMAYO</td>\n",
       "      <td>86.0</td>\n",
       "      <td>PUERTO ASÍS</td>\n",
       "      <td>86568.0</td>\n",
       "      <td>Estrato 1</td>\n",
       "      <td>Si</td>\n",
       "      <td>Entre 30 y 60 minutos</td>\n",
       "      <td>47</td>\n",
       "      <td>57</td>\n",
       "      <td>54</td>\n",
       "      <td>50</td>\n",
       "      <td>38</td>\n",
       "      <td>255</td>\n",
       "    </tr>\n",
       "  </tbody>\n",
       "</table>\n",
       "</div>"
      ],
      "text/plain": [
       "  ESTU_GENERO  PERIODO  ESTU_CONSECUTIVO ESTU_DEPTO_RESIDE  \\\n",
       "0           F    20172  SB11201720031454         ANTIOQUIA   \n",
       "1           M    20172  SB11201720600707   NORTE SANTANDER   \n",
       "2           M    20172  SB11201720074119      CUNDINAMARCA   \n",
       "3           F    20172  SB11201720157782         SANTANDER   \n",
       "4           M    20172  SB11201720562548          PUTUMAYO   \n",
       "\n",
       "   ESTU_COD_RESIDE_DEPTO       ESTU_MCPIO_RESIDE  ESTU_COD_RESIDE_MCPIO  \\\n",
       "0                    5.0                ENVIGADO                 5266.0   \n",
       "1                   54.0       VILLA DEL ROSARIO                54874.0   \n",
       "2                   25.0                    CHÍA                25175.0   \n",
       "3                   68.0  SAN VICENTE DE CHUCURÍ                68689.0   \n",
       "4                   86.0             PUERTO ASÍS                86568.0   \n",
       "\n",
       "  FAMI_ESTRATOVIVIENDA FAMI_TIENECOMPUTADOR ESTU_DEDICACIONINTERNET  \\\n",
       "0            Estrato 3                   Si          Más de 3 horas   \n",
       "1                  NaN                  NaN                     NaN   \n",
       "2            Estrato 3                   Si       Entre 1 y 3 horas   \n",
       "3            Estrato 1                   No       Entre 1 y 3 horas   \n",
       "4            Estrato 1                   Si   Entre 30 y 60 minutos   \n",
       "\n",
       "   PUNT_LECTURA_CRITICA  PUNT_MATEMATICAS  PUNT_C_NATURALES  \\\n",
       "0                    53                58                59   \n",
       "1                    62                64                66   \n",
       "2                    79                83                72   \n",
       "3                    36                36                45   \n",
       "4                    47                57                54   \n",
       "\n",
       "   PUNT_SOCIALES_CIUDADANAS  PUNT_INGLES  PUNT_GLOBAL  \n",
       "0                        60           74          294  \n",
       "1                        68           70          327  \n",
       "2                        72           87          387  \n",
       "3                        41           44          199  \n",
       "4                        50           38          255  "
      ]
     },
     "execution_count": 49,
     "metadata": {},
     "output_type": "execute_result"
    }
   ],
   "source": [
    "df_icfes['2017-2'].head()"
   ]
  },
  {
   "cell_type": "code",
   "execution_count": 86,
   "id": "working-quarterly",
   "metadata": {},
   "outputs": [],
   "source": [
    "df_icfes_all = pd.concat([\n",
    "    df_icfes['2020-2'],\n",
    "    df_icfes['2020-1'],\n",
    "    df_icfes['2019-2'],\n",
    "    df_icfes['2019-1'],\n",
    "    df_icfes['2018-2'],\n",
    "    df_icfes['2018-1'],\n",
    "    # df_icfes['2017-2']\n",
    "])"
   ]
  },
  {
   "cell_type": "code",
   "execution_count": 87,
   "id": "global-israel",
   "metadata": {},
   "outputs": [
    {
     "data": {
      "text/plain": [
       "array([20204, 20201, 20194, 20191, 20182, 20181])"
      ]
     },
     "execution_count": 87,
     "metadata": {},
     "output_type": "execute_result"
    }
   ],
   "source": [
    "df_icfes_all['PERIODO'].unique()"
   ]
  },
  {
   "cell_type": "code",
   "execution_count": 88,
   "id": "attached-ocean",
   "metadata": {},
   "outputs": [],
   "source": [
    "dict_dates = {\n",
    "    20204:datetime(2020,6,1),\n",
    "    20201:datetime(2020,1,1),\n",
    "    20194:datetime(2019,6,1),\n",
    "    20191:datetime(2019,1,1),\n",
    "    20182:datetime(2018,6,1),\n",
    "    20181:datetime(2018,1,1),\n",
    "    20172:datetime(2017,6,1)\n",
    "}"
   ]
  },
  {
   "cell_type": "code",
   "execution_count": 89,
   "id": "higher-sherman",
   "metadata": {},
   "outputs": [
    {
     "data": {
      "text/plain": [
       "1761539"
      ]
     },
     "execution_count": 89,
     "metadata": {},
     "output_type": "execute_result"
    }
   ],
   "source": [
    "len(df_icfes_all)"
   ]
  },
  {
   "cell_type": "code",
   "execution_count": 90,
   "id": "fourth-wesley",
   "metadata": {},
   "outputs": [],
   "source": [
    "df_icfes_all['PERIODO'] = df_icfes_all['PERIODO'].apply(lambda x:dict_dates[x])"
   ]
  },
  {
   "cell_type": "code",
   "execution_count": 91,
   "id": "charitable-tulsa",
   "metadata": {},
   "outputs": [
    {
     "data": {
      "text/plain": [
       "2018-06-01    609118\n",
       "2019-06-01    546212\n",
       "2020-06-01    504872\n",
       "2019-01-01     66104\n",
       "2018-01-01     19798\n",
       "2020-01-01     15435\n",
       "Name: PERIODO, dtype: int64"
      ]
     },
     "execution_count": 91,
     "metadata": {},
     "output_type": "execute_result"
    }
   ],
   "source": [
    "df_icfes_all['PERIODO'].value_counts()"
   ]
  },
  {
   "cell_type": "code",
   "execution_count": 92,
   "id": "divine-setup",
   "metadata": {},
   "outputs": [],
   "source": [
    "def cast_internet(x):\n",
    "    if x!=x:\n",
    "        return 'NR'\n",
    "    else:\n",
    "        if x=='-' or x=='Sin respuesta':\n",
    "            return 'NR'\n",
    "        else:\n",
    "            return x"
   ]
  },
  {
   "cell_type": "code",
   "execution_count": 93,
   "id": "athletic-couple",
   "metadata": {},
   "outputs": [],
   "source": [
    "df_icfes_all['FAMI_TIENEINTERNET'] = df_icfes_all['FAMI_TIENEINTERNET'].apply(cast_internet)"
   ]
  },
  {
   "cell_type": "code",
   "execution_count": 94,
   "id": "smooth-narrow",
   "metadata": {},
   "outputs": [
    {
     "data": {
      "text/plain": [
       "Si    1007142\n",
       "No     569572\n",
       "NR     184825\n",
       "Name: FAMI_TIENEINTERNET, dtype: int64"
      ]
     },
     "execution_count": 94,
     "metadata": {},
     "output_type": "execute_result"
    }
   ],
   "source": [
    "df_icfes_all['FAMI_TIENEINTERNET'].value_counts()"
   ]
  },
  {
   "cell_type": "code",
   "execution_count": 95,
   "id": "undefined-negotiation",
   "metadata": {},
   "outputs": [
    {
     "data": {
      "text/plain": [
       "Si    943595\n",
       "No    658427\n",
       "-       9401\n",
       "Name: FAMI_TIENECOMPUTADOR, dtype: int64"
      ]
     },
     "execution_count": 95,
     "metadata": {},
     "output_type": "execute_result"
    }
   ],
   "source": [
    "df_icfes_all['FAMI_TIENECOMPUTADOR'].value_counts()"
   ]
  },
  {
   "cell_type": "code",
   "execution_count": 96,
   "id": "buried-diary",
   "metadata": {},
   "outputs": [
    {
     "data": {
      "text/plain": [
       "Entre 1 y 3 horas        477168\n",
       "Entre 30 y 60 minutos    389224\n",
       "Más de 3 horas           351082\n",
       "30 minutos o menos       259954\n",
       "No Navega Internet        94103\n",
       "-                          4050\n",
       "Name: ESTU_DEDICACIONINTERNET, dtype: int64"
      ]
     },
     "execution_count": 96,
     "metadata": {},
     "output_type": "execute_result"
    }
   ],
   "source": [
    "df_icfes_all['ESTU_DEDICACIONINTERNET'].value_counts()"
   ]
  },
  {
   "cell_type": "code",
   "execution_count": 97,
   "id": "cheap-release",
   "metadata": {},
   "outputs": [],
   "source": [
    "df_count_periodo = df_icfes_all.groupby(['PERIODO']).agg({'ESTU_CONSECUTIVO':'count'}).reset_index()"
   ]
  },
  {
   "cell_type": "code",
   "execution_count": 98,
   "id": "eligible-diving",
   "metadata": {},
   "outputs": [],
   "source": [
    "df_count_tiene_internet = df_icfes_all.groupby(['PERIODO','FAMI_TIENEINTERNET']).agg({'ESTU_CONSECUTIVO':'count'}).unstack().reset_index().fillna(0)"
   ]
  },
  {
   "cell_type": "code",
   "execution_count": 99,
   "id": "detected-designation",
   "metadata": {},
   "outputs": [
    {
     "name": "stderr",
     "output_type": "stream",
     "text": [
      "/Users/jfmolano/DATOS-ICFES/icfes/lib/python3.9/site-packages/pandas/core/reshape/merge.py:648: UserWarning: merging between different levels can give an unintended result (1 levels on the left,2 on the right)\n",
      "  warnings.warn(msg, UserWarning)\n",
      "/Users/jfmolano/DATOS-ICFES/icfes/lib/python3.9/site-packages/pandas/core/generic.py:4153: PerformanceWarning: dropping on a non-lexsorted multi-index without a level parameter may impact performance.\n",
      "  obj = obj._drop_axis(labels, axis, level=level, errors=errors)\n"
     ]
    }
   ],
   "source": [
    "df_merged = pd.merge(df_count_periodo,df_count_tiene_internet,on='PERIODO')"
   ]
  },
  {
   "cell_type": "code",
   "execution_count": 100,
   "id": "forty-ridge",
   "metadata": {},
   "outputs": [
    {
     "data": {
      "text/html": [
       "<div>\n",
       "<style scoped>\n",
       "    .dataframe tbody tr th:only-of-type {\n",
       "        vertical-align: middle;\n",
       "    }\n",
       "\n",
       "    .dataframe tbody tr th {\n",
       "        vertical-align: top;\n",
       "    }\n",
       "\n",
       "    .dataframe thead th {\n",
       "        text-align: right;\n",
       "    }\n",
       "</style>\n",
       "<table border=\"1\" class=\"dataframe\">\n",
       "  <thead>\n",
       "    <tr style=\"text-align: right;\">\n",
       "      <th></th>\n",
       "      <th>PERIODO</th>\n",
       "      <th>ESTU_CONSECUTIVO</th>\n",
       "      <th>(ESTU_CONSECUTIVO, NR)</th>\n",
       "      <th>(ESTU_CONSECUTIVO, No)</th>\n",
       "      <th>(ESTU_CONSECUTIVO, Si)</th>\n",
       "    </tr>\n",
       "  </thead>\n",
       "  <tbody>\n",
       "    <tr>\n",
       "      <th>0</th>\n",
       "      <td>2018-01-01</td>\n",
       "      <td>19798</td>\n",
       "      <td>1339</td>\n",
       "      <td>2121</td>\n",
       "      <td>16338</td>\n",
       "    </tr>\n",
       "    <tr>\n",
       "      <th>1</th>\n",
       "      <td>2018-06-01</td>\n",
       "      <td>609118</td>\n",
       "      <td>91199</td>\n",
       "      <td>214691</td>\n",
       "      <td>303228</td>\n",
       "    </tr>\n",
       "    <tr>\n",
       "      <th>2</th>\n",
       "      <td>2019-01-01</td>\n",
       "      <td>66104</td>\n",
       "      <td>46122</td>\n",
       "      <td>2504</td>\n",
       "      <td>17478</td>\n",
       "    </tr>\n",
       "    <tr>\n",
       "      <th>3</th>\n",
       "      <td>2019-06-01</td>\n",
       "      <td>546212</td>\n",
       "      <td>30971</td>\n",
       "      <td>201199</td>\n",
       "      <td>314042</td>\n",
       "    </tr>\n",
       "    <tr>\n",
       "      <th>4</th>\n",
       "      <td>2020-01-01</td>\n",
       "      <td>15435</td>\n",
       "      <td>1529</td>\n",
       "      <td>675</td>\n",
       "      <td>13231</td>\n",
       "    </tr>\n",
       "    <tr>\n",
       "      <th>5</th>\n",
       "      <td>2020-06-01</td>\n",
       "      <td>504872</td>\n",
       "      <td>13665</td>\n",
       "      <td>148382</td>\n",
       "      <td>342825</td>\n",
       "    </tr>\n",
       "  </tbody>\n",
       "</table>\n",
       "</div>"
      ],
      "text/plain": [
       "     PERIODO  ESTU_CONSECUTIVO  (ESTU_CONSECUTIVO, NR)  \\\n",
       "0 2018-01-01             19798                    1339   \n",
       "1 2018-06-01            609118                   91199   \n",
       "2 2019-01-01             66104                   46122   \n",
       "3 2019-06-01            546212                   30971   \n",
       "4 2020-01-01             15435                    1529   \n",
       "5 2020-06-01            504872                   13665   \n",
       "\n",
       "   (ESTU_CONSECUTIVO, No)  (ESTU_CONSECUTIVO, Si)  \n",
       "0                    2121                   16338  \n",
       "1                  214691                  303228  \n",
       "2                    2504                   17478  \n",
       "3                  201199                  314042  \n",
       "4                     675                   13231  \n",
       "5                  148382                  342825  "
      ]
     },
     "execution_count": 100,
     "metadata": {},
     "output_type": "execute_result"
    }
   ],
   "source": [
    "df_merged"
   ]
  },
  {
   "cell_type": "code",
   "execution_count": 101,
   "id": "confused-venture",
   "metadata": {},
   "outputs": [],
   "source": [
    "df_merged.columns = [\n",
    "        'periodo',\n",
    "        'conteo',\n",
    "        'NR',\n",
    "        'No',\n",
    "        'Si'\n",
    "]"
   ]
  },
  {
   "cell_type": "code",
   "execution_count": 102,
   "id": "pleased-miami",
   "metadata": {},
   "outputs": [],
   "source": [
    "df_merged['Si_porcentaje'] = df_merged['Si']/df_merged['conteo']\n",
    "df_merged['No_porcentaje'] = df_merged['No']/df_merged['conteo']\n",
    "df_merged['NR_porcentaje'] = df_merged['NR']/df_merged['conteo']"
   ]
  },
  {
   "cell_type": "code",
   "execution_count": 103,
   "id": "prescribed-packet",
   "metadata": {},
   "outputs": [],
   "source": [
    "def cast_dedicacion_internet(x):\n",
    "    if x!=x:\n",
    "        return 'NR'\n",
    "    else:\n",
    "        if x=='No Navega Internet':\n",
    "            return 'NO'\n",
    "        elif x=='-':\n",
    "            return 'NR'\n",
    "        else:\n",
    "            return 'SI'"
   ]
  },
  {
   "cell_type": "code",
   "execution_count": 104,
   "id": "offshore-wallace",
   "metadata": {},
   "outputs": [
    {
     "data": {
      "text/plain": [
       "Entre 1 y 3 horas        477168\n",
       "Entre 30 y 60 minutos    389224\n",
       "Más de 3 horas           351082\n",
       "30 minutos o menos       259954\n",
       "No Navega Internet        94103\n",
       "-                          4050\n",
       "Name: ESTU_DEDICACIONINTERNET, dtype: int64"
      ]
     },
     "execution_count": 104,
     "metadata": {},
     "output_type": "execute_result"
    }
   ],
   "source": [
    "df_icfes_all['ESTU_DEDICACIONINTERNET'].value_counts()"
   ]
  },
  {
   "cell_type": "code",
   "execution_count": 105,
   "id": "radio-muscle",
   "metadata": {},
   "outputs": [],
   "source": [
    "df_icfes_all['ESTU_DEDICACIONINTERNET'] = df_icfes_all['ESTU_DEDICACIONINTERNET'].apply(cast_dedicacion_internet)"
   ]
  },
  {
   "cell_type": "code",
   "execution_count": 106,
   "id": "tired-syracuse",
   "metadata": {},
   "outputs": [
    {
     "data": {
      "text/plain": [
       "array(['CUNDINAMARCA', 'ANTIOQUIA', 'BOLIVAR', 'NORTE SANTANDER',\n",
       "       'CAQUETA', 'RISARALDA', 'SANTANDER', 'MAGDALENA', 'BOGOTÁ',\n",
       "       'CALDAS', 'VALLE', 'SUCRE', 'ATLANTICO', 'QUINDIO', 'LA GUAJIRA',\n",
       "       'HUILA', 'CORDOBA', 'NARIÑO', 'CAUCA', 'CASANARE', 'GUAVIARE',\n",
       "       'PUTUMAYO', 'CESAR', 'CHOCO', 'ARAUCA', 'VICHADA', 'META',\n",
       "       'TOLIMA', 'BOYACA', 'AMAZONAS', 'EXTRANJERO', 'SAN ANDRES',\n",
       "       'VAUPES', 'GUAINIA', nan, 'BOGOTA', '-'], dtype=object)"
      ]
     },
     "execution_count": 106,
     "metadata": {},
     "output_type": "execute_result"
    }
   ],
   "source": [
    "df_icfes_all['ESTU_DEPTO_RESIDE'].unique()"
   ]
  },
  {
   "cell_type": "code",
   "execution_count": 107,
   "id": "practical-devon",
   "metadata": {},
   "outputs": [
    {
     "data": {
      "text/html": [
       "<div>\n",
       "<style scoped>\n",
       "    .dataframe tbody tr th:only-of-type {\n",
       "        vertical-align: middle;\n",
       "    }\n",
       "\n",
       "    .dataframe tbody tr th {\n",
       "        vertical-align: top;\n",
       "    }\n",
       "\n",
       "    .dataframe thead th {\n",
       "        text-align: right;\n",
       "    }\n",
       "</style>\n",
       "<table border=\"1\" class=\"dataframe\">\n",
       "  <thead>\n",
       "    <tr style=\"text-align: right;\">\n",
       "      <th></th>\n",
       "      <th>ESTU_GENERO</th>\n",
       "      <th>PERIODO</th>\n",
       "      <th>ESTU_CONSECUTIVO</th>\n",
       "      <th>ESTU_DEPTO_RESIDE</th>\n",
       "      <th>ESTU_COD_RESIDE_DEPTO</th>\n",
       "      <th>ESTU_MCPIO_RESIDE</th>\n",
       "      <th>ESTU_COD_RESIDE_MCPIO</th>\n",
       "      <th>FAMI_ESTRATOVIVIENDA</th>\n",
       "      <th>FAMI_TIENEINTERNET</th>\n",
       "      <th>FAMI_TIENECOMPUTADOR</th>\n",
       "      <th>ESTU_DEDICACIONINTERNET</th>\n",
       "      <th>PUNT_LECTURA_CRITICA</th>\n",
       "      <th>PUNT_MATEMATICAS</th>\n",
       "      <th>PUNT_C_NATURALES</th>\n",
       "      <th>PUNT_SOCIALES_CIUDADANAS</th>\n",
       "      <th>PUNT_INGLES</th>\n",
       "      <th>PUNT_GLOBAL</th>\n",
       "    </tr>\n",
       "  </thead>\n",
       "  <tbody>\n",
       "    <tr>\n",
       "      <th>4</th>\n",
       "      <td>F</td>\n",
       "      <td>2019-01-01</td>\n",
       "      <td>SB11201910014490</td>\n",
       "      <td>BOGOTA</td>\n",
       "      <td>11.0</td>\n",
       "      <td>BOGOTÁ D.C.</td>\n",
       "      <td>11001.0</td>\n",
       "      <td>Estrato 6</td>\n",
       "      <td>Si</td>\n",
       "      <td>Si</td>\n",
       "      <td>SI</td>\n",
       "      <td>55</td>\n",
       "      <td>67</td>\n",
       "      <td>50</td>\n",
       "      <td>47</td>\n",
       "      <td>71.0</td>\n",
       "      <td>280</td>\n",
       "    </tr>\n",
       "    <tr>\n",
       "      <th>5</th>\n",
       "      <td>M</td>\n",
       "      <td>2019-01-01</td>\n",
       "      <td>SB11201910010355</td>\n",
       "      <td>BOGOTA</td>\n",
       "      <td>11.0</td>\n",
       "      <td>BOGOTÁ D.C.</td>\n",
       "      <td>11001.0</td>\n",
       "      <td>Estrato 6</td>\n",
       "      <td>Si</td>\n",
       "      <td>Si</td>\n",
       "      <td>SI</td>\n",
       "      <td>57</td>\n",
       "      <td>73</td>\n",
       "      <td>65</td>\n",
       "      <td>61</td>\n",
       "      <td>87.0</td>\n",
       "      <td>329</td>\n",
       "    </tr>\n",
       "    <tr>\n",
       "      <th>6</th>\n",
       "      <td>F</td>\n",
       "      <td>2019-01-01</td>\n",
       "      <td>SB11201910015989</td>\n",
       "      <td>BOGOTA</td>\n",
       "      <td>11.0</td>\n",
       "      <td>BOGOTÁ D.C.</td>\n",
       "      <td>11001.0</td>\n",
       "      <td>Sin Estrato</td>\n",
       "      <td>Si</td>\n",
       "      <td>Si</td>\n",
       "      <td>SI</td>\n",
       "      <td>55</td>\n",
       "      <td>64</td>\n",
       "      <td>63</td>\n",
       "      <td>59</td>\n",
       "      <td>85.0</td>\n",
       "      <td>311</td>\n",
       "    </tr>\n",
       "    <tr>\n",
       "      <th>7</th>\n",
       "      <td>F</td>\n",
       "      <td>2019-01-01</td>\n",
       "      <td>SB11201910015950</td>\n",
       "      <td>BOGOTA</td>\n",
       "      <td>11.0</td>\n",
       "      <td>BOGOTÁ D.C.</td>\n",
       "      <td>11001.0</td>\n",
       "      <td>Estrato 6</td>\n",
       "      <td>Si</td>\n",
       "      <td>Si</td>\n",
       "      <td>SI</td>\n",
       "      <td>64</td>\n",
       "      <td>72</td>\n",
       "      <td>74</td>\n",
       "      <td>72</td>\n",
       "      <td>85.0</td>\n",
       "      <td>358</td>\n",
       "    </tr>\n",
       "    <tr>\n",
       "      <th>8</th>\n",
       "      <td>F</td>\n",
       "      <td>2019-01-01</td>\n",
       "      <td>SB11201910013692</td>\n",
       "      <td>BOGOTA</td>\n",
       "      <td>11.0</td>\n",
       "      <td>BOGOTÁ D.C.</td>\n",
       "      <td>11001.0</td>\n",
       "      <td>NaN</td>\n",
       "      <td>NR</td>\n",
       "      <td>Si</td>\n",
       "      <td>NR</td>\n",
       "      <td>53</td>\n",
       "      <td>56</td>\n",
       "      <td>48</td>\n",
       "      <td>48</td>\n",
       "      <td>71.0</td>\n",
       "      <td>264</td>\n",
       "    </tr>\n",
       "    <tr>\n",
       "      <th>...</th>\n",
       "      <td>...</td>\n",
       "      <td>...</td>\n",
       "      <td>...</td>\n",
       "      <td>...</td>\n",
       "      <td>...</td>\n",
       "      <td>...</td>\n",
       "      <td>...</td>\n",
       "      <td>...</td>\n",
       "      <td>...</td>\n",
       "      <td>...</td>\n",
       "      <td>...</td>\n",
       "      <td>...</td>\n",
       "      <td>...</td>\n",
       "      <td>...</td>\n",
       "      <td>...</td>\n",
       "      <td>...</td>\n",
       "      <td>...</td>\n",
       "    </tr>\n",
       "    <tr>\n",
       "      <th>19776</th>\n",
       "      <td>M</td>\n",
       "      <td>2018-01-01</td>\n",
       "      <td>SB11201810031788</td>\n",
       "      <td>BOGOTA</td>\n",
       "      <td>11</td>\n",
       "      <td>BOGOTÁ D.C.</td>\n",
       "      <td>11001</td>\n",
       "      <td>Sin Estrato</td>\n",
       "      <td>NR</td>\n",
       "      <td>Si</td>\n",
       "      <td>NR</td>\n",
       "      <td>60</td>\n",
       "      <td>68</td>\n",
       "      <td>64</td>\n",
       "      <td>57</td>\n",
       "      <td>63.0</td>\n",
       "      <td>312</td>\n",
       "    </tr>\n",
       "    <tr>\n",
       "      <th>19779</th>\n",
       "      <td>M</td>\n",
       "      <td>2018-01-01</td>\n",
       "      <td>SB11201810008012</td>\n",
       "      <td>BOGOTA</td>\n",
       "      <td>11</td>\n",
       "      <td>BOGOTÁ D.C.</td>\n",
       "      <td>11001</td>\n",
       "      <td>Estrato 5</td>\n",
       "      <td>Si</td>\n",
       "      <td>Si</td>\n",
       "      <td>SI</td>\n",
       "      <td>67</td>\n",
       "      <td>71</td>\n",
       "      <td>72</td>\n",
       "      <td>60</td>\n",
       "      <td>84.0</td>\n",
       "      <td>344</td>\n",
       "    </tr>\n",
       "    <tr>\n",
       "      <th>19780</th>\n",
       "      <td>M</td>\n",
       "      <td>2018-01-01</td>\n",
       "      <td>SB11201810037392</td>\n",
       "      <td>BOGOTA</td>\n",
       "      <td>11</td>\n",
       "      <td>BOGOTÁ D.C.</td>\n",
       "      <td>11001</td>\n",
       "      <td>Estrato 3</td>\n",
       "      <td>Si</td>\n",
       "      <td>Si</td>\n",
       "      <td>SI</td>\n",
       "      <td>50</td>\n",
       "      <td>48</td>\n",
       "      <td>36</td>\n",
       "      <td>36</td>\n",
       "      <td>47.0</td>\n",
       "      <td>214</td>\n",
       "    </tr>\n",
       "    <tr>\n",
       "      <th>19787</th>\n",
       "      <td>F</td>\n",
       "      <td>2018-01-01</td>\n",
       "      <td>SB11201810003873</td>\n",
       "      <td>BOGOTA</td>\n",
       "      <td>11</td>\n",
       "      <td>BOGOTÁ D.C.</td>\n",
       "      <td>11001</td>\n",
       "      <td>Estrato 4</td>\n",
       "      <td>Si</td>\n",
       "      <td>Si</td>\n",
       "      <td>SI</td>\n",
       "      <td>64</td>\n",
       "      <td>65</td>\n",
       "      <td>63</td>\n",
       "      <td>68</td>\n",
       "      <td>79.0</td>\n",
       "      <td>330</td>\n",
       "    </tr>\n",
       "    <tr>\n",
       "      <th>19788</th>\n",
       "      <td>M</td>\n",
       "      <td>2018-01-01</td>\n",
       "      <td>SB11201810009147</td>\n",
       "      <td>BOGOTA</td>\n",
       "      <td>11</td>\n",
       "      <td>BOGOTÁ D.C.</td>\n",
       "      <td>11001</td>\n",
       "      <td>Estrato 6</td>\n",
       "      <td>Si</td>\n",
       "      <td>Si</td>\n",
       "      <td>SI</td>\n",
       "      <td>64</td>\n",
       "      <td>70</td>\n",
       "      <td>65</td>\n",
       "      <td>65</td>\n",
       "      <td>82.0</td>\n",
       "      <td>336</td>\n",
       "    </tr>\n",
       "  </tbody>\n",
       "</table>\n",
       "<p>113124 rows × 17 columns</p>\n",
       "</div>"
      ],
      "text/plain": [
       "      ESTU_GENERO    PERIODO  ESTU_CONSECUTIVO ESTU_DEPTO_RESIDE  \\\n",
       "4               F 2019-01-01  SB11201910014490            BOGOTA   \n",
       "5               M 2019-01-01  SB11201910010355            BOGOTA   \n",
       "6               F 2019-01-01  SB11201910015989            BOGOTA   \n",
       "7               F 2019-01-01  SB11201910015950            BOGOTA   \n",
       "8               F 2019-01-01  SB11201910013692            BOGOTA   \n",
       "...           ...        ...               ...               ...   \n",
       "19776           M 2018-01-01  SB11201810031788            BOGOTA   \n",
       "19779           M 2018-01-01  SB11201810008012            BOGOTA   \n",
       "19780           M 2018-01-01  SB11201810037392            BOGOTA   \n",
       "19787           F 2018-01-01  SB11201810003873            BOGOTA   \n",
       "19788           M 2018-01-01  SB11201810009147            BOGOTA   \n",
       "\n",
       "      ESTU_COD_RESIDE_DEPTO ESTU_MCPIO_RESIDE ESTU_COD_RESIDE_MCPIO  \\\n",
       "4                      11.0       BOGOTÁ D.C.               11001.0   \n",
       "5                      11.0       BOGOTÁ D.C.               11001.0   \n",
       "6                      11.0       BOGOTÁ D.C.               11001.0   \n",
       "7                      11.0       BOGOTÁ D.C.               11001.0   \n",
       "8                      11.0       BOGOTÁ D.C.               11001.0   \n",
       "...                     ...               ...                   ...   \n",
       "19776                    11       BOGOTÁ D.C.                 11001   \n",
       "19779                    11       BOGOTÁ D.C.                 11001   \n",
       "19780                    11       BOGOTÁ D.C.                 11001   \n",
       "19787                    11       BOGOTÁ D.C.                 11001   \n",
       "19788                    11       BOGOTÁ D.C.                 11001   \n",
       "\n",
       "      FAMI_ESTRATOVIVIENDA FAMI_TIENEINTERNET FAMI_TIENECOMPUTADOR  \\\n",
       "4                Estrato 6                 Si                   Si   \n",
       "5                Estrato 6                 Si                   Si   \n",
       "6              Sin Estrato                 Si                   Si   \n",
       "7                Estrato 6                 Si                   Si   \n",
       "8                      NaN                 NR                   Si   \n",
       "...                    ...                ...                  ...   \n",
       "19776          Sin Estrato                 NR                   Si   \n",
       "19779            Estrato 5                 Si                   Si   \n",
       "19780            Estrato 3                 Si                   Si   \n",
       "19787            Estrato 4                 Si                   Si   \n",
       "19788            Estrato 6                 Si                   Si   \n",
       "\n",
       "      ESTU_DEDICACIONINTERNET  PUNT_LECTURA_CRITICA  PUNT_MATEMATICAS  \\\n",
       "4                          SI                    55                67   \n",
       "5                          SI                    57                73   \n",
       "6                          SI                    55                64   \n",
       "7                          SI                    64                72   \n",
       "8                          NR                    53                56   \n",
       "...                       ...                   ...               ...   \n",
       "19776                      NR                    60                68   \n",
       "19779                      SI                    67                71   \n",
       "19780                      SI                    50                48   \n",
       "19787                      SI                    64                65   \n",
       "19788                      SI                    64                70   \n",
       "\n",
       "       PUNT_C_NATURALES  PUNT_SOCIALES_CIUDADANAS  PUNT_INGLES  PUNT_GLOBAL  \n",
       "4                    50                        47         71.0          280  \n",
       "5                    65                        61         87.0          329  \n",
       "6                    63                        59         85.0          311  \n",
       "7                    74                        72         85.0          358  \n",
       "8                    48                        48         71.0          264  \n",
       "...                 ...                       ...          ...          ...  \n",
       "19776                64                        57         63.0          312  \n",
       "19779                72                        60         84.0          344  \n",
       "19780                36                        36         47.0          214  \n",
       "19787                63                        68         79.0          330  \n",
       "19788                65                        65         82.0          336  \n",
       "\n",
       "[113124 rows x 17 columns]"
      ]
     },
     "execution_count": 107,
     "metadata": {},
     "output_type": "execute_result"
    }
   ],
   "source": [
    "df_icfes_all.loc[df_icfes_all['ESTU_DEPTO_RESIDE']=='BOGOTA']"
   ]
  },
  {
   "cell_type": "code",
   "execution_count": 108,
   "id": "industrial-reputation",
   "metadata": {},
   "outputs": [],
   "source": [
    "def cast_famitiene_internet(x):\n",
    "    if x!=x:\n",
    "        return 'NR'\n",
    "    else:\n",
    "        if x=='-':\n",
    "            return 'NR'\n",
    "        elif x=='Sin respuesta':\n",
    "            return 'NR'\n",
    "        else:\n",
    "            return x"
   ]
  },
  {
   "cell_type": "code",
   "execution_count": 109,
   "id": "lined-welcome",
   "metadata": {},
   "outputs": [],
   "source": [
    "df_icfes_all['FAMI_TIENEINTERNET'] = df_icfes_all['FAMI_TIENEINTERNET'].apply(cast_famitiene_internet)"
   ]
  },
  {
   "cell_type": "code",
   "execution_count": 110,
   "id": "living-wheat",
   "metadata": {},
   "outputs": [],
   "source": [
    "df_icfes_all = df_icfes_all.loc[df_icfes_all['FAMI_TIENEINTERNET']!='NR']"
   ]
  },
  {
   "cell_type": "code",
   "execution_count": 122,
   "id": "emerging-audience",
   "metadata": {},
   "outputs": [],
   "source": [
    "#df_d_internet = df_icfes_all.groupby(['FAMI_TIENEINTERNET','PERIODO']).agg({\n",
    "df_d_internet = df_icfes_all.loc[df_icfes_all['ESTU_DEPTO_RESIDE'].isin(['BOGOTA','BOGOTÁ'])].groupby(['FAMI_TIENEINTERNET','PERIODO']).agg({\n",
    "    'ESTU_CONSECUTIVO':'count','PUNT_GLOBAL':'mean'\n",
    "}).reset_index()"
   ]
  },
  {
   "cell_type": "code",
   "execution_count": 123,
   "id": "regional-buyer",
   "metadata": {},
   "outputs": [],
   "source": [
    "df_d_internet = df_d_internet.loc[df_d_internet['FAMI_TIENEINTERNET']!='NR']"
   ]
  },
  {
   "cell_type": "code",
   "execution_count": 124,
   "id": "straight-spotlight",
   "metadata": {},
   "outputs": [
    {
     "data": {
      "text/html": [
       "<div>\n",
       "<style scoped>\n",
       "    .dataframe tbody tr th:only-of-type {\n",
       "        vertical-align: middle;\n",
       "    }\n",
       "\n",
       "    .dataframe tbody tr th {\n",
       "        vertical-align: top;\n",
       "    }\n",
       "\n",
       "    .dataframe thead th {\n",
       "        text-align: right;\n",
       "    }\n",
       "</style>\n",
       "<table border=\"1\" class=\"dataframe\">\n",
       "  <thead>\n",
       "    <tr style=\"text-align: right;\">\n",
       "      <th></th>\n",
       "      <th>PERIODO</th>\n",
       "      <th>ESTU_CONSECUTIVO</th>\n",
       "    </tr>\n",
       "  </thead>\n",
       "  <tbody>\n",
       "    <tr>\n",
       "      <th>0</th>\n",
       "      <td>2018-01-01</td>\n",
       "      <td>5074</td>\n",
       "    </tr>\n",
       "    <tr>\n",
       "      <th>1</th>\n",
       "      <td>2018-06-01</td>\n",
       "      <td>85400</td>\n",
       "    </tr>\n",
       "    <tr>\n",
       "      <th>2</th>\n",
       "      <td>2019-01-01</td>\n",
       "      <td>5127</td>\n",
       "    </tr>\n",
       "    <tr>\n",
       "      <th>3</th>\n",
       "      <td>2019-06-01</td>\n",
       "      <td>80190</td>\n",
       "    </tr>\n",
       "    <tr>\n",
       "      <th>4</th>\n",
       "      <td>2020-01-01</td>\n",
       "      <td>3381</td>\n",
       "    </tr>\n",
       "    <tr>\n",
       "      <th>5</th>\n",
       "      <td>2020-06-01</td>\n",
       "      <td>75366</td>\n",
       "    </tr>\n",
       "  </tbody>\n",
       "</table>\n",
       "</div>"
      ],
      "text/plain": [
       "     PERIODO  ESTU_CONSECUTIVO\n",
       "0 2018-01-01              5074\n",
       "1 2018-06-01             85400\n",
       "2 2019-01-01              5127\n",
       "3 2019-06-01             80190\n",
       "4 2020-01-01              3381\n",
       "5 2020-06-01             75366"
      ]
     },
     "execution_count": 124,
     "metadata": {},
     "output_type": "execute_result"
    }
   ],
   "source": [
    "df_d_internet.groupby('PERIODO').sum()['ESTU_CONSECUTIVO'].reset_index()"
   ]
  },
  {
   "cell_type": "code",
   "execution_count": 125,
   "id": "specific-return",
   "metadata": {},
   "outputs": [],
   "source": [
    "df_d_internet = pd.merge(df_d_internet, df_d_internet.groupby('PERIODO').sum()['ESTU_CONSECUTIVO'].reset_index(), on='PERIODO', how='left')"
   ]
  },
  {
   "cell_type": "code",
   "execution_count": 126,
   "id": "taken-cassette",
   "metadata": {},
   "outputs": [],
   "source": [
    "df_d_internet['ESTU_CONSECUTIVO'] = df_d_internet['ESTU_CONSECUTIVO_x']/df_d_internet['ESTU_CONSECUTIVO_y']*100"
   ]
  },
  {
   "cell_type": "code",
   "execution_count": 127,
   "id": "portable-people",
   "metadata": {},
   "outputs": [],
   "source": [
    "df_d_internet_s2 = df_d_internet.loc[df_d_internet['PERIODO'].isin([\n",
    "    datetime(2020,6,1),\n",
    "    datetime(2019,6,1),\n",
    "    datetime(2018,6,1),\n",
    "    # datetime(2017,6,1)\n",
    "])]"
   ]
  },
  {
   "cell_type": "code",
   "execution_count": 128,
   "id": "competitive-illinois",
   "metadata": {},
   "outputs": [
    {
     "data": {
      "text/html": [
       "<div>\n",
       "<style scoped>\n",
       "    .dataframe tbody tr th:only-of-type {\n",
       "        vertical-align: middle;\n",
       "    }\n",
       "\n",
       "    .dataframe tbody tr th {\n",
       "        vertical-align: top;\n",
       "    }\n",
       "\n",
       "    .dataframe thead th {\n",
       "        text-align: right;\n",
       "    }\n",
       "</style>\n",
       "<table border=\"1\" class=\"dataframe\">\n",
       "  <thead>\n",
       "    <tr style=\"text-align: right;\">\n",
       "      <th></th>\n",
       "      <th>FAMI_TIENEINTERNET</th>\n",
       "      <th>PERIODO</th>\n",
       "      <th>ESTU_CONSECUTIVO_x</th>\n",
       "      <th>PUNT_GLOBAL</th>\n",
       "      <th>ESTU_CONSECUTIVO_y</th>\n",
       "      <th>ESTU_CONSECUTIVO</th>\n",
       "    </tr>\n",
       "  </thead>\n",
       "  <tbody>\n",
       "    <tr>\n",
       "      <th>1</th>\n",
       "      <td>No</td>\n",
       "      <td>2018-06-01</td>\n",
       "      <td>10829</td>\n",
       "      <td>249.292086</td>\n",
       "      <td>85400</td>\n",
       "      <td>12.680328</td>\n",
       "    </tr>\n",
       "    <tr>\n",
       "      <th>3</th>\n",
       "      <td>No</td>\n",
       "      <td>2019-06-01</td>\n",
       "      <td>9243</td>\n",
       "      <td>243.768798</td>\n",
       "      <td>80190</td>\n",
       "      <td>11.526375</td>\n",
       "    </tr>\n",
       "    <tr>\n",
       "      <th>5</th>\n",
       "      <td>No</td>\n",
       "      <td>2020-06-01</td>\n",
       "      <td>5471</td>\n",
       "      <td>237.481265</td>\n",
       "      <td>75366</td>\n",
       "      <td>7.259242</td>\n",
       "    </tr>\n",
       "    <tr>\n",
       "      <th>7</th>\n",
       "      <td>Si</td>\n",
       "      <td>2018-06-01</td>\n",
       "      <td>74571</td>\n",
       "      <td>274.670153</td>\n",
       "      <td>85400</td>\n",
       "      <td>87.319672</td>\n",
       "    </tr>\n",
       "    <tr>\n",
       "      <th>9</th>\n",
       "      <td>Si</td>\n",
       "      <td>2019-06-01</td>\n",
       "      <td>70947</td>\n",
       "      <td>270.637983</td>\n",
       "      <td>80190</td>\n",
       "      <td>88.473625</td>\n",
       "    </tr>\n",
       "    <tr>\n",
       "      <th>11</th>\n",
       "      <td>Si</td>\n",
       "      <td>2020-06-01</td>\n",
       "      <td>69895</td>\n",
       "      <td>270.344545</td>\n",
       "      <td>75366</td>\n",
       "      <td>92.740758</td>\n",
       "    </tr>\n",
       "  </tbody>\n",
       "</table>\n",
       "</div>"
      ],
      "text/plain": [
       "   FAMI_TIENEINTERNET    PERIODO  ESTU_CONSECUTIVO_x  PUNT_GLOBAL  \\\n",
       "1                  No 2018-06-01               10829   249.292086   \n",
       "3                  No 2019-06-01                9243   243.768798   \n",
       "5                  No 2020-06-01                5471   237.481265   \n",
       "7                  Si 2018-06-01               74571   274.670153   \n",
       "9                  Si 2019-06-01               70947   270.637983   \n",
       "11                 Si 2020-06-01               69895   270.344545   \n",
       "\n",
       "    ESTU_CONSECUTIVO_y  ESTU_CONSECUTIVO  \n",
       "1                85400         12.680328  \n",
       "3                80190         11.526375  \n",
       "5                75366          7.259242  \n",
       "7                85400         87.319672  \n",
       "9                80190         88.473625  \n",
       "11               75366         92.740758  "
      ]
     },
     "execution_count": 128,
     "metadata": {},
     "output_type": "execute_result"
    }
   ],
   "source": [
    "df_d_internet_s2"
   ]
  },
  {
   "cell_type": "code",
   "execution_count": 135,
   "id": "extensive-contrary",
   "metadata": {},
   "outputs": [
    {
     "data": {
      "application/vnd.plotly.v1+json": {
       "config": {
        "plotlyServerURL": "https://plot.ly"
       },
       "data": [
        {
         "marker": {
          "color": "#45A5ED"
         },
         "name": "Sin internet",
         "type": "bar",
         "x": [
          "2018-06-01T00:00:00",
          "2019-06-01T00:00:00",
          "2020-06-01T00:00:00"
         ],
         "xaxis": "x",
         "y": [
          12.680327868852459,
          11.526374859708193,
          7.259241567815726
         ],
         "yaxis": "y"
        },
        {
         "marker": {
          "color": "#4472C4"
         },
         "name": "Con internet",
         "type": "bar",
         "x": [
          "2018-06-01T00:00:00",
          "2019-06-01T00:00:00",
          "2020-06-01T00:00:00"
         ],
         "xaxis": "x",
         "y": [
          87.31967213114754,
          88.47362514029182,
          92.74075843218428
         ],
         "yaxis": "y"
        },
        {
         "marker": {
          "color": "#E32D91"
         },
         "name": "Puntaje sin internet",
         "type": "scatter",
         "x": [
          "2018-06-01T00:00:00",
          "2019-06-01T00:00:00",
          "2020-06-01T00:00:00"
         ],
         "xaxis": "x",
         "y": [
          249.29208606519532,
          243.76879800930433,
          237.4812648510327
         ],
         "yaxis": "y2"
        },
        {
         "marker": {
          "color": "#5AA2AE"
         },
         "name": "Puntaje con intertet",
         "type": "scatter",
         "x": [
          "2018-06-01T00:00:00",
          "2019-06-01T00:00:00",
          "2020-06-01T00:00:00"
         ],
         "xaxis": "x",
         "y": [
          274.67015327674295,
          270.63798328329597,
          270.34454538951286
         ],
         "yaxis": "y2"
        }
       ],
       "layout": {
        "autosize": true,
        "template": {
         "data": {
          "bar": [
           {
            "error_x": {
             "color": "#2a3f5f"
            },
            "error_y": {
             "color": "#2a3f5f"
            },
            "marker": {
             "line": {
              "color": "#E5ECF6",
              "width": 0.5
             }
            },
            "type": "bar"
           }
          ],
          "barpolar": [
           {
            "marker": {
             "line": {
              "color": "#E5ECF6",
              "width": 0.5
             }
            },
            "type": "barpolar"
           }
          ],
          "carpet": [
           {
            "aaxis": {
             "endlinecolor": "#2a3f5f",
             "gridcolor": "white",
             "linecolor": "white",
             "minorgridcolor": "white",
             "startlinecolor": "#2a3f5f"
            },
            "baxis": {
             "endlinecolor": "#2a3f5f",
             "gridcolor": "white",
             "linecolor": "white",
             "minorgridcolor": "white",
             "startlinecolor": "#2a3f5f"
            },
            "type": "carpet"
           }
          ],
          "choropleth": [
           {
            "colorbar": {
             "outlinewidth": 0,
             "ticks": ""
            },
            "type": "choropleth"
           }
          ],
          "contour": [
           {
            "colorbar": {
             "outlinewidth": 0,
             "ticks": ""
            },
            "colorscale": [
             [
              0,
              "#0d0887"
             ],
             [
              0.1111111111111111,
              "#46039f"
             ],
             [
              0.2222222222222222,
              "#7201a8"
             ],
             [
              0.3333333333333333,
              "#9c179e"
             ],
             [
              0.4444444444444444,
              "#bd3786"
             ],
             [
              0.5555555555555556,
              "#d8576b"
             ],
             [
              0.6666666666666666,
              "#ed7953"
             ],
             [
              0.7777777777777778,
              "#fb9f3a"
             ],
             [
              0.8888888888888888,
              "#fdca26"
             ],
             [
              1,
              "#f0f921"
             ]
            ],
            "type": "contour"
           }
          ],
          "contourcarpet": [
           {
            "colorbar": {
             "outlinewidth": 0,
             "ticks": ""
            },
            "type": "contourcarpet"
           }
          ],
          "heatmap": [
           {
            "colorbar": {
             "outlinewidth": 0,
             "ticks": ""
            },
            "colorscale": [
             [
              0,
              "#0d0887"
             ],
             [
              0.1111111111111111,
              "#46039f"
             ],
             [
              0.2222222222222222,
              "#7201a8"
             ],
             [
              0.3333333333333333,
              "#9c179e"
             ],
             [
              0.4444444444444444,
              "#bd3786"
             ],
             [
              0.5555555555555556,
              "#d8576b"
             ],
             [
              0.6666666666666666,
              "#ed7953"
             ],
             [
              0.7777777777777778,
              "#fb9f3a"
             ],
             [
              0.8888888888888888,
              "#fdca26"
             ],
             [
              1,
              "#f0f921"
             ]
            ],
            "type": "heatmap"
           }
          ],
          "heatmapgl": [
           {
            "colorbar": {
             "outlinewidth": 0,
             "ticks": ""
            },
            "colorscale": [
             [
              0,
              "#0d0887"
             ],
             [
              0.1111111111111111,
              "#46039f"
             ],
             [
              0.2222222222222222,
              "#7201a8"
             ],
             [
              0.3333333333333333,
              "#9c179e"
             ],
             [
              0.4444444444444444,
              "#bd3786"
             ],
             [
              0.5555555555555556,
              "#d8576b"
             ],
             [
              0.6666666666666666,
              "#ed7953"
             ],
             [
              0.7777777777777778,
              "#fb9f3a"
             ],
             [
              0.8888888888888888,
              "#fdca26"
             ],
             [
              1,
              "#f0f921"
             ]
            ],
            "type": "heatmapgl"
           }
          ],
          "histogram": [
           {
            "marker": {
             "colorbar": {
              "outlinewidth": 0,
              "ticks": ""
             }
            },
            "type": "histogram"
           }
          ],
          "histogram2d": [
           {
            "colorbar": {
             "outlinewidth": 0,
             "ticks": ""
            },
            "colorscale": [
             [
              0,
              "#0d0887"
             ],
             [
              0.1111111111111111,
              "#46039f"
             ],
             [
              0.2222222222222222,
              "#7201a8"
             ],
             [
              0.3333333333333333,
              "#9c179e"
             ],
             [
              0.4444444444444444,
              "#bd3786"
             ],
             [
              0.5555555555555556,
              "#d8576b"
             ],
             [
              0.6666666666666666,
              "#ed7953"
             ],
             [
              0.7777777777777778,
              "#fb9f3a"
             ],
             [
              0.8888888888888888,
              "#fdca26"
             ],
             [
              1,
              "#f0f921"
             ]
            ],
            "type": "histogram2d"
           }
          ],
          "histogram2dcontour": [
           {
            "colorbar": {
             "outlinewidth": 0,
             "ticks": ""
            },
            "colorscale": [
             [
              0,
              "#0d0887"
             ],
             [
              0.1111111111111111,
              "#46039f"
             ],
             [
              0.2222222222222222,
              "#7201a8"
             ],
             [
              0.3333333333333333,
              "#9c179e"
             ],
             [
              0.4444444444444444,
              "#bd3786"
             ],
             [
              0.5555555555555556,
              "#d8576b"
             ],
             [
              0.6666666666666666,
              "#ed7953"
             ],
             [
              0.7777777777777778,
              "#fb9f3a"
             ],
             [
              0.8888888888888888,
              "#fdca26"
             ],
             [
              1,
              "#f0f921"
             ]
            ],
            "type": "histogram2dcontour"
           }
          ],
          "mesh3d": [
           {
            "colorbar": {
             "outlinewidth": 0,
             "ticks": ""
            },
            "type": "mesh3d"
           }
          ],
          "parcoords": [
           {
            "line": {
             "colorbar": {
              "outlinewidth": 0,
              "ticks": ""
             }
            },
            "type": "parcoords"
           }
          ],
          "pie": [
           {
            "automargin": true,
            "type": "pie"
           }
          ],
          "scatter": [
           {
            "marker": {
             "colorbar": {
              "outlinewidth": 0,
              "ticks": ""
             }
            },
            "type": "scatter"
           }
          ],
          "scatter3d": [
           {
            "line": {
             "colorbar": {
              "outlinewidth": 0,
              "ticks": ""
             }
            },
            "marker": {
             "colorbar": {
              "outlinewidth": 0,
              "ticks": ""
             }
            },
            "type": "scatter3d"
           }
          ],
          "scattercarpet": [
           {
            "marker": {
             "colorbar": {
              "outlinewidth": 0,
              "ticks": ""
             }
            },
            "type": "scattercarpet"
           }
          ],
          "scattergeo": [
           {
            "marker": {
             "colorbar": {
              "outlinewidth": 0,
              "ticks": ""
             }
            },
            "type": "scattergeo"
           }
          ],
          "scattergl": [
           {
            "marker": {
             "colorbar": {
              "outlinewidth": 0,
              "ticks": ""
             }
            },
            "type": "scattergl"
           }
          ],
          "scattermapbox": [
           {
            "marker": {
             "colorbar": {
              "outlinewidth": 0,
              "ticks": ""
             }
            },
            "type": "scattermapbox"
           }
          ],
          "scatterpolar": [
           {
            "marker": {
             "colorbar": {
              "outlinewidth": 0,
              "ticks": ""
             }
            },
            "type": "scatterpolar"
           }
          ],
          "scatterpolargl": [
           {
            "marker": {
             "colorbar": {
              "outlinewidth": 0,
              "ticks": ""
             }
            },
            "type": "scatterpolargl"
           }
          ],
          "scatterternary": [
           {
            "marker": {
             "colorbar": {
              "outlinewidth": 0,
              "ticks": ""
             }
            },
            "type": "scatterternary"
           }
          ],
          "surface": [
           {
            "colorbar": {
             "outlinewidth": 0,
             "ticks": ""
            },
            "colorscale": [
             [
              0,
              "#0d0887"
             ],
             [
              0.1111111111111111,
              "#46039f"
             ],
             [
              0.2222222222222222,
              "#7201a8"
             ],
             [
              0.3333333333333333,
              "#9c179e"
             ],
             [
              0.4444444444444444,
              "#bd3786"
             ],
             [
              0.5555555555555556,
              "#d8576b"
             ],
             [
              0.6666666666666666,
              "#ed7953"
             ],
             [
              0.7777777777777778,
              "#fb9f3a"
             ],
             [
              0.8888888888888888,
              "#fdca26"
             ],
             [
              1,
              "#f0f921"
             ]
            ],
            "type": "surface"
           }
          ],
          "table": [
           {
            "cells": {
             "fill": {
              "color": "#EBF0F8"
             },
             "line": {
              "color": "white"
             }
            },
            "header": {
             "fill": {
              "color": "#C8D4E3"
             },
             "line": {
              "color": "white"
             }
            },
            "type": "table"
           }
          ]
         },
         "layout": {
          "annotationdefaults": {
           "arrowcolor": "#2a3f5f",
           "arrowhead": 0,
           "arrowwidth": 1
          },
          "autotypenumbers": "strict",
          "coloraxis": {
           "colorbar": {
            "outlinewidth": 0,
            "ticks": ""
           }
          },
          "colorscale": {
           "diverging": [
            [
             0,
             "#8e0152"
            ],
            [
             0.1,
             "#c51b7d"
            ],
            [
             0.2,
             "#de77ae"
            ],
            [
             0.3,
             "#f1b6da"
            ],
            [
             0.4,
             "#fde0ef"
            ],
            [
             0.5,
             "#f7f7f7"
            ],
            [
             0.6,
             "#e6f5d0"
            ],
            [
             0.7,
             "#b8e186"
            ],
            [
             0.8,
             "#7fbc41"
            ],
            [
             0.9,
             "#4d9221"
            ],
            [
             1,
             "#276419"
            ]
           ],
           "sequential": [
            [
             0,
             "#0d0887"
            ],
            [
             0.1111111111111111,
             "#46039f"
            ],
            [
             0.2222222222222222,
             "#7201a8"
            ],
            [
             0.3333333333333333,
             "#9c179e"
            ],
            [
             0.4444444444444444,
             "#bd3786"
            ],
            [
             0.5555555555555556,
             "#d8576b"
            ],
            [
             0.6666666666666666,
             "#ed7953"
            ],
            [
             0.7777777777777778,
             "#fb9f3a"
            ],
            [
             0.8888888888888888,
             "#fdca26"
            ],
            [
             1,
             "#f0f921"
            ]
           ],
           "sequentialminus": [
            [
             0,
             "#0d0887"
            ],
            [
             0.1111111111111111,
             "#46039f"
            ],
            [
             0.2222222222222222,
             "#7201a8"
            ],
            [
             0.3333333333333333,
             "#9c179e"
            ],
            [
             0.4444444444444444,
             "#bd3786"
            ],
            [
             0.5555555555555556,
             "#d8576b"
            ],
            [
             0.6666666666666666,
             "#ed7953"
            ],
            [
             0.7777777777777778,
             "#fb9f3a"
            ],
            [
             0.8888888888888888,
             "#fdca26"
            ],
            [
             1,
             "#f0f921"
            ]
           ]
          },
          "colorway": [
           "#636efa",
           "#EF553B",
           "#00cc96",
           "#ab63fa",
           "#FFA15A",
           "#19d3f3",
           "#FF6692",
           "#B6E880",
           "#FF97FF",
           "#FECB52"
          ],
          "font": {
           "color": "#2a3f5f"
          },
          "geo": {
           "bgcolor": "white",
           "lakecolor": "white",
           "landcolor": "#E5ECF6",
           "showlakes": true,
           "showland": true,
           "subunitcolor": "white"
          },
          "hoverlabel": {
           "align": "left"
          },
          "hovermode": "closest",
          "mapbox": {
           "style": "light"
          },
          "paper_bgcolor": "white",
          "plot_bgcolor": "#E5ECF6",
          "polar": {
           "angularaxis": {
            "gridcolor": "white",
            "linecolor": "white",
            "ticks": ""
           },
           "bgcolor": "#E5ECF6",
           "radialaxis": {
            "gridcolor": "white",
            "linecolor": "white",
            "ticks": ""
           }
          },
          "scene": {
           "xaxis": {
            "backgroundcolor": "#E5ECF6",
            "gridcolor": "white",
            "gridwidth": 2,
            "linecolor": "white",
            "showbackground": true,
            "ticks": "",
            "zerolinecolor": "white"
           },
           "yaxis": {
            "backgroundcolor": "#E5ECF6",
            "gridcolor": "white",
            "gridwidth": 2,
            "linecolor": "white",
            "showbackground": true,
            "ticks": "",
            "zerolinecolor": "white"
           },
           "zaxis": {
            "backgroundcolor": "#E5ECF6",
            "gridcolor": "white",
            "gridwidth": 2,
            "linecolor": "white",
            "showbackground": true,
            "ticks": "",
            "zerolinecolor": "white"
           }
          },
          "shapedefaults": {
           "line": {
            "color": "#2a3f5f"
           }
          },
          "ternary": {
           "aaxis": {
            "gridcolor": "white",
            "linecolor": "white",
            "ticks": ""
           },
           "baxis": {
            "gridcolor": "white",
            "linecolor": "white",
            "ticks": ""
           },
           "bgcolor": "#E5ECF6",
           "caxis": {
            "gridcolor": "white",
            "linecolor": "white",
            "ticks": ""
           }
          },
          "title": {
           "x": 0.05
          },
          "xaxis": {
           "automargin": true,
           "gridcolor": "white",
           "linecolor": "white",
           "ticks": "",
           "title": {
            "standoff": 15
           },
           "zerolinecolor": "white",
           "zerolinewidth": 2
          },
          "yaxis": {
           "automargin": true,
           "gridcolor": "white",
           "linecolor": "white",
           "ticks": "",
           "title": {
            "standoff": 15
           },
           "zerolinecolor": "white",
           "zerolinewidth": 2
          }
         }
        },
        "title": {
         "text": "Análisis de impacto acceso internet Pruebas Saber 11 - Nivel Bogotá"
        },
        "xaxis": {
         "anchor": "y",
         "automargin": true,
         "domain": [
          0,
          0.94
         ],
         "nticks": 5,
         "tickformat": "%Y",
         "title": {
          "text": "Año de presentación"
         }
        },
        "yaxis": {
         "anchor": "x",
         "domain": [
          0,
          1
         ],
         "title": {
          "text": "Porcentaje de estudiantes con y sin internet"
         }
        },
        "yaxis2": {
         "anchor": "x",
         "overlaying": "y",
         "range": [
          200,
          300
         ],
         "side": "right",
         "title": {
          "text": "Puntaje promedio"
         }
        }
       }
      },
      "text/html": [
       "<div>                            <div id=\"557c35b6-3691-4d30-b065-4760e6c63ca1\" class=\"plotly-graph-div\" style=\"height:525px; width:100%;\"></div>            <script type=\"text/javascript\">                require([\"plotly\"], function(Plotly) {                    window.PLOTLYENV=window.PLOTLYENV || {};                                    if (document.getElementById(\"557c35b6-3691-4d30-b065-4760e6c63ca1\")) {                    Plotly.newPlot(                        \"557c35b6-3691-4d30-b065-4760e6c63ca1\",                        [{\"marker\": {\"color\": \"#45A5ED\"}, \"name\": \"Sin internet\", \"type\": \"bar\", \"x\": [\"2018-06-01T00:00:00\", \"2019-06-01T00:00:00\", \"2020-06-01T00:00:00\"], \"xaxis\": \"x\", \"y\": [12.680327868852459, 11.526374859708193, 7.259241567815726], \"yaxis\": \"y\"}, {\"marker\": {\"color\": \"#4472C4\"}, \"name\": \"Con internet\", \"type\": \"bar\", \"x\": [\"2018-06-01T00:00:00\", \"2019-06-01T00:00:00\", \"2020-06-01T00:00:00\"], \"xaxis\": \"x\", \"y\": [87.31967213114754, 88.47362514029182, 92.74075843218428], \"yaxis\": \"y\"}, {\"marker\": {\"color\": \"#E32D91\"}, \"name\": \"Puntaje sin internet\", \"type\": \"scatter\", \"x\": [\"2018-06-01T00:00:00\", \"2019-06-01T00:00:00\", \"2020-06-01T00:00:00\"], \"xaxis\": \"x\", \"y\": [249.29208606519532, 243.76879800930433, 237.4812648510327], \"yaxis\": \"y2\"}, {\"marker\": {\"color\": \"#5AA2AE\"}, \"name\": \"Puntaje con intertet\", \"type\": \"scatter\", \"x\": [\"2018-06-01T00:00:00\", \"2019-06-01T00:00:00\", \"2020-06-01T00:00:00\"], \"xaxis\": \"x\", \"y\": [274.67015327674295, 270.63798328329597, 270.34454538951286], \"yaxis\": \"y2\"}],                        {\"autosize\": true, \"template\": {\"data\": {\"bar\": [{\"error_x\": {\"color\": \"#2a3f5f\"}, \"error_y\": {\"color\": \"#2a3f5f\"}, \"marker\": {\"line\": {\"color\": \"#E5ECF6\", \"width\": 0.5}}, \"type\": \"bar\"}], \"barpolar\": [{\"marker\": {\"line\": {\"color\": \"#E5ECF6\", \"width\": 0.5}}, \"type\": \"barpolar\"}], \"carpet\": [{\"aaxis\": {\"endlinecolor\": \"#2a3f5f\", \"gridcolor\": \"white\", \"linecolor\": \"white\", \"minorgridcolor\": \"white\", \"startlinecolor\": \"#2a3f5f\"}, \"baxis\": {\"endlinecolor\": \"#2a3f5f\", \"gridcolor\": \"white\", \"linecolor\": \"white\", \"minorgridcolor\": \"white\", \"startlinecolor\": \"#2a3f5f\"}, \"type\": \"carpet\"}], \"choropleth\": [{\"colorbar\": {\"outlinewidth\": 0, \"ticks\": \"\"}, \"type\": \"choropleth\"}], \"contour\": [{\"colorbar\": {\"outlinewidth\": 0, \"ticks\": \"\"}, \"colorscale\": [[0.0, \"#0d0887\"], [0.1111111111111111, \"#46039f\"], [0.2222222222222222, \"#7201a8\"], [0.3333333333333333, \"#9c179e\"], [0.4444444444444444, \"#bd3786\"], [0.5555555555555556, \"#d8576b\"], [0.6666666666666666, \"#ed7953\"], [0.7777777777777778, \"#fb9f3a\"], [0.8888888888888888, \"#fdca26\"], [1.0, \"#f0f921\"]], \"type\": \"contour\"}], \"contourcarpet\": [{\"colorbar\": {\"outlinewidth\": 0, \"ticks\": \"\"}, \"type\": \"contourcarpet\"}], \"heatmap\": [{\"colorbar\": {\"outlinewidth\": 0, \"ticks\": \"\"}, \"colorscale\": [[0.0, \"#0d0887\"], [0.1111111111111111, \"#46039f\"], [0.2222222222222222, \"#7201a8\"], [0.3333333333333333, \"#9c179e\"], [0.4444444444444444, \"#bd3786\"], [0.5555555555555556, \"#d8576b\"], [0.6666666666666666, \"#ed7953\"], [0.7777777777777778, \"#fb9f3a\"], [0.8888888888888888, \"#fdca26\"], [1.0, \"#f0f921\"]], \"type\": \"heatmap\"}], \"heatmapgl\": [{\"colorbar\": {\"outlinewidth\": 0, \"ticks\": \"\"}, \"colorscale\": [[0.0, \"#0d0887\"], [0.1111111111111111, \"#46039f\"], [0.2222222222222222, \"#7201a8\"], [0.3333333333333333, \"#9c179e\"], [0.4444444444444444, \"#bd3786\"], [0.5555555555555556, \"#d8576b\"], [0.6666666666666666, \"#ed7953\"], [0.7777777777777778, \"#fb9f3a\"], [0.8888888888888888, \"#fdca26\"], [1.0, \"#f0f921\"]], \"type\": \"heatmapgl\"}], \"histogram\": [{\"marker\": {\"colorbar\": {\"outlinewidth\": 0, \"ticks\": \"\"}}, \"type\": \"histogram\"}], \"histogram2d\": [{\"colorbar\": {\"outlinewidth\": 0, \"ticks\": \"\"}, \"colorscale\": [[0.0, \"#0d0887\"], [0.1111111111111111, \"#46039f\"], [0.2222222222222222, \"#7201a8\"], [0.3333333333333333, \"#9c179e\"], [0.4444444444444444, \"#bd3786\"], [0.5555555555555556, \"#d8576b\"], [0.6666666666666666, \"#ed7953\"], [0.7777777777777778, \"#fb9f3a\"], [0.8888888888888888, \"#fdca26\"], [1.0, \"#f0f921\"]], \"type\": \"histogram2d\"}], \"histogram2dcontour\": [{\"colorbar\": {\"outlinewidth\": 0, \"ticks\": \"\"}, \"colorscale\": [[0.0, \"#0d0887\"], [0.1111111111111111, \"#46039f\"], [0.2222222222222222, \"#7201a8\"], [0.3333333333333333, \"#9c179e\"], [0.4444444444444444, \"#bd3786\"], [0.5555555555555556, \"#d8576b\"], [0.6666666666666666, \"#ed7953\"], [0.7777777777777778, \"#fb9f3a\"], [0.8888888888888888, \"#fdca26\"], [1.0, \"#f0f921\"]], \"type\": \"histogram2dcontour\"}], \"mesh3d\": [{\"colorbar\": {\"outlinewidth\": 0, \"ticks\": \"\"}, \"type\": \"mesh3d\"}], \"parcoords\": [{\"line\": {\"colorbar\": {\"outlinewidth\": 0, \"ticks\": \"\"}}, \"type\": \"parcoords\"}], \"pie\": [{\"automargin\": true, \"type\": \"pie\"}], \"scatter\": [{\"marker\": {\"colorbar\": {\"outlinewidth\": 0, \"ticks\": \"\"}}, \"type\": \"scatter\"}], \"scatter3d\": [{\"line\": {\"colorbar\": {\"outlinewidth\": 0, \"ticks\": \"\"}}, \"marker\": {\"colorbar\": {\"outlinewidth\": 0, \"ticks\": \"\"}}, \"type\": \"scatter3d\"}], \"scattercarpet\": [{\"marker\": {\"colorbar\": {\"outlinewidth\": 0, \"ticks\": \"\"}}, \"type\": \"scattercarpet\"}], \"scattergeo\": [{\"marker\": {\"colorbar\": {\"outlinewidth\": 0, \"ticks\": \"\"}}, \"type\": \"scattergeo\"}], \"scattergl\": [{\"marker\": {\"colorbar\": {\"outlinewidth\": 0, \"ticks\": \"\"}}, \"type\": \"scattergl\"}], \"scattermapbox\": [{\"marker\": {\"colorbar\": {\"outlinewidth\": 0, \"ticks\": \"\"}}, \"type\": \"scattermapbox\"}], \"scatterpolar\": [{\"marker\": {\"colorbar\": {\"outlinewidth\": 0, \"ticks\": \"\"}}, \"type\": \"scatterpolar\"}], \"scatterpolargl\": [{\"marker\": {\"colorbar\": {\"outlinewidth\": 0, \"ticks\": \"\"}}, \"type\": \"scatterpolargl\"}], \"scatterternary\": [{\"marker\": {\"colorbar\": {\"outlinewidth\": 0, \"ticks\": \"\"}}, \"type\": \"scatterternary\"}], \"surface\": [{\"colorbar\": {\"outlinewidth\": 0, \"ticks\": \"\"}, \"colorscale\": [[0.0, \"#0d0887\"], [0.1111111111111111, \"#46039f\"], [0.2222222222222222, \"#7201a8\"], [0.3333333333333333, \"#9c179e\"], [0.4444444444444444, \"#bd3786\"], [0.5555555555555556, \"#d8576b\"], [0.6666666666666666, \"#ed7953\"], [0.7777777777777778, \"#fb9f3a\"], [0.8888888888888888, \"#fdca26\"], [1.0, \"#f0f921\"]], \"type\": \"surface\"}], \"table\": [{\"cells\": {\"fill\": {\"color\": \"#EBF0F8\"}, \"line\": {\"color\": \"white\"}}, \"header\": {\"fill\": {\"color\": \"#C8D4E3\"}, \"line\": {\"color\": \"white\"}}, \"type\": \"table\"}]}, \"layout\": {\"annotationdefaults\": {\"arrowcolor\": \"#2a3f5f\", \"arrowhead\": 0, \"arrowwidth\": 1}, \"autotypenumbers\": \"strict\", \"coloraxis\": {\"colorbar\": {\"outlinewidth\": 0, \"ticks\": \"\"}}, \"colorscale\": {\"diverging\": [[0, \"#8e0152\"], [0.1, \"#c51b7d\"], [0.2, \"#de77ae\"], [0.3, \"#f1b6da\"], [0.4, \"#fde0ef\"], [0.5, \"#f7f7f7\"], [0.6, \"#e6f5d0\"], [0.7, \"#b8e186\"], [0.8, \"#7fbc41\"], [0.9, \"#4d9221\"], [1, \"#276419\"]], \"sequential\": [[0.0, \"#0d0887\"], [0.1111111111111111, \"#46039f\"], [0.2222222222222222, \"#7201a8\"], [0.3333333333333333, \"#9c179e\"], [0.4444444444444444, \"#bd3786\"], [0.5555555555555556, \"#d8576b\"], [0.6666666666666666, \"#ed7953\"], [0.7777777777777778, \"#fb9f3a\"], [0.8888888888888888, \"#fdca26\"], [1.0, \"#f0f921\"]], \"sequentialminus\": [[0.0, \"#0d0887\"], [0.1111111111111111, \"#46039f\"], [0.2222222222222222, \"#7201a8\"], [0.3333333333333333, \"#9c179e\"], [0.4444444444444444, \"#bd3786\"], [0.5555555555555556, \"#d8576b\"], [0.6666666666666666, \"#ed7953\"], [0.7777777777777778, \"#fb9f3a\"], [0.8888888888888888, \"#fdca26\"], [1.0, \"#f0f921\"]]}, \"colorway\": [\"#636efa\", \"#EF553B\", \"#00cc96\", \"#ab63fa\", \"#FFA15A\", \"#19d3f3\", \"#FF6692\", \"#B6E880\", \"#FF97FF\", \"#FECB52\"], \"font\": {\"color\": \"#2a3f5f\"}, \"geo\": {\"bgcolor\": \"white\", \"lakecolor\": \"white\", \"landcolor\": \"#E5ECF6\", \"showlakes\": true, \"showland\": true, \"subunitcolor\": \"white\"}, \"hoverlabel\": {\"align\": \"left\"}, \"hovermode\": \"closest\", \"mapbox\": {\"style\": \"light\"}, \"paper_bgcolor\": \"white\", \"plot_bgcolor\": \"#E5ECF6\", \"polar\": {\"angularaxis\": {\"gridcolor\": \"white\", \"linecolor\": \"white\", \"ticks\": \"\"}, \"bgcolor\": \"#E5ECF6\", \"radialaxis\": {\"gridcolor\": \"white\", \"linecolor\": \"white\", \"ticks\": \"\"}}, \"scene\": {\"xaxis\": {\"backgroundcolor\": \"#E5ECF6\", \"gridcolor\": \"white\", \"gridwidth\": 2, \"linecolor\": \"white\", \"showbackground\": true, \"ticks\": \"\", \"zerolinecolor\": \"white\"}, \"yaxis\": {\"backgroundcolor\": \"#E5ECF6\", \"gridcolor\": \"white\", \"gridwidth\": 2, \"linecolor\": \"white\", \"showbackground\": true, \"ticks\": \"\", \"zerolinecolor\": \"white\"}, \"zaxis\": {\"backgroundcolor\": \"#E5ECF6\", \"gridcolor\": \"white\", \"gridwidth\": 2, \"linecolor\": \"white\", \"showbackground\": true, \"ticks\": \"\", \"zerolinecolor\": \"white\"}}, \"shapedefaults\": {\"line\": {\"color\": \"#2a3f5f\"}}, \"ternary\": {\"aaxis\": {\"gridcolor\": \"white\", \"linecolor\": \"white\", \"ticks\": \"\"}, \"baxis\": {\"gridcolor\": \"white\", \"linecolor\": \"white\", \"ticks\": \"\"}, \"bgcolor\": \"#E5ECF6\", \"caxis\": {\"gridcolor\": \"white\", \"linecolor\": \"white\", \"ticks\": \"\"}}, \"title\": {\"x\": 0.05}, \"xaxis\": {\"automargin\": true, \"gridcolor\": \"white\", \"linecolor\": \"white\", \"ticks\": \"\", \"title\": {\"standoff\": 15}, \"zerolinecolor\": \"white\", \"zerolinewidth\": 2}, \"yaxis\": {\"automargin\": true, \"gridcolor\": \"white\", \"linecolor\": \"white\", \"ticks\": \"\", \"title\": {\"standoff\": 15}, \"zerolinecolor\": \"white\", \"zerolinewidth\": 2}}}, \"title\": {\"text\": \"An\\u00e1lisis de impacto acceso internet Pruebas Saber 11 - Nivel Bogot\\u00e1\"}, \"xaxis\": {\"anchor\": \"y\", \"automargin\": true, \"domain\": [0.0, 0.94], \"nticks\": 5, \"tickformat\": \"%Y\", \"title\": {\"text\": \"A\\u00f1o de presentaci\\u00f3n\"}}, \"yaxis\": {\"anchor\": \"x\", \"domain\": [0.0, 1.0], \"title\": {\"text\": \"Porcentaje de estudiantes con y sin internet\"}}, \"yaxis2\": {\"anchor\": \"x\", \"overlaying\": \"y\", \"range\": [200, 300], \"side\": \"right\", \"title\": {\"text\": \"Puntaje promedio\"}}},                        {\"responsive\": true}                    ).then(function(){\n",
       "                            \n",
       "var gd = document.getElementById('557c35b6-3691-4d30-b065-4760e6c63ca1');\n",
       "var x = new MutationObserver(function (mutations, observer) {{\n",
       "        var display = window.getComputedStyle(gd).display;\n",
       "        if (!display || display === 'none') {{\n",
       "            console.log([gd, 'removed!']);\n",
       "            Plotly.purge(gd);\n",
       "            observer.disconnect();\n",
       "        }}\n",
       "}});\n",
       "\n",
       "// Listen for the removal of the full notebook cells\n",
       "var notebookContainer = gd.closest('#notebook-container');\n",
       "if (notebookContainer) {{\n",
       "    x.observe(notebookContainer, {childList: true});\n",
       "}}\n",
       "\n",
       "// Listen for the clearing of the current output cell\n",
       "var outputEl = gd.closest('.output');\n",
       "if (outputEl) {{\n",
       "    x.observe(outputEl, {childList: true});\n",
       "}}\n",
       "\n",
       "                        })                };                });            </script>        </div>"
      ]
     },
     "metadata": {},
     "output_type": "display_data"
    }
   ],
   "source": [
    "import plotly.graph_objects as go\n",
    "from plotly.subplots import make_subplots\n",
    "\n",
    "# Create figure with secondary y-axis\n",
    "fig = make_subplots(specs=[[{\"secondary_y\": True}]])\n",
    "\n",
    "# Add traces\n",
    "fig.add_trace(\n",
    "    go.Bar(marker_color=\"#45A5ED\", name='Sin internet', x=df_d_internet_s2.loc[df_d_internet['FAMI_TIENEINTERNET']=='No']['PERIODO'], y=df_d_internet_s2.loc[df_d_internet['FAMI_TIENEINTERNET']=='No']['ESTU_CONSECUTIVO']),\n",
    "    secondary_y=False,\n",
    ")\n",
    "\n",
    "fig.add_trace(\n",
    "    go.Bar(marker_color=\"#4472C4\", name='Con internet', x=df_d_internet_s2.loc[df_d_internet['FAMI_TIENEINTERNET']=='Si']['PERIODO'], y=df_d_internet_s2.loc[df_d_internet['FAMI_TIENEINTERNET']=='Si']['ESTU_CONSECUTIVO']),\n",
    "    secondary_y=False,\n",
    ")\n",
    "\n",
    "# Add traces\n",
    "fig.add_trace(\n",
    "    go.Line(marker_color=\"#E32D91\", name='Puntaje sin internet', x=df_d_internet_s2.loc[df_d_internet['FAMI_TIENEINTERNET']=='No']['PERIODO'], y=df_d_internet_s2.loc[df_d_internet['FAMI_TIENEINTERNET']=='No']['PUNT_GLOBAL']),\n",
    "    secondary_y=True,\n",
    ")\n",
    "\n",
    "fig.add_trace(\n",
    "    go.Line(marker_color=\"#5AA2AE\", name='Puntaje con intertet', x=df_d_internet_s2.loc[df_d_internet['FAMI_TIENEINTERNET']=='Si']['PERIODO'], y=df_d_internet_s2.loc[df_d_internet['FAMI_TIENEINTERNET']=='Si']['PUNT_GLOBAL']),\n",
    "    secondary_y=True,\n",
    ")\n",
    "\n",
    "# Add figure title\n",
    "fig.update_layout(\n",
    "    title_text=\"Double Y Axis Example\"\n",
    ")\n",
    "\n",
    "# Set x-axis title\n",
    "fig.update_xaxes(title_text=\"xaxis title\")\n",
    "\n",
    "# Set y-axes titles\n",
    "fig.update_yaxes(title_text=\"Porcentaje de estudiantes con y sin internet\", secondary_y=False)\n",
    "fig.update_yaxes(title_text=\"Puntaje promedio\", secondary_y=True, range=[200,300])\n",
    "fig.update_xaxes(title_text=\"Año de presentación\", nticks=5)\n",
    "fig.update_layout(xaxis=dict(tickformat=\"%Y\"))\n",
    "\n",
    "fig.update_layout(title_text='Análisis de impacto acceso internet Pruebas Saber 11 - Nivel Bogotá')\n",
    "fig.update_layout(\n",
    "    autosize=True)\n",
    "fig.layout.margin.r=10\n",
    "\n",
    "fig.show()"
   ]
  },
  {
   "cell_type": "code",
   "execution_count": null,
   "id": "cooperative-commons",
   "metadata": {},
   "outputs": [],
   "source": [
    "fig.add_trace?"
   ]
  },
  {
   "cell_type": "code",
   "execution_count": 136,
   "id": "treated-sister",
   "metadata": {},
   "outputs": [],
   "source": [
    "fig.write_html('docs/fami_bogota.html')"
   ]
  }
 ],
 "metadata": {
  "kernelspec": {
   "display_name": "Python 3",
   "language": "python",
   "name": "python3"
  },
  "language_info": {
   "codemirror_mode": {
    "name": "ipython",
    "version": 3
   },
   "file_extension": ".py",
   "mimetype": "text/x-python",
   "name": "python",
   "nbconvert_exporter": "python",
   "pygments_lexer": "ipython3",
   "version": "3.9.2"
  }
 },
 "nbformat": 4,
 "nbformat_minor": 5
}
